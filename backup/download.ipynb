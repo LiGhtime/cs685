{
 "cells": [
  {
   "cell_type": "code",
   "execution_count": null,
   "metadata": {},
   "outputs": [],
   "source": [
    "# download meta data\n",
    "import requests\n",
    "\n",
    "# URL of the file you want to download\n",
    "# url = 'https://datarepo.eng.ucsd.edu/mcauley_group/data/amazon_2023/raw/review_categories/Movies_and_TV.jsonl.gz'\n",
    "url = 'https://datarepo.eng.ucsd.edu/mcauley_group/data/amazon_2023/raw/meta_categories/meta_Movies_and_TV.jsonl.gz'\n",
    "\n",
    "# The local path where you want to save the file\n",
    "# file_path = './data/Movies_and_TV.jsonl.gz'\n",
    "file_path = '../data/meta_Movies_and_TV.jsonl.gz'\n",
    "\n",
    "# Perform the download\n",
    "response = requests.get(url, stream=True)\n",
    "\n",
    "# Check if the request was successful\n",
    "if response.status_code == 200:\n",
    "    # Open the file path as a binary file and write the content into it\n",
    "    with open(file_path, 'wb') as file:\n",
    "        for chunk in response.iter_content(chunk_size=128):\n",
    "            file.write(chunk)\n",
    "    print(f\"File downloaded successfully and saved as {file_path}\")\n",
    "else:\n",
    "    print(f\"Failed to download the file. Status code: {response.status_code}\")"
   ]
  },
  {
   "cell_type": "code",
   "execution_count": 1,
   "metadata": {},
   "outputs": [
    {
     "name": "stdout",
     "output_type": "stream",
     "text": [
      "File decompressed successfully and saved as ../data/meta_Movies_and_TV.jsonl\n"
     ]
    }
   ],
   "source": [
    "# unzip and read jsonl\n",
    "import gzip\n",
    "import shutil\n",
    "\n",
    "# The path of the compressed file\n",
    "# compressed_file = './data/Movies_and_TV.jsonl.gz'\n",
    "compressed_file  = '../data/meta_Movies_and_TV.jsonl.gz'\n",
    "\n",
    "# The path where the decompressed file will be saved\n",
    "# decompressed_file = './data/Movies_and_TV.jsonl'\n",
    "decompressed_file = '../data/meta_Movies_and_TV.jsonl'\n",
    "\n",
    "# Decompress the .gz file\n",
    "with gzip.open(compressed_file, 'rb') as f_in:\n",
    "    with open(decompressed_file, 'wb') as f_out:\n",
    "        shutil.copyfileobj(f_in, f_out)\n",
    "\n",
    "print(f\"File decompressed successfully and saved as {decompressed_file}\")"
   ]
  }
 ],
 "metadata": {
  "kernelspec": {
   "display_name": "unsloth_env",
   "language": "python",
   "name": "python3"
  },
  "language_info": {
   "codemirror_mode": {
    "name": "ipython",
    "version": 3
   },
   "file_extension": ".py",
   "mimetype": "text/x-python",
   "name": "python",
   "nbconvert_exporter": "python",
   "pygments_lexer": "ipython3",
   "version": "3.10.14"
  }
 },
 "nbformat": 4,
 "nbformat_minor": 2
}
