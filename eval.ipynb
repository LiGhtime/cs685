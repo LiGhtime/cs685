{
 "cells": [
  {
   "cell_type": "markdown",
   "metadata": {},
   "source": [
    "# 1. Recipricol Rank\n"
   ]
  },
  {
   "cell_type": "code",
   "execution_count": 80,
   "metadata": {},
   "outputs": [],
   "source": [
    "# read the prediction results dict\n",
    "import json\n",
    "\n",
    "def read_json(file):\n",
    "    with open(file, 'r') as f:\n",
    "        return json.load(f)\n",
    "\n",
    "results_dict = read_json('./eval_results/eval_051824_001816/predictions.json')"
   ]
  },
  {
   "cell_type": "code",
   "execution_count": 81,
   "metadata": {},
   "outputs": [
    {
     "name": "stdout",
     "output_type": "stream",
     "text": [
      "raw_input: \n",
      "Below is the previous historical purchases and reviews of the user:\n",
      "```\n",
      "Item title: Massenet - Manon / Fleming, Alvarez, Vernhes, Chaignaud, Lopez-Cobos, Paris Opera [DVD] \n",
      " Item description: This DVD introduces a production by Gilbert Deflo, which had its first performance at the Bastille opera in Paris in June 1997, conducted by Jesus Lopez-Cobos. It was an unforgettable experience thanks to the splendid historical costumes by William Orlando, the minimal décor, the sophisticated lighting as well as the musical excellence of the performers. It was also due to the charisma of Renée Fleming; she confessed in an interview, \"I think Manon is my favorite role. I love French music, it is so elegant and delicate stylistically. It has both dramatic and lyrical elements.\" Marcelo Alvarez was brilliant in the role of the Chevalier des Grieux, and among the other artists were Jean-Luc Chaignaud as Lescaut, Alain Vernhes as the Comte des Grieux, Michel Sénéchal as Guillot de Morfontaine and the choir and orchestra of l'Opéra de Paris. \n",
      " rating: 5.0 \n",
      " review: Gorgeous production with incredible voices, particularly the principles.  Deserves a lot better than 3.5 stars.  This is the production that made me fall in love with the opera.-------\n",
      "```\n",
      "And here is the user's intention: I really enjoyed the musical aspect and intricate storytelling in the previous movies I watched, so I would love to see a movie with a modern twist on beloved fairy tales.\n",
      "Please infer the user's preference based on historical purchases and reviews along with the user's intention, and then recommend an item for this user. Please provide the recommended item's title and description.\n",
      "*************************************************\n",
      "input: \n",
      "Below is the previous historical purchases and reviews of the user:```Item title: Massenet - Manon / Fleming, Alvarez, Vernhes, Chaignaud, Lopez-Cobos, Paris Opera [DVD]  Item description: This DVD introduces a production by Gilbert Deflo, which had its first performance at the Bastille opera in Paris in June 1997, conducted by Jesus Lopez-Cobos. It was an unforgettable experience thanks to the splendid historical costumes by William Orlando, the minimal décor, the sophisticated lighting as well as the musical excellence of the performers. It was also due to the charisma of Renée Fleming; she confessed in an interview, \"I think Manon is my favorite role. I love French music, it is so elegant and delicate stylistically. It has both dramatic and lyrical elements.\" Marcelo Alvarez was brilliant in the role of the Chevalier des Grieux, and among the other artists were Jean-Luc Chaignaud as Lescaut, Alain Vernhes as the Comte des Grieux, Michel Sénéchal as Guillot de Morfontaine and the choir and orchestra of l'Opéra de Paris.  rating: 5.0  review: Gorgeous production with incredible voices, particularly the principles.  Deserves a lot better than 3.5 stars.  This is the production that made me fall in love with the opera.-------```And here is the user's intention: I really enjoyed the musical aspect and intricate storytelling in the previous movies I watched, so I would love to see a movie with a modern twist on beloved fairy tales.Please infer the user's preference based on historical purchases and reviews along with the user's intention, and then recommend an item for this user. Please just give the title of the recommended item.\n",
      "*************************************************\n",
      "ground_truth: \n",
      "Title: Into The Woods \n",
      " Description: From the director of CHICAGO and the producer of WICKED comes a modern twist on the beloved fairy tales you thought you knew. Meryl Streep stars in this epic musical saga about daring to venture INTO THE WOODS. Iconic characters, such as Cinderella, Little Red Riding Hood, Jack and the Beanstalk and Rapunzel, find their fates intertwined with a humble baker and his wife, whose longing to have a child sends them on a quest to reverse a witch's (Streep) curse. With an all-star cast, this spellbinding adventure is everything you could ever wish for.\n",
      "*************************************************\n",
      "generated_responses: \n",
      "[{'sequence': 'Title: The Little Mermaid (2008)', 'score': None}]\n",
      "*************************************************\n"
     ]
    }
   ],
   "source": [
    "for i in range(len(results_dict)):\n",
    "    print('raw_input: ')\n",
    "    print(results_dict[str(i)]['raw_input'])\n",
    "    print('*************************************************')\n",
    "    print('input: ')\n",
    "    print(results_dict[str(i)]['input'])\n",
    "    print('*************************************************')\n",
    "    print('ground_truth: ')\n",
    "    print(results_dict[str(i)]['ground_truth'])\n",
    "    print('*************************************************')\n",
    "    print('generated_responses: ')\n",
    "    print(results_dict[str(i)]['generated_responses'])\n",
    "    print('*************************************************')\n",
    "    break"
   ]
  },
  {
   "cell_type": "code",
   "execution_count": 82,
   "metadata": {},
   "outputs": [],
   "source": [
    "# calculate the reciprocal rank\n",
    "reciprocal_rank_list = []\n",
    "for i in range(len(results_dict)):\n",
    "    reciprocal_rank = 0\n",
    "    ground_truth = results_dict[str(i)]['ground_truth']\n",
    "    if ground_truth.startswith(\"Title\"):\n",
    "        ground_truth = ground_truth.split(\"Description:\")[0].strip().strip(\"\\n\").strip(\"Title: \")\n",
    "    generated_responses = results_dict[str(i)]['generated_responses']\n",
    "\n",
    "    for j in range(len(generated_responses)):\n",
    "        # # furthur extract the sequence if generated_responses's output is \"Title: xxx Description: xxx\"\n",
    "        # # If in the output, it has \"Description: \", we pick the sequence before \"Description: \" and after \"Title: \"\n",
    "        # if \"Description:\" in generated_responses[j]['sequence']:\n",
    "        #     if generated_responses[j]['sequence'].startswith(\"Title\"):\n",
    "        #         generated_responses[j]['sequence'] = generated_responses[j]['sequence'].split(\"Description:\")[0].strip().strip(\"\\n\").strip(\"Title: \")\n",
    "        # else:\n",
    "        #     # if the output is \"Title: xxx\", we pick the sequence after \"Title: \"\n",
    "        #     if generated_responses[j]['sequence'].startswith(\"Title\"):\n",
    "        #         generated_responses[j]['sequence'] = generated_responses[j]['sequence'].strip().strip(\"\\n\").strip(\"Title: \")\n",
    "        # print('generated_responses: ', generated_responses[j]['sequence'])\n",
    "        if ground_truth == generated_responses[j]['sequence']:\n",
    "            reciprocal_rank = 1 / (j + 1)\n",
    "            break\n",
    "    reciprocal_rank_list.append(reciprocal_rank)"
   ]
  },
  {
   "cell_type": "code",
   "execution_count": 73,
   "metadata": {},
   "outputs": [
    {
     "data": {
      "text/plain": [
       "0.0"
      ]
     },
     "execution_count": 73,
     "metadata": {},
     "output_type": "execute_result"
    }
   ],
   "source": [
    "import numpy as np\n",
    "\n",
    "np.mean(reciprocal_rank_list)"
   ]
  },
  {
   "cell_type": "markdown",
   "metadata": {},
   "source": [
    "# 2. Category match rate metrics"
   ]
  },
  {
   "cell_type": "code",
   "execution_count": 5,
   "metadata": {},
   "outputs": [],
   "source": [
    "# construct training data for the model\n",
    "# import json\n",
    "\n",
    "# # Function to read a .jsonl file\n",
    "# def read_jsonl(file_path):\n",
    "#     data = []\n",
    "#     with open(file_path, 'r') as file:\n",
    "#         for line in file:\n",
    "#             # Parse each line as JSON and append to the data list\n",
    "#             data.append(json.loads(line))\n",
    "#             # break\n",
    "#     return data\n",
    "\n",
    "# movies_meta_data = read_jsonl('./data/meta_Movies_and_TV.jsonl')\n",
    "\n",
    "# use pandas dataframe to load the meta data\n",
    "import pandas as pd\n",
    "\n",
    "# Read the dataframe\n",
    "movies_meta_data = pd.read_json('./data/meta_Movies_and_TV.jsonl', lines=True)\n",
    "\n",
    "# import gc\n",
    "\n",
    "# # Delete the dataframe\n",
    "# del movies_meta_data\n",
    "\n",
    "# # Run garbage collector to free up memory\n",
    "# gc.collect()"
   ]
  },
  {
   "cell_type": "code",
   "execution_count": 6,
   "metadata": {},
   "outputs": [
    {
     "data": {
      "text/plain": [
       "main_category                                            Prime Video\n",
       "title                                                           Glee\n",
       "subtitle                                        UnentitledUnentitled\n",
       "average_rating                                                   4.7\n",
       "rating_number                                                 2004.0\n",
       "features                 [IMDb 6.8, 2013, 22 episodes, X-Ray, TV-14]\n",
       "description        [Entering its fourth season, this year the mem...\n",
       "price                                                          22.39\n",
       "images             [{'360w': 'https://images-na.ssl-images-amazon...\n",
       "videos                                                            []\n",
       "store                                                           None\n",
       "categories         [Comedy, Drama, Arts, Entertainment, and Cultu...\n",
       "details            {'Content advisory': ['Violence', 'substance u...\n",
       "parent_asin                                               B00ABWKL3I\n",
       "bought_together                                                  NaN\n",
       "author                                                           NaN\n",
       "Name: 0, dtype: object"
      ]
     },
     "execution_count": 6,
     "metadata": {},
     "output_type": "execute_result"
    }
   ],
   "source": [
    "movies_meta_data.iloc[0]"
   ]
  },
  {
   "cell_type": "code",
   "execution_count": 7,
   "metadata": {},
   "outputs": [],
   "source": [
    "def precision_recall_f1(ground_truth_categories, recommended_categories):\n",
    "    match_count = len(set(ground_truth_categories).intersection(set(recommended_categories)))\n",
    "    precision = match_count / len(recommended_categories) if recommended_categories else 0\n",
    "    recall = match_count / len(ground_truth_categories) if ground_truth_categories else 0\n",
    "\n",
    "    f1_score = 2 * (precision * recall) / (precision + recall) if (precision + recall) > 0 else 0\n",
    "\n",
    "    return precision, recall, f1_score\n",
    "\n",
    "def jaccard_similarity(categories1, categories2):\n",
    "    intersection = len(set(categories1).intersection(set(categories2)))\n",
    "    union = len(set(categories1).union(set(categories2)))\n",
    "\n",
    "    return intersection / union if union != 0 else 0"
   ]
  },
  {
   "cell_type": "code",
   "execution_count": 7,
   "metadata": {},
   "outputs": [
    {
     "data": {
      "text/plain": [
       "(0.6666666666666666, 1.0, 0.8)"
      ]
     },
     "execution_count": 7,
     "metadata": {},
     "output_type": "execute_result"
    }
   ],
   "source": [
    "precision_recall_f1([\"children\", \"family\"], [\"children\", \"family\", \"animation\"])"
   ]
  },
  {
   "cell_type": "code",
   "execution_count": 64,
   "metadata": {},
   "outputs": [],
   "source": [
    "# calculate category match rate metrics\n",
    "f1_list = []\n",
    "jaccard_similarity_list = []\n",
    "count_hallucination = 0\n",
    "for i in range(len(results_dict)):\n",
    "    # get the ground_truth movie title\n",
    "    ground_truth = results_dict[str(i)]['ground_truth']\n",
    "    if ground_truth.startswith(\"Title\"):\n",
    "        ground_truth = ground_truth.split(\"Description:\")[0].strip().strip(\"\\n\")[6:].strip()\n",
    "    ground_truth_categories = movies_meta_data[movies_meta_data['title'] == ground_truth]['categories'].tolist()[0]\n",
    "    generated_responses = results_dict[str(i)]['generated_responses']\n",
    "    recommended_categories_metrics_f1 = []\n",
    "    recommended_categories_metrics_jaccard = []\n",
    "    for j in range(len(generated_responses)):\n",
    "        recommended_title = generated_responses[j]['sequence']\n",
    "        try:\n",
    "            recommended_categories = movies_meta_data[movies_meta_data['title'] == recommended_title]['categories'].tolist()[0]\n",
    "        except IndexError:\n",
    "            count_hallucination += 1\n",
    "            print(recommended_title, count_hallucination)\n",
    "            print(movies_meta_data[movies_meta_data['title'] == recommended_title]['categories'])\n",
    "            recommended_categories = [\"incorrect\"]\n",
    "        #     continue\n",
    "        # print(recommended_categories\n",
    "        recommended_categories_metrics_f1.append(precision_recall_f1(ground_truth_categories, recommended_categories))\n",
    "        recommended_categories_metrics_jaccard.append(jaccard_similarity(ground_truth_categories, recommended_categories))\n",
    "    f1_list.append(recommended_categories_metrics_f1)\n",
    "    jaccard_similarity_list.append(recommended_categories_metrics_jaccard)"
   ]
  },
  {
   "cell_type": "code",
   "execution_count": 65,
   "metadata": {},
   "outputs": [
    {
     "data": {
      "text/plain": [
       "(0.5050778240098628, 0.4140083217753121)"
      ]
     },
     "execution_count": 65,
     "metadata": {},
     "output_type": "execute_result"
    }
   ],
   "source": [
    "import numpy as np\n",
    "\n",
    "f1_max_list = []\n",
    "jaccard_similarity_max_list = []\n",
    "for i in range(len(results_dict)):\n",
    "    f1_list_for_one_result = []\n",
    "    jaccard_similarity_list_for_one_result = []\n",
    "    for j in range(len(generated_responses)):\n",
    "        f1_list_for_one_result.append(f1_list[i][j][2])\n",
    "        jaccard_similarity_list_for_one_result.append(jaccard_similarity_list[i][j])\n",
    "        \n",
    "    # take max of each list\n",
    "    f1_max_list.append(max(f1_list_for_one_result))\n",
    "    jaccard_similarity_max_list.append(max(jaccard_similarity_list_for_one_result))\n",
    "    \n",
    "np.mean(f1_max_list), np.mean(jaccard_similarity_max_list)"
   ]
  },
  {
   "cell_type": "markdown",
   "metadata": {},
   "source": [
    "# 3. If all recommendation is random selection. What is the expected value of the metrics?"
   ]
  },
  {
   "cell_type": "code",
   "execution_count": 51,
   "metadata": {},
   "outputs": [
    {
     "data": {
      "text/plain": [
       "29205"
      ]
     },
     "execution_count": 51,
     "metadata": {},
     "output_type": "execute_result"
    }
   ],
   "source": [
    "import json\n",
    "# asins_small.json to be used for meta data matching\n",
    "json_file_asins = './data/asins_small.json'\n",
    "# json_file_asins = './data/meta_asins.json'\n",
    "with open(json_file_asins, \"r\") as file:\n",
    "    asin_dict = json.load(file)\n",
    "    \n",
    "len(asin_dict)"
   ]
  },
  {
   "cell_type": "code",
   "execution_count": 52,
   "metadata": {},
   "outputs": [],
   "source": [
    "import random\n",
    "def get_random_recommendation(num_of_recommendation, asin_dict):\n",
    "    random_asin_list = random.sample(list(asin_dict.keys()), num_of_recommendation)\n",
    "    random_movie_list = []\n",
    "    for asin in random_asin_list:\n",
    "        random_movie_list.append(asin_dict[asin][0])\n",
    "    return random_movie_list"
   ]
  },
  {
   "cell_type": "code",
   "execution_count": 53,
   "metadata": {},
   "outputs": [
    {
     "data": {
      "text/plain": [
       "['Saved!',\n",
       " \"Who's That Girl (DVD)\",\n",
       " 'Yes Virginia, There Is a Santa Claus [DVD]',\n",
       " 'Marie Antoinette (Widescreen)',\n",
       " 'TV Comedy Classics V.1']"
      ]
     },
     "execution_count": 53,
     "metadata": {},
     "output_type": "execute_result"
    }
   ],
   "source": [
    "get_random_recommendation(5, asin_dict)"
   ]
  },
  {
   "cell_type": "code",
   "execution_count": 54,
   "metadata": {},
   "outputs": [],
   "source": [
    "# calculate the reciprocal rank\n",
    "reciprocal_rank_list = []\n",
    "for i in range(len(results_dict)):\n",
    "    reciprocal_rank = 0\n",
    "    ground_truth = results_dict[str(i)]['ground_truth']\n",
    "    if ground_truth.startswith(\"Title\"):\n",
    "        ground_truth = ground_truth.split(\"Description:\")[0].strip().strip(\"\\n\").strip(\"Title: \")\n",
    "    generated_responses = get_random_recommendation(5, asin_dict)\n",
    "    for j in range(len(generated_responses)):\n",
    "        if ground_truth == generated_responses[j]:\n",
    "            reciprocal_rank = 1 / (j + 1)\n",
    "            break\n",
    "    \n",
    "    reciprocal_rank_list.append(reciprocal_rank)"
   ]
  },
  {
   "cell_type": "code",
   "execution_count": 56,
   "metadata": {},
   "outputs": [
    {
     "data": {
      "text/plain": [
       "(0, 0.0)"
      ]
     },
     "execution_count": 56,
     "metadata": {},
     "output_type": "execute_result"
    }
   ],
   "source": [
    "import numpy as np\n",
    "\n",
    "np.sum(reciprocal_rank_list),  \\\n",
    "np.mean(reciprocal_rank_list)"
   ]
  },
  {
   "cell_type": "code",
   "execution_count": 75,
   "metadata": {},
   "outputs": [],
   "source": [
    "# calculate category match rate metrics\n",
    "f1_list = []\n",
    "jaccard_similarity_list = []\n",
    "count_hallucination = 0\n",
    "for i in range(len(results_dict)):\n",
    "    # get the ground_truth movie title\n",
    "    ground_truth = results_dict[str(i)]['ground_truth']\n",
    "    if ground_truth.startswith(\"Title\"):\n",
    "        ground_truth = ground_truth.split(\"Description:\")[0].strip().strip(\"\\n\")[6:].strip()\n",
    "    ground_truth_categories = movies_meta_data[movies_meta_data['title'] == ground_truth]['categories'].tolist()[0]\n",
    "    generated_responses = get_random_recommendation(5, asin_dict)\n",
    "    recommended_categories_metrics_f1 = []\n",
    "    recommended_categories_metrics_jaccard = []\n",
    "    for j in range(len(generated_responses)):\n",
    "        recommended_title = generated_responses[j]\n",
    "        try:\n",
    "            recommended_categories = movies_meta_data[movies_meta_data['title'] == recommended_title]['categories'].tolist()[0]\n",
    "        except IndexError:\n",
    "            count_hallucination += 1\n",
    "            print(recommended_title, count_hallucination)\n",
    "            print(movies_meta_data[movies_meta_data['title'] == recommended_title]['categories'])\n",
    "            recommended_categories = [\"incorrect\"]\n",
    "        #     continue\n",
    "        # print(recommended_categories\n",
    "        recommended_categories_metrics_f1.append(precision_recall_f1(ground_truth_categories, recommended_categories))\n",
    "        recommended_categories_metrics_jaccard.append(jaccard_similarity(ground_truth_categories, recommended_categories))\n",
    "    f1_list.append(recommended_categories_metrics_f1)\n",
    "    jaccard_similarity_list.append(recommended_categories_metrics_jaccard)"
   ]
  },
  {
   "cell_type": "code",
   "execution_count": 76,
   "metadata": {},
   "outputs": [
    {
     "data": {
      "text/plain": [
       "(0.40058560641084906, 0.2909385113268609)"
      ]
     },
     "execution_count": 76,
     "metadata": {},
     "output_type": "execute_result"
    }
   ],
   "source": [
    "import numpy as np\n",
    "\n",
    "f1_max_list = []\n",
    "jaccard_similarity_max_list = []\n",
    "for i in range(len(results_dict)):\n",
    "    f1_list_for_one_result = []\n",
    "    jaccard_similarity_list_for_one_result = []\n",
    "    for j in range(len(generated_responses)):\n",
    "        f1_list_for_one_result.append(f1_list[i][j][2])\n",
    "        jaccard_similarity_list_for_one_result.append(jaccard_similarity_list[i][j])\n",
    "        \n",
    "    # take max of each list\n",
    "    f1_max_list.append(max(f1_list_for_one_result))\n",
    "    jaccard_similarity_max_list.append(max(jaccard_similarity_list_for_one_result))\n",
    "    \n",
    "np.mean(f1_max_list), np.mean(jaccard_similarity_max_list)"
   ]
  }
 ],
 "metadata": {
  "kernelspec": {
   "display_name": "unsloth_env",
   "language": "python",
   "name": "python3"
  },
  "language_info": {
   "codemirror_mode": {
    "name": "ipython",
    "version": 3
   },
   "file_extension": ".py",
   "mimetype": "text/x-python",
   "name": "python",
   "nbconvert_exporter": "python",
   "pygments_lexer": "ipython3",
   "version": "3.10.14"
  }
 },
 "nbformat": 4,
 "nbformat_minor": 2
}
