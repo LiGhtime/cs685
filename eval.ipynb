{
 "cells": [
  {
   "cell_type": "markdown",
   "metadata": {},
   "source": [
    "# 1. Recipricol Rank\n"
   ]
  },
  {
   "cell_type": "code",
   "execution_count": 1,
   "metadata": {},
   "outputs": [],
   "source": [
    "# read the prediction results dict\n",
    "import json\n",
    "\n",
    "def read_json(file):\n",
    "    with open(file, 'r') as f:\n",
    "        return json.load(f)\n",
    "\n",
    "results_dict = read_json('./eval_results/eval_051624_151124/predictions.json')"
   ]
  },
  {
   "cell_type": "code",
   "execution_count": 2,
   "metadata": {},
   "outputs": [
    {
     "name": "stdout",
     "output_type": "stream",
     "text": [
      "raw_input: \n",
      "Below is the previous historical purchases and reviews of the user:\n",
      "```\n",
      "Item title: The Gathering \n",
      " Item description: Product Description Gathering, The (1976 TVM) (DVD) Edward Asner and Maureen Stapleton star in this poignant and heartwarming story of the reconciliation between a successful businessman and the family he long ago abandoned to pursue a career. When Adam Thornton (Asner) learns that he is terminally ill, his estranged wife (Stapleton) insists that he spend one last Christmas with his now-adult children. Adam agrees--but insists that they not know of his illness. Now, in an idyllic, snow-covered New England town, the Thornton family tries to find reunion before it is too late. ]]> Amazon.com A fondly remembered holiday item from the latter phase of a great age of TV movies, The Gathering has an irresistible idea and a splendid central performance from Edward Asner, the actor for whom the term gruff but lovable was surely coined. We learn in the opening seconds of the film that Asner's character, a well-to-do businessman named Adam Thornton, has been diagnosed with a terminal illness; he's got three months left, at best. Time to make amends, and Adam reaches out to his ex-wife (Maureen Stapleton) and his mostly estranged kids for a final Christmas gathering. You won't find many surprises along the way, but the script by veteran screenwriter James Poe takes time for the small things, and gives Asner a believably conflicted character to play. It's directed by Randal Kleiser, who was just a year away from jumping to a big-screen career and scoring a smash with Grease . There's also some interest in watching a batch of young actors in the early stages of their careers: Bruce Davison, Gregory Harrison, Veronica Hamel, and Stephanie Zimbalist are in the Thornton extended family. If The Gathering has the basic look and feel of a TV movie (with wintry location work in Ohio), it nevertheless creates an honest, earned glow as it sorts through one man's final accounting of what has mattered in his life. --Robert Horton \n",
      " rating: 5.0 \n",
      " review: This version is an OFFICIAL release by MGM studios with closed captioning.<br /><br />Yes the movie looks a little dated, the clothes, the cars, etc...but that's just the external stuff.<br /><br />The story itself is timeless.<br /><br />It's nice to finally have on dvd with captions.  Thanks MGM and Amazon.-------\n",
      "Item title: 84 Charing Cross Road \n",
      " Item description: An American writer forms an enduring relationship with a London bookseller which is carried on over 20 years and across two continents. Genre: Feature Film-Drama Rating: PG Release Date: 23-SEP-2003 Media Type: DVD \n",
      " rating: 5.0 \n",
      " review: I bought the book because of  this movie.  Even when I read it I hear the voices of the these two wonderful actors.-------\n",
      "Please infer the user's preference based on historical purchases and reviews, and then recommend an item for this user. Please just give the title of the recommended item.\n",
      "*************************************************\n",
      "input: \n",
      "Below is the previous historical purchases and reviews of the user:\n",
      "```\n",
      "Item title: The Gathering \n",
      " Item description: Product Description Gathering, The (1976 TVM) (DVD) Edward Asner and Maureen Stapleton star in this poignant and heartwarming story of the reconciliation between a successful businessman and the family he long ago abandoned to pursue a career. When Adam Thornton (Asner) learns that he is terminally ill, his estranged wife (Stapleton) insists that he spend one last Christmas with his now-adult children. Adam agrees--but insists that they not know of his illness. Now, in an idyllic, snow-covered New England town, the Thornton family tries to find reunion before it is too late. ]]> Amazon.com A fondly remembered holiday item from the latter phase of a great age of TV movies, The Gathering has an irresistible idea and a splendid central performance from Edward Asner, the actor for whom the term gruff but lovable was surely coined. We learn in the opening seconds of the film that Asner's character, a well-to-do businessman named Adam Thornton, has been diagnosed with a terminal illness; he's got three months left, at best. Time to make amends, and Adam reaches out to his ex-wife (Maureen Stapleton) and his mostly estranged kids for a final Christmas gathering. You won't find many surprises along the way, but the script by veteran screenwriter James Poe takes time for the small things, and gives Asner a believably conflicted character to play. It's directed by Randal Kleiser, who was just a year away from jumping to a big-screen career and scoring a smash with Grease . There's also some interest in watching a batch of young actors in the early stages of their careers: Bruce Davison, Gregory Harrison, Veronica Hamel, and Stephanie Zimbalist are in the Thornton extended family. If The Gathering has the basic look and feel of a TV movie (with wintry location work in Ohio), it nevertheless creates an honest, earned glow as it sorts through one man's final accounting of what has mattered in his life. --Robert Horton \n",
      " rating: 5.0 \n",
      " review: This version is an OFFICIAL release by MGM studios with closed captioning.<br /><br />Yes the movie looks a little dated, the clothes, the cars, etc...but that's just the external stuff.<br /><br />The story itself is timeless.<br /><br />It's nice to finally have on dvd with captions.  Thanks MGM and Amazon.-------\n",
      "Item title: 84 Charing Cross Road \n",
      " Item description: An American writer forms an enduring relationship with a London bookseller which is carried on over 20 years and across two continents. Genre: Feature Film-Drama Rating: PG Release Date: 23-SEP-2003 Media Type: DVD \n",
      " rating: 5.0 \n",
      " review: I bought the book because of  this movie.  Even when I read it I hear the voices of the these two wonderful actors.-------\n",
      "Please infer the user's preference based on historical purchases and reviews, and then recommend an item for this user. Please just give the title of the recommended item.\n",
      "*************************************************\n",
      "ground_truth: \n",
      "La Femme Nikita: The Complete Second Season\n",
      "*************************************************\n",
      "generated_responses: \n",
      "[{'sequence': 'The Age Of Adaline', 'score': -0.88230961561203}, {'sequence': 'A Walk In The Woods', 'score': -0.9638252258300781}, {'sequence': 'The Secret Life of Pets 2', 'score': -1.455160140991211}, {'sequence': 'The Perfect Stranger', 'score': -2.4825439453125}, {'sequence': 'The Best of the Best of Electric Company', 'score': -3.564019203186035}]\n",
      "*************************************************\n"
     ]
    }
   ],
   "source": [
    "for i in range(len(results_dict)):\n",
    "    print('raw_input: ')\n",
    "    print(results_dict[str(i)]['raw_input'])\n",
    "    print('*************************************************')\n",
    "    print('input: ')\n",
    "    print(results_dict[str(i)]['input'])\n",
    "    print('*************************************************')\n",
    "    print('ground_truth: ')\n",
    "    print(results_dict[str(i)]['ground_truth'])\n",
    "    print('*************************************************')\n",
    "    print('generated_responses: ')\n",
    "    print(results_dict[str(i)]['generated_responses'])\n",
    "    print('*************************************************')\n",
    "    break"
   ]
  },
  {
   "cell_type": "code",
   "execution_count": 3,
   "metadata": {},
   "outputs": [],
   "source": [
    "# calculate the reciprocal rank\n",
    "reciprocal_rank_list = []\n",
    "for i in range(len(results_dict)):\n",
    "    reciprocal_rank = 0\n",
    "    ground_truth = results_dict[str(i)]['ground_truth']\n",
    "    if ground_truth.startswith(\"Title\"):\n",
    "        ground_truth = ground_truth.split(\"Description:\")[0].strip().strip(\"\\n\").strip(\"Title: \")\n",
    "    generated_responses = results_dict[str(i)]['generated_responses']\n",
    "    for j in range(len(generated_responses)):\n",
    "        if ground_truth == generated_responses[j]['sequence']:\n",
    "            reciprocal_rank = 1 / (j + 1)\n",
    "            break\n",
    "    reciprocal_rank_list.append(reciprocal_rank)"
   ]
  },
  {
   "cell_type": "code",
   "execution_count": 4,
   "metadata": {},
   "outputs": [
    {
     "data": {
      "text/plain": [
       "0.012135922330097087"
      ]
     },
     "execution_count": 4,
     "metadata": {},
     "output_type": "execute_result"
    }
   ],
   "source": [
    "import numpy as np\n",
    "\n",
    "np.mean(reciprocal_rank_list)"
   ]
  },
  {
   "cell_type": "markdown",
   "metadata": {},
   "source": [
    "# 2. Category match rate metrics"
   ]
  },
  {
   "cell_type": "code",
   "execution_count": 5,
   "metadata": {},
   "outputs": [],
   "source": [
    "# construct training data for the model\n",
    "# import json\n",
    "\n",
    "# # Function to read a .jsonl file\n",
    "# def read_jsonl(file_path):\n",
    "#     data = []\n",
    "#     with open(file_path, 'r') as file:\n",
    "#         for line in file:\n",
    "#             # Parse each line as JSON and append to the data list\n",
    "#             data.append(json.loads(line))\n",
    "#             # break\n",
    "#     return data\n",
    "\n",
    "# movies_meta_data = read_jsonl('./data/meta_Movies_and_TV.jsonl')\n",
    "\n",
    "# use pandas dataframe to load the meta data\n",
    "import pandas as pd\n",
    "\n",
    "# Read the dataframe\n",
    "movies_meta_data = pd.read_json('./data/meta_Movies_and_TV.jsonl', lines=True)\n",
    "\n",
    "# import gc\n",
    "\n",
    "# # Delete the dataframe\n",
    "# del movies_meta_data\n",
    "\n",
    "# # Run garbage collector to free up memory\n",
    "# gc.collect()"
   ]
  },
  {
   "cell_type": "code",
   "execution_count": 6,
   "metadata": {},
   "outputs": [
    {
     "data": {
      "text/plain": [
       "main_category                                            Prime Video\n",
       "title                                                           Glee\n",
       "subtitle                                        UnentitledUnentitled\n",
       "average_rating                                                   4.7\n",
       "rating_number                                                 2004.0\n",
       "features                 [IMDb 6.8, 2013, 22 episodes, X-Ray, TV-14]\n",
       "description        [Entering its fourth season, this year the mem...\n",
       "price                                                          22.39\n",
       "images             [{'360w': 'https://images-na.ssl-images-amazon...\n",
       "videos                                                            []\n",
       "store                                                           None\n",
       "categories         [Comedy, Drama, Arts, Entertainment, and Cultu...\n",
       "details            {'Content advisory': ['Violence', 'substance u...\n",
       "parent_asin                                               B00ABWKL3I\n",
       "bought_together                                                  NaN\n",
       "author                                                           NaN\n",
       "Name: 0, dtype: object"
      ]
     },
     "execution_count": 6,
     "metadata": {},
     "output_type": "execute_result"
    }
   ],
   "source": [
    "movies_meta_data.iloc[0]"
   ]
  },
  {
   "cell_type": "code",
   "execution_count": 7,
   "metadata": {},
   "outputs": [],
   "source": [
    "def precision_recall_f1(ground_truth_categories, recommended_categories):\n",
    "    match_count = len(set(ground_truth_categories).intersection(set(recommended_categories)))\n",
    "    precision = match_count / len(recommended_categories) if recommended_categories else 0\n",
    "    recall = match_count / len(ground_truth_categories) if ground_truth_categories else 0\n",
    "\n",
    "    f1_score = 2 * (precision * recall) / (precision + recall) if (precision + recall) > 0 else 0\n",
    "\n",
    "    return precision, recall, f1_score\n",
    "\n",
    "def jaccard_similarity(categories1, categories2):\n",
    "    intersection = len(set(categories1).intersection(set(categories2)))\n",
    "    union = len(set(categories1).union(set(categories2)))\n",
    "\n",
    "    return intersection / union if union != 0 else 0"
   ]
  },
  {
   "cell_type": "code",
   "execution_count": 20,
   "metadata": {},
   "outputs": [],
   "source": [
    "# calculate category match rate metrics\n",
    "f1_list = []\n",
    "jaccard_similarity_list = []\n",
    "for i in range(len(results_dict)):\n",
    "    # get the ground_truth movie title\n",
    "    ground_truth = results_dict[str(i)]['ground_truth']\n",
    "    if ground_truth.startswith(\"Title\"):\n",
    "        ground_truth = ground_truth.split(\"Description:\")[0].strip().strip(\"\\n\")[6:].strip()\n",
    "    ground_truth_categories = movies_meta_data[movies_meta_data['title'] == ground_truth]['categories'].tolist()[0]\n",
    "    generated_responses = results_dict[str(i)]['generated_responses']\n",
    "    recommended_categories_metrics_f1 = []\n",
    "    recommended_categories_metrics_jaccard = []\n",
    "    for j in range(len(generated_responses)):\n",
    "        recommended_title = generated_responses[j]['sequence']\n",
    "        # try:\n",
    "        recommended_categories = movies_meta_data[movies_meta_data['title'] == recommended_title]['categories'].tolist()[0]\n",
    "        # except IndexError:\n",
    "        #     print(recommended_title)\n",
    "        #     print(movies_meta_data[movies_meta_data['title'] == recommended_title]['categories'])\n",
    "        #     continue\n",
    "        # print(recommended_categories\n",
    "        recommended_categories_metrics_f1.append(precision_recall_f1(ground_truth_categories, recommended_categories))\n",
    "        recommended_categories_metrics_jaccard.append(jaccard_similarity(ground_truth_categories, recommended_categories))\n",
    "    f1_list.append(recommended_categories_metrics_f1)\n",
    "    jaccard_similarity_list.append(recommended_categories_metrics_jaccard)"
   ]
  },
  {
   "cell_type": "code",
   "execution_count": 21,
   "metadata": {},
   "outputs": [
    {
     "data": {
      "text/plain": [
       "(1.0, 1.0)"
      ]
     },
     "execution_count": 21,
     "metadata": {},
     "output_type": "execute_result"
    }
   ],
   "source": [
    "f1_list[0][0][2], max(jaccard_similarity_list[0])"
   ]
  },
  {
   "cell_type": "code",
   "execution_count": 22,
   "metadata": {},
   "outputs": [],
   "source": [
    "f1_list_test = []\n",
    "for i in range(5):\n",
    "    f1_list_test.append(f1_list[0][i][2])"
   ]
  },
  {
   "cell_type": "code",
   "execution_count": 23,
   "metadata": {},
   "outputs": [
    {
     "data": {
      "text/plain": [
       "[1.0, 0.5, 0, 1.0, 0.5]"
      ]
     },
     "execution_count": 23,
     "metadata": {},
     "output_type": "execute_result"
    }
   ],
   "source": [
    "f1_list_test"
   ]
  },
  {
   "cell_type": "code",
   "execution_count": 25,
   "metadata": {},
   "outputs": [
    {
     "data": {
      "text/plain": [
       "(0.5980813684697179, 0.5042533518261674)"
      ]
     },
     "execution_count": 25,
     "metadata": {},
     "output_type": "execute_result"
    }
   ],
   "source": [
    "import numpy as np\n",
    "\n",
    "f1_max_list = []\n",
    "jaccard_similarity_max_list = []\n",
    "for i in range(len(results_dict)):\n",
    "    f1_list_for_one_result = []\n",
    "    jaccard_similarity_list_for_one_result = []\n",
    "    for j in range(len(generated_responses)):\n",
    "        f1_list_for_one_result.append(f1_list[i][j][2])\n",
    "        jaccard_similarity_list_for_one_result.append(jaccard_similarity_list[i][j])\n",
    "        \n",
    "    # take max of each list\n",
    "    f1_max_list.append(max(f1_list_for_one_result))\n",
    "    jaccard_similarity_max_list.append(max(jaccard_similarity_list_for_one_result))\n",
    "    \n",
    "np.mean(f1_max_list), np.mean(jaccard_similarity_max_list)"
   ]
  },
  {
   "cell_type": "markdown",
   "metadata": {},
   "source": [
    "# 3. If all recommendation is random selection. What is the expected value of the metrics?"
   ]
  },
  {
   "cell_type": "code",
   "execution_count": 1,
   "metadata": {},
   "outputs": [
    {
     "data": {
      "text/plain": [
       "29205"
      ]
     },
     "execution_count": 1,
     "metadata": {},
     "output_type": "execute_result"
    }
   ],
   "source": [
    "import json\n",
    "# asins_small.json to be used for meta data matching\n",
    "json_file_asins = './data/asins_small.json'\n",
    "# json_file_asins = './data/meta_asins.json'\n",
    "with open(json_file_asins, \"r\") as file:\n",
    "    asin_dict = json.load(file)\n",
    "    \n",
    "len(asin_dict)"
   ]
  },
  {
   "cell_type": "code",
   "execution_count": 14,
   "metadata": {},
   "outputs": [],
   "source": [
    "import random\n",
    "def get_random_recommendation(num_of_recommendation, asin_dict):\n",
    "    random_asin_list = random.sample(list(asin_dict.keys()), num_of_recommendation)\n",
    "    random_movie_list = []\n",
    "    for asin in random_asin_list:\n",
    "        random_movie_list.append(asin_dict[asin][0])\n",
    "    return random_movie_list"
   ]
  },
  {
   "cell_type": "code",
   "execution_count": 19,
   "metadata": {},
   "outputs": [
    {
     "data": {
      "text/plain": [
       "['King Kong',\n",
       " '300 [Blu-ray]',\n",
       " 'Veronica Mars: Season 3',\n",
       " 'U.S. Marshals (Special Edition)',\n",
       " 'Thunder Bay [VHS]']"
      ]
     },
     "execution_count": 19,
     "metadata": {},
     "output_type": "execute_result"
    }
   ],
   "source": [
    "get_random_recommendation(5, asin_dict)"
   ]
  },
  {
   "cell_type": "code",
   "execution_count": 36,
   "metadata": {},
   "outputs": [],
   "source": [
    "# calculate the reciprocal rank\n",
    "reciprocal_rank_list = []\n",
    "for i in range(len(results_dict)):\n",
    "    reciprocal_rank = 0\n",
    "    ground_truth = results_dict[str(i)]['ground_truth']\n",
    "    if ground_truth.startswith(\"Title\"):\n",
    "        ground_truth = ground_truth.split(\"Description:\")[0].strip().strip(\"\\n\").strip(\"Title: \")\n",
    "    generated_responses = get_random_recommendation(5, asin_dict)\n",
    "    for j in range(len(generated_responses)):\n",
    "        if ground_truth == generated_responses[j]:\n",
    "            reciprocal_rank = 1 / (j + 1)\n",
    "            break\n",
    "    \n",
    "    reciprocal_rank_list.append(reciprocal_rank)"
   ]
  },
  {
   "cell_type": "code",
   "execution_count": 37,
   "metadata": {},
   "outputs": [
    {
     "data": {
      "text/plain": [
       "(0, 0.0)"
      ]
     },
     "execution_count": 37,
     "metadata": {},
     "output_type": "execute_result"
    }
   ],
   "source": [
    "import numpy as np\n",
    "\n",
    "np.sum(reciprocal_rank_list),  \\\n",
    "np.mean(reciprocal_rank_list)"
   ]
  }
 ],
 "metadata": {
  "kernelspec": {
   "display_name": "unsloth_env",
   "language": "python",
   "name": "python3"
  },
  "language_info": {
   "codemirror_mode": {
    "name": "ipython",
    "version": 3
   },
   "file_extension": ".py",
   "mimetype": "text/x-python",
   "name": "python",
   "nbconvert_exporter": "python",
   "pygments_lexer": "ipython3",
   "version": "3.10.14"
  }
 },
 "nbformat": 4,
 "nbformat_minor": 2
}
