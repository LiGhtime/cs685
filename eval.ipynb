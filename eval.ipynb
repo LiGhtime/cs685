{
 "cells": [
  {
   "cell_type": "code",
   "execution_count": 1,
   "metadata": {},
   "outputs": [],
   "source": [
    "# read the prediction results dict\n",
    "import json\n",
    "\n",
    "def read_json(file):\n",
    "    with open(file, 'r') as f:\n",
    "        return json.load(f)\n",
    "\n",
    "results_dict = read_json('./eval_results/eval_051424_003421/predictions.json')"
   ]
  },
  {
   "cell_type": "code",
   "execution_count": 14,
   "metadata": {},
   "outputs": [
    {
     "name": "stdout",
     "output_type": "stream",
     "text": [
      "raw_input: \n",
      "Below is the previous historical purchases and reviews of the user:\n",
      "```\n",
      "Item title: National Lampoon's Christmas Vacation (Special Edition) [DVD] \n",
      " Item description: National Lampoon's Christmas Vacation: Special Edition (DVD) Make merry as Chevy Chase, Beverly D'Angelo, Randy Quaid and an ensemble of comedy favorites strive to gift-wrap the \"perfect Christmas\" for the Griswold family. The most successful of the three vacations. ]]> \n",
      " rating: 5.0 \n",
      " review: Don't know what else to say. This is our favorite also. One of those that will always make you laugh.-------\n",
      "Item title: Wwjd - What Would Jesus Do? \n",
      " Item description: A powerful and thought-provoking story about four individuals -- a singer, a newspaper editor, a wealthy philanthropist and a Minister who has lost his faith -- all vowing to walk in \"the steps of Jesus.\" Every day and every decision becomes a turning point in their lives as they must ask themselves: \"What Would Jesus Do?\" \n",
      " rating: 5.0 \n",
      " review: Very nice story!  Finally something family.-------\n",
      "```\n",
      "And here is the user's intention: I enjoy heartwarming and comedic movies with a strong storyline, so I'd like something similar to my previous picks.\n",
      "Please infer the user's preference based on historical purchases and reviews along with the user's intention, and then recommend an item for this user. Please provide the recommended item's title and description.\n",
      "*************************************************\n",
      "input: \n",
      "Below is the previous historical purchases and reviews of the user:```Item title: National Lampoon's Christmas Vacation (Special Edition) [DVD]  Item description: National Lampoon's Christmas Vacation: Special Edition (DVD) Make merry as Chevy Chase, Beverly D'Angelo, Randy Quaid and an ensemble of comedy favorites strive to gift-wrap the \"perfect Christmas\" for the Griswold family. The most successful of the three vacations. ]]>  rating: 5.0  review: Don't know what else to say. This is our favorite also. One of those that will always make you laugh.-------Item title: Wwjd - What Would Jesus Do?  Item description: A powerful and thought-provoking story about four individuals -- a singer, a newspaper editor, a wealthy philanthropist and a Minister who has lost his faith -- all vowing to walk in \"the steps of Jesus.\" Every day and every decision becomes a turning point in their lives as they must ask themselves: \"What Would Jesus Do?\"  rating: 5.0  review: Very nice story!  Finally something family.-------```And here is the user's intention: I enjoy heartwarming and comedic movies with a strong storyline, so I'd like something similar to my previous picks.Please infer the user's preference based on historical purchases and reviews along with the user's intention, and then recommend an item for this user. Please just give the title of the recommended item.\n",
      "*************************************************\n",
      "ground_truth: \n",
      "Title: New In Town (Fullscreen Edition) \n",
      " Description: A Miami businesswoman is transferred to rural Minnesota, and while she is there she re-evaluates her big-city values.\n",
      "*************************************************\n",
      "generated_responses: \n",
      "[{'sequence': \"National Lampoon's Christmas Vacation (Special Edition)\", 'score': -0.4559781551361084}, {'sequence': 'The Polar Express', 'score': -1.508948802947998}, {'sequence': \"National Lampoon's Christmas Vacation (Special Edition)\", 'score': -1.8060709238052368}, {'sequence': 'The Princess Bride', 'score': -1.8572998046875}, {'sequence': \"National Lampoon's Christmas Vacation 2 - Cousin Eddie's Island Adventure\", 'score': -2.1050775051116943}]\n",
      "*************************************************\n"
     ]
    }
   ],
   "source": [
    "for i in range(len(results_dict)):\n",
    "    print('raw_input: ')\n",
    "    print(results_dict[str(i)]['raw_input'])\n",
    "    print('*************************************************')\n",
    "    print('input: ')\n",
    "    print(results_dict[str(i)]['input'])\n",
    "    print('*************************************************')\n",
    "    print('ground_truth: ')\n",
    "    print(results_dict[str(i)]['ground_truth'])\n",
    "    print('*************************************************')\n",
    "    print('generated_responses: ')\n",
    "    print(results_dict[str(i)]['generated_responses'])\n",
    "    print('*************************************************')\n",
    "    break"
   ]
  },
  {
   "cell_type": "code",
   "execution_count": 2,
   "metadata": {},
   "outputs": [],
   "source": [
    "# calculate the reciprocal rank\n",
    "reciprocal_rank_list = []\n",
    "for i in range(len(results_dict)):\n",
    "    reciprocal_rank = 0\n",
    "    ground_truth = results_dict[str(i)]['ground_truth']\n",
    "    generated_responses = results_dict[str(i)]['generated_responses']\n",
    "    for j in range(len(generated_responses)):\n",
    "        if ground_truth == generated_responses[j]['sequence']:\n",
    "            reciprocal_rank = 1 / (j + 1)\n",
    "            break\n",
    "    reciprocal_rank_list.append(reciprocal_rank)"
   ]
  },
  {
   "cell_type": "code",
   "execution_count": 3,
   "metadata": {},
   "outputs": [
    {
     "data": {
      "text/plain": [
       "0.03636363636363636"
      ]
     },
     "execution_count": 3,
     "metadata": {},
     "output_type": "execute_result"
    }
   ],
   "source": [
    "import numpy as np\n",
    "\n",
    "np.mean(reciprocal_rank_list)"
   ]
  }
 ],
 "metadata": {
  "kernelspec": {
   "display_name": "unsloth_env",
   "language": "python",
   "name": "python3"
  },
  "language_info": {
   "codemirror_mode": {
    "name": "ipython",
    "version": 3
   },
   "file_extension": ".py",
   "mimetype": "text/x-python",
   "name": "python",
   "nbconvert_exporter": "python",
   "pygments_lexer": "ipython3",
   "version": "3.10.14"
  }
 },
 "nbformat": 4,
 "nbformat_minor": 2
}
