{
 "cells": [
  {
   "cell_type": "code",
   "execution_count": 1,
   "metadata": {},
   "outputs": [
    {
     "data": {
      "text/plain": [
       "29205"
      ]
     },
     "execution_count": 1,
     "metadata": {},
     "output_type": "execute_result"
    }
   ],
   "source": [
    "import json\n",
    "# asins_small.json to be used for meta data matching\n",
    "json_file_asins = './data/asins_small.json'\n",
    "# json_file_asins = './data/meta_asins.json'\n",
    "with open(json_file_asins, \"r\") as file:\n",
    "    asin_dict = json.load(file)\n",
    "    \n",
    "len(asin_dict) # 748224 for the full meta bag # 434236 after filtering out the ones with no title"
   ]
  },
  {
   "cell_type": "code",
   "execution_count": 2,
   "metadata": {},
   "outputs": [
    {
     "name": "stdout",
     "output_type": "stream",
     "text": [
      "test\n"
     ]
    },
    {
     "data": {
      "text/plain": [
       "'The Spitfire Grill'"
      ]
     },
     "execution_count": 2,
     "metadata": {},
     "output_type": "execute_result"
    }
   ],
   "source": [
    "print(\"test\")\n",
    "asin_dict['B005TZGJBA'][0]"
   ]
  },
  {
   "cell_type": "code",
   "execution_count": 3,
   "metadata": {},
   "outputs": [
    {
     "name": "stdout",
     "output_type": "stream",
     "text": [
      "Loaded eval dataset from ./data/gemma_chat_eval\n"
     ]
    },
    {
     "data": {
      "text/plain": [
       "('Below is the previous historical purchases and reviews of the user:\\n```\\nItem title: Runaway Jury (Widescreen Edition) \\n Item description: Product Description Set in New Orleans, this is the story of a mysterious man, Nick Easter who gets himself on the jury of a landmark case against a gun manufacturer in an attempt to influence the other jury members to vote a certain way. Direction: Gary Fleder Actors: Dustin Hoffman, Gene Hackman, Jennifer Beals. Special Features: Director Commentary; \"Exploring the Scene\" - Hackman & Hoffman\\'s first scene together; \"Off the Cuff\" - Lead Actor Commentary by Dustin Hoffman & Gene Hackman; Five Featurettes - Making Of, Acting, Cinematography, Production, Editing. 2.35:1 format. Language: English / Add. French, Spanish / Sub. English, Spanish Year: 2003 Runtime: 122 minutes. Amazon.com Based on the bestseller by John Grisham, Runaway Jury is a slick thriller that\\'s exciting enough to overcome the gaps in its plot. The ultimate target has been changed: Grisham\\'s legal assault on the tobacco industry was switched to the hot-button issue of gun control (no doubt to avoid comparison to The Insider ) in a riveting exposé of jury-tampering. Gene Hackman plays the ultra-cynical, utterly unscrupulous pawn of the gun-makers, using an expert staff and advanced electronics to hand-pick a New Orleans jury that will return a favorable verdict; Dustin Hoffman (making his first screen appearance with real-life former roommate Hackman) defends the grieving widow of a gun-shooting victim with idealistic zeal, while maverick juror John Cusack and accomplice Rachel Weisz play both ends against the middle in a personal quest to hold gun-makers accountable. It\\'s riveting stuff, even when it\\'s obvious that Grisham and director Gary Fleder have glossed over any details that would unravel the plot\\'s intricate design. --Jeff Shannon \\n rating: 3.0 \\n review: The movie is a good production, good acting and all but for some reason it lacks overall punch or appeal and once seen, it will probably end up just collecting dust. For me it\\'s definitely not a movie that I\\'d be interested in watching again and I\\'ve seen a lot more interesting and better movies at my time.-------\\nItem title: Final Fantasy - The Spirits Within (Special Edition) \\n Item description: Product Description The year is 2065 AD. The Earth is infested with alien spirits, and mankind faces total extinction. Led by a strange dream and guided by her mentor, Dr. Sid, scientist Aki Ross struggles to collect eight spirits in the hope of creating a force powerful enough to destroy the alien presence and pure enough to protect the planet. With the aid of the Deep Eyes Squadron, Aki must save the Earth from its darkest hate and unleash the final spirit. FINAL FANTASY is the groundbreaking new CGI film from the creators of the Final Fantasy Video Game Franchise. 2016 release The year is 2065. A meteor has crashed into Earth, unleashing millions of alien creatures who roam the planet, decimating field and city alike, threatening to extinguish life itself. Prepare to be spellbound by an amazing woman, the brave individuals at her side and an astounding mission to save the Earth. Set Contains: The special edition DVD of Final Fantasy: The Spirits Within can keep you occupied for hours. The first disc includes two feature-length commentaries. The first was recorded by co-director Motonori Sakakibara, sequence supervisor Hiroyuki Hayashida, sets and props lead artist Tatsuro Maruyama, and Phantom supervisor Takao Noguchi the day after the film was finished. They speak Japanese so you might have to read subtitles, but it\\'s fun to hear them laugh as they enjoy the film. The second commentary, which is less giddy and more informative (and in English), is by animation director Andy Jones, editor Chris S. Capp, and staging director Tani Kunitake, who discuss technical elements of the animation, notes on the casting, and subtle details you might not have noticed. There\\'s also an isolated version of the powerful score with infrequent but interesting comments from composer Elliot Goldenthal, and 11 scenes (81 minutes total) that alternate among storyboard, rough animation, and final film, with optional filmmaker commentary or subtitled factoids. The bulk of the second disc is a 30-minute making-of documentary supplemented by numerous easy-to-find Easter eggs. There are also profiles of the seven major characters (including personal background, as well as voice actor and lead animator info), sketches and explications of three of the film\\'s vehicles, DVD-ROM content, and an editing tool that allows the viewer to rearrange parts of the council-conference scene and play them back. Even the menu intros are interesting to watch! --David Horiuchi \\n rating: 5.0 \\n review: Loved this movie. The plot was great at the beginning but towards the end it gets a little spoiled by the excessive melodrama. Animation is absolutely fantastic but I feel the producers and director should have focused a bit more on the storyline and characters. Animation is not what makes a movie great. Why the five stars then? Because the flaws aren\\'t significant enough for me to stop me from considering this movie a cornerstone in cinematography. Everything you see, hear and experience is done from scratch using technology.-------\\nItem title: What Dreams May Come \\n Item description: Academy Award-winners Robin Williams and Cuba Gooding, Jr. embark on a supernatural journey beyond the realm of mortality in this visually stunning and unforgettable epic. After Chris Nielsen (Williams) dies in an accident, he tries to remain close to his beautiful mortal wife, Annie (Annabella Sciorra). With the friendly spirit (Gooding, Jr.) assigned to guide him, he begins to adapt to his new state of being in a setting that can only be described as heavenly. But when his distraught wife takes her own life, she is banished to an eternal damnation. Chris vows to find her so they can share eternity together, but no one has ever succeeded in rescuing a soul from such a horrific fate. With the help of his heavenly friends, Chris sets out on the most perilous and harrowing journey of his life, or afterlife: a quest for everlasting love that will take him to hell and back!Bonus Content: Feature Commentary with Director Vincent Ward Feature Commentary with Director Vincent Ward About the Visual Effects About the Visual Effects \"Making of\" Featurette \"Making of\" Featurette Alternate Ending Alternate Ending Photo Gallery Photo Gallery Cast and Filmmakers Cast and Filmmakers Production Information Production Information Theatrical Trailer Theatrical Trailer DVD-ROM Features DVD-ROM Features \\n rating: 4.0 \\n review: Despite what other people are saying, I thought this was a wonderful movie. A touching story filled with drama, despair and hope. A not-so-new idea of what heaven and hell could be is transformed into a unique vision with the aid of astonishing visual effects.<br />The movie could have been a bit better with a slightly different cast, most noticeably either another actress as Robin William\\'s great love Annie, or Robin himself replaced by someone else. Acting isn\\'t quite Oscar-worthy but convincing enough.<br />All in all, like I said, I personally found this movie wonderful. It\\'s one of the few titles I own that I go back every now and then and watch it again.-------\\nItem title: Crouching Tiger, Hidden Dragon \\n Item description: Product Description Named \"Best Picture of the Year\" by over 100 critics nationwide! Two master warriors (Chow Yun Fat and Michelle Yeoh) are faced with their greatest challenge when the treasured Green Destiny sword isstolen. A young aristocrat (Zhang Ziyi) prepares for an arranged marriage, but soon reveals her superior fighting talents and her deeply romantic past. As each warrior battles for justice, they come face to face with their worst enemy - and the inescapable, enduring power of love. Set against 19th-century China\\'s breathtaking landscape, CROUCHING TIGER, HIDDEN DRAGON is the action-packed, box office smash from acclaimed director Ang Lee (Sense and Sensibility, The Ice Storm) featuring stunning martial arts choreography by Yuen Wo Ping (The Matrix). 2016 release Two master warriors (Chow Yun Fat and Michelle Yeoh) are faced with their greatest challenge when the treasured Green Destiny sword isstolen. A young aristocrat (Zhang Ziyi) prepares for an arranged marriage, but soon reveals her su Amazon.com Hong Kong wuxia films, or martial arts fantasies, traditionally squeeze poor acting, slapstick humor, and silly story lines between elaborate fight scenes in which characters can literally fly. Crouching Tiger, Hidden Dragon has no shortage of breathtaking battles, but it also has the dramatic soul of a Greek tragedy and the sweep of an epic romance. This is the work of director Ang Lee, who fell in love with movies while watching wuxia films as a youngster and made Crouching Tiger as a tribute to the form. To elevate the genre above its B-movie roots and broaden its appeal, Lee did two important things. First, he assembled an all-star lineup of talent, joining the famous Asian actors Chow Yun-fat and Michelle Yeoh with the striking, charismatic newcomer Zhang Ziyi. Behind the scenes, Lee called upon cinematographer Peter Pau ( The Killer , The Bride with White Hair ) and legendary fight choreographer Yuen Wo-ping, best known outside Asia for his work on The Matrix . Second, in adapting the story from a Chinese pulp-fiction novel written by Wang Du Lu, Lee focused not on the pursuit of a legendary sword known as \"The Green Destiny,\" but instead on the struggles of his female leads against social obligation. In his hands, the requisite fight scenes become another means of expressing the individual spirits of his characters and their conflicts with society and each other. The filming required an immense effort from all involved. Chow and Yeoh had to learn to speak Mandarin, which Lee insisted on using instead of Cantonese to achieve a more classic, lyrical feel. The astonishing battles between Jen (Zhang) and Yu Shu Lien (Yeoh) on the rooftops and Jen and Li Mu Bai (Chow) atop the branches of bamboo trees required weeks of excruciating wire and harness work (which in turn required meticulous \"digital wire removal\"). But the result is a seamless blend of action, romance, and social commentary in a populist film that, like its young star Zhang, soars with balletic grace and dignity. --Eugene Wei \\n rating: 4.0 \\n review: At first glance I didn\\'t understand how the characters, who were supposed to be martial arts experts could defy gravity by jumping 50 feet in the air and bounce from tree branch to tree branch with more ease than a monkey. It\\'s metaphoric. You will realize the movie is a lot deeper than it seems, a true work of art. Artistic, captivating, dramatic.-------\\nItem title: Get Shorty \\n Item description:  \\n rating: 5.0 \\n review: This is one of the few movies I own that I can watch again and again. It is definitely one of my all-time favorites.<br /><br />Get Shorty is smart and funny. A load of great actors and great acting, full of smart humor and a great story. Definitely for a  more mature audience and not for people that think such titles as Final Destination are worthy of an Oscar ...-------\\nItem title: The League of Extraordinary Gentlemen (Widescreen Edition) \\n Item description:  \\n rating: 3.0 \\n review: The movie is pretty mediocre, but entertaining. Better than van Helsing. If you compare the movie to the characters out of the books which it depicts you\\'ll probably be disapointed, so take it for what it is. A movie that drives to entertain the masses, not to satisfy the bookworms [no offense to anybody here. I happen to be one also]-------\\nItem title: The Last Samurai (Two-Disc Special Edition) \\n Item description: Product Description Epic Action Drama. Set in Japan during the 1870s, The Last Samurai tells the story of Capt. Nathan Algren (Tom Cruise), a respected American military officer hired by the Emperor of Japan to train the country\\'s first army in the art of modern warfare. As the Emperor attempts to eradicate the ancient Imperial Samurai warriors in preparation for more Westernized and trade-friendly government policies, Algren finds himself unexpectedly impressed and influenced by his encounters with the Samurai, which places him at the center of a struggle between two eras and two worlds, with only his own sense of honor to guide him. Set Contains: No actor works harder to open a movie than Tom Cruise. His enthusiasm is throughout the DVD extras as he mirrors his samurai character by constantly talking about \"loyalty\" and \"discipline\" while working on the film. However as a post-movie experience, the top-line extras with Cruise and director Edward Zwick are repetitive and underwhelming, with too many clips from the film we assume DVD viewers have just seen. The History Channel show is also a pre-release promotional device that misses an opportunity to really dig into this intriguing time period. Better are segments on the costumes, the production design, and how you put together an Imperial army--in New Zealand, no less. Zwick\\'s low-key and dense commentary (plus a \"Video Journal\") is not vital, but he illustrates many of the little peculiarities it took to make the wide-ranging film come together. There are two deleted scenes; a samurai\\'s first appearance is particularly memorable. --Doug Thomas \\n rating: 5.0 \\n review: The Last Samurai is an inspiring, artistic, touching movie. It even manages to stay pretty close to the historical facts it\\'s based on.<br /><br />The premise of the movie is anything but new, even so, it\\'s a unique production. It offers insight into the japanese culture and we, the audience, take it in through the senses of the main character, Nathan Allgren [Tom Cruise]. We learn about the samurai, honor, trust, pursuit of perfection and harmony, discipline and tradition, all adjectives that make Japan what it is today.<br /><br />There are a couple of things however that I personally would have liked to have seen changed. A bit more action and a bit less philosophy and talk [less gab, more shooting one might say].<br /><br />The last scenes of the movie could have definitely done well without the typical hollywood dramatic dialogue and action. It was a bit over the top compared to the rest of the movie which was realistic and down-to-earth.<br /><br />Almost forgot to mention the movie\\'s soundtrack. Absolutely brilliant, the tracks are a combination of japanese traditional music and western music. Beautiful.<br /><br />All in all, I absolutely loved this movie and is now part of my DVD collection. It\\'s one of the few titles I would enjoy watching again once in a while.-------\\nItem title: Dungeons & Dragons \\n Item description: Dungeons & Dragons (New Line Pl \\n rating: 2.0 \\n review: I did not like this movie one bit. Actors are unconvincing, the storyline is extremely banal, bad costumes [you can tell they\\'re made for a movie, not a single ounce of realism]. It wasn\\'t worth the $5 I spent on it. There is loads of better fantasy movies out there, you\\'re probably better of not wasting your time with this one.-------\\nItem title: Equilibrium \\n Item description: Product Description Delivering awesome high-tech action in the power-packed style of THE MATRIX and MINORITY REPORT, EQUILIBRIUM stars Christian Bale (REIGN OF FIRE) and Taye Diggs (CHICAGO) in a thrilling look at a future where the only crime is being human! In an attempt to end wars and maintain peace, humankind has outlawed the things that trigger emotion -- literature, music, and art. To uphold the law, a special breed of police is assigned to eliminate all transgressors. But when the top enforcer (Bale) misses a dose of an emotion-blocking drug, he begins to realize that things are not as they seem! Also starring Sean Bean (THE LORD OF THE RINGS) and Emily Watson (RED DRAGON). Amazon.com A broad science fiction thriller in a classic vein, Equilibrium takes a respectable stab at a Fahrenheit 451 -like cautionary fable. The story finds Earth\\'s post-World War III humankind in a state of severe emotional repression: If no one feels anything, no one will be inspired by dark passions to attack their neighbors. Writer-director Kurt Wimmer\\'s monochromatic, Metropolis -influenced cityscape provides an excellent backdrop to the heavy-handed mission of John Preston (Christian Bale), a top cop who busts \"sense offenders\" and crushes sentimental, sensual, and artistic relics from a bygone era. Predictably, Preston becomes intrigued by his victims and that which they die to cherish; he stops taking his mandatory, mood-flattening drug and is even aroused by a doomed prisoner (Emily Watson). Wimmer\\'s wrongheaded martial arts/dueling guns motif is sheer silliness (a battle over a puppy doesn\\'t help), but Equilibrium should be seen for Bale\\'s moving performance as a man shocked back to human feeling. --Tom Keogh \\n rating: 5.0 \\n review: Christian Bale, the main character in the movie Equilibrium should have definitely been Neo in the Matrix trilogy.<br />Equilibrium\\'s premise is almost the same as Orwell\\'s book called 1984.<br />In a future world, emotion and anything that might trigger any kind of emotion is outlawed and destroyed. Art is burned. People that are caught having any sort of feelings are instantly sentenced to death. The masses are being brainwashed, being taught that feeling is the mother of chaos, of suffering, of war and destruction.<br />Action scenes? Forget the Matrix! Cleric\\'s moves will leave you dumbstruck.<br />Great movie, great plot, great action. I recommend it to everyone.-------\\n```\\nAnd here is the user\\'s intention: Hey recommender system, I\\'m craving a new martial arts movie with some great fighting scenes - got anything in mind for me?\\nPlease infer the user\\'s preference based on historical purchases and reviews along with the user\\'s intention, and then recommend an item for this user. Please just give the title of the recommended item.',\n",
       " 'Fists of Fury [DVD]')"
      ]
     },
     "execution_count": 3,
     "metadata": {},
     "output_type": "execute_result"
    }
   ],
   "source": [
    "# read eval dataset from local\n",
    "from datasets import load_from_disk\n",
    "\n",
    "dataset_eval = load_from_disk(\"./data/gemma_chat_eval\")\n",
    "print(\"Loaded eval dataset from {}\".format(\"./data/gemma_chat_eval\"))\n",
    "\n",
    "# dataset_eval.num_rows\n",
    "# index_i = 6\n",
    "index_i = 46\n",
    "dataset_eval[index_i]['input'], \\\n",
    "dataset_eval[index_i]['output']"
   ]
  },
  {
   "cell_type": "code",
   "execution_count": 5,
   "metadata": {},
   "outputs": [
    {
     "name": "stdout",
     "output_type": "stream",
     "text": [
      "==((====))==  Unsloth: Fast Gemma patching release 2024.4\n",
      "   \\\\   /|    GPU: Tesla T4. Max memory: 14.581 GB. Platform = Linux.\n",
      "O^O/ \\_/ \\    Pytorch: 2.2.2. CUDA = 7.5. CUDA Toolkit = 12.1.\n",
      "\\        /    Bfloat16 = FALSE. Xformers = 0.0.25.post1. FA = False.\n",
      " \"-____-\"     Free Apache license: http://github.com/unslothai/unsloth\n"
     ]
    },
    {
     "name": "stderr",
     "output_type": "stream",
     "text": [
      "Unused kwargs: ['_load_in_4bit', '_load_in_8bit', 'quant_method']. These kwargs are not used in <class 'transformers.utils.quantization_config.BitsAndBytesConfig'>.\n",
      "Gemma's activation function should be approximate GeLU and not exact GeLU.\n",
      "Changing the activation function to `gelu_pytorch_tanh`.if you want to use the legacy `gelu`, edit the `model.config` to set `hidden_activation=gelu`   instead of `hidden_act`. See https://github.com/huggingface/transformers/pull/29402 for more details.\n",
      "Unsloth 2024.4 patched 18 layers with 18 QKV layers, 18 O layers and 18 MLP layers.\n",
      "Using customized constraint logits processor\n"
     ]
    },
    {
     "name": "stdout",
     "output_type": "stream",
     "text": [
      "Creating trie...\n",
      "new_token_input_ids_list[0]: [2]\n",
      "new_token_input_ids_list[0]: [2]\n",
      "new_token_input_ids_list[0]: [2]\n",
      "new_token_input_ids_list[0]: [2]\n",
      "new_token_input_ids_list[0]: [2]\n",
      "new_token_input_ids_list[0]: [2, 651]\n",
      "new_token_input_ids_list[0]: [2, 651]\n",
      "new_token_input_ids_list[0]: [2, 651]\n",
      "new_token_input_ids_list[0]: [2, 114167]\n",
      "new_token_input_ids_list[0]: [2, 651]\n",
      "new_token_input_ids_list[0]: [2, 651, 24216]\n",
      "new_token_input_ids_list[0]: [2, 651, 10391]\n",
      "new_token_input_ids_list[0]: [2, 651, 24216]\n",
      "new_token_input_ids_list[0]: [2, 114167, 13548]\n",
      "new_token_input_ids_list[0]: [2, 651, 6250]\n",
      "new_token_input_ids_list[0]: [2, 651, 24216, 0]\n",
      "new_token_input_ids_list[0]: [2, 651, 10391, 110911]\n",
      "new_token_input_ids_list[0]: [2, 651, 24216, 0]\n",
      "new_token_input_ids_list[0]: [2, 114167, 13548, 235292]\n",
      "new_token_input_ids_list[0]: [2, 651, 6250, 576]\n",
      "new_token_input_ids_list[0]: [2, 651, 24216, 0, 0]\n",
      "new_token_input_ids_list[0]: [2, 651, 10391, 110911, 591]\n",
      "new_token_input_ids_list[0]: [2, 651, 24216, 0, 0]\n",
      "new_token_input_ids_list[0]: [2, 114167, 13548, 235292, 714]\n",
      "new_token_input_ids_list[0]: [2, 651, 6250, 576, 573]\n",
      "new_token_input_ids_list[0]: [2, 651, 24216, 0, 0, 0]\n",
      "new_token_input_ids_list[0]: [2, 651, 10391, 110911, 591, 9069]\n",
      "new_token_input_ids_list[0]: [2, 651, 24216, 0, 0, 0]\n",
      "new_token_input_ids_list[0]: [2, 114167, 13548, 235292, 714, 31798]\n",
      "new_token_input_ids_list[0]: [2, 651, 6250, 576, 573, 50545]\n",
      "new_token_input_ids_list[0]: [2, 651, 24216, 0, 0, 0, 0]\n",
      "new_token_input_ids_list[0]: [2, 651, 10391, 110911, 591, 9069, 235290]\n",
      "new_token_input_ids_list[0]: [2, 651, 24216, 0, 0, 0, 0]\n",
      "new_token_input_ids_list[0]: [2, 114167, 13548, 235292, 714, 31798, 153676]\n",
      "new_token_input_ids_list[0]: [2, 651, 6250, 576, 573, 50545, 235292]\n",
      "new_token_input_ids_list[0]: [2, 651, 24216, 0, 0, 0, 0, 0]\n",
      "new_token_input_ids_list[0]: [2, 651, 10391, 110911, 591, 9069, 235290, 55246]\n",
      "new_token_input_ids_list[0]: [2, 651, 24216, 0, 0, 0, 0, 0]\n",
      "new_token_input_ids_list[0]: [2, 114167, 13548, 235292, 714, 31798, 153676, 728]\n",
      "new_token_input_ids_list[0]: [2, 651, 6250, 576, 573, 50545, 235292, 714]\n",
      "new_token_input_ids_list[0]: [2, 651, 24216, 0, 0, 0, 0, 0, 0]\n",
      "new_token_input_ids_list[0]: [2, 651, 10391, 110911, 591, 9069, 235290, 55246, 8820]\n",
      "new_token_input_ids_list[0]: [2, 651, 24216, 0, 0, 0, 0, 0, 0]\n",
      "new_token_input_ids_list[0]: [2, 114167, 13548, 235292, 714, 31798, 153676, 728, 714]\n",
      "new_token_input_ids_list[0]: [2, 651, 6250, 576, 573, 50545, 235292, 714, 24686]\n",
      "new_token_input_ids_list[0]: [2, 651, 24216, 0, 0, 0, 0, 0, 0, 0]\n",
      "new_token_input_ids_list[0]: [2, 651, 10391, 110911, 591, 9069, 235290, 55246, 8820, 12469]\n",
      "new_token_input_ids_list[0]: [2, 651, 24216, 0, 0, 0, 0, 0, 0, 0]\n",
      "new_token_input_ids_list[0]: [2, 114167, 13548, 235292, 714, 31798, 153676, 728, 714, 19689]\n",
      "new_token_input_ids_list[0]: [2, 651, 6250, 576, 573, 50545, 235292, 714, 24686, 29139]\n",
      "new_token_input_ids_list[0]: [2, 651, 24216, 0, 0, 0, 0, 0, 0, 0, 0]\n",
      "new_token_input_ids_list[0]: [2, 651, 10391, 110911, 591, 9069, 235290, 55246, 8820, 12469, 235275]\n",
      "new_token_input_ids_list[0]: [2, 651, 24216, 0, 0, 0, 0, 0, 0, 0, 0]\n",
      "new_token_input_ids_list[0]: [2, 114167, 13548, 235292, 714, 31798, 153676, 728, 714, 19689, 9250]\n",
      "new_token_input_ids_list[0]: [2, 651, 6250, 576, 573, 50545, 235292, 714, 24686, 29139, 123400]\n",
      "new_token_input_ids_list[0]: [2, 651, 24216, 0, 0, 0, 0, 0, 0, 0, 0, 0]\n",
      "new_token_input_ids_list[0]: [2, 651, 10391, 110911, 591, 9069, 235290, 55246, 8820, 12469, 235275, 0]\n",
      "new_token_input_ids_list[0]: [2, 651, 24216, 0, 0, 0, 0, 0, 0, 0, 0, 0]\n",
      "new_token_input_ids_list[0]: [2, 114167, 13548, 235292, 714, 31798, 153676, 728, 714, 19689, 9250, 13316]\n",
      "new_token_input_ids_list[0]: [2, 651, 6250, 576, 573, 50545, 235292, 714, 24686, 29139, 123400, 591]\n",
      "new_token_input_ids_list[0]: [2, 651, 24216, 0, 0, 0, 0, 0, 0, 0, 0, 0, 0]\n",
      "new_token_input_ids_list[0]: [2, 651, 10391, 110911, 591, 9069, 235290, 55246, 8820, 12469, 235275, 0, 0]\n",
      "new_token_input_ids_list[0]: [2, 651, 24216, 0, 0, 0, 0, 0, 0, 0, 0, 0, 0]\n",
      "new_token_input_ids_list[0]: [2, 114167, 13548, 235292, 714, 31798, 153676, 728, 714, 19689, 9250, 13316, 0]\n",
      "new_token_input_ids_list[0]: [2, 651, 6250, 576, 573, 50545, 235292, 714, 24686, 29139, 123400, 591, 49476]\n",
      "new_token_input_ids_list[0]: [2, 651, 24216, 0, 0, 0, 0, 0, 0, 0, 0, 0, 0, 0]\n",
      "new_token_input_ids_list[0]: [2, 651, 10391, 110911, 591, 9069, 235290, 55246, 8820, 12469, 235275, 0, 0, 0]\n",
      "new_token_input_ids_list[0]: [2, 651, 24216, 0, 0, 0, 0, 0, 0, 0, 0, 0, 0, 0]\n",
      "new_token_input_ids_list[0]: [2, 114167, 13548, 235292, 714, 31798, 153676, 728, 714, 19689, 9250, 13316, 0, 0]\n",
      "new_token_input_ids_list[0]: [2, 651, 6250, 576, 573, 50545, 235292, 714, 24686, 29139, 123400, 591, 49476, 12469]\n",
      "new_token_input_ids_list[0]: [2, 651, 24216, 0, 0, 0, 0, 0, 0, 0, 0, 0, 0, 0, 0]\n",
      "new_token_input_ids_list[0]: [2, 651, 10391, 110911, 591, 9069, 235290, 55246, 8820, 12469, 235275, 0, 0, 0, 0]\n",
      "new_token_input_ids_list[0]: [2, 651, 24216, 0, 0, 0, 0, 0, 0, 0, 0, 0, 0, 0, 0]\n",
      "new_token_input_ids_list[0]: [2, 114167, 13548, 235292, 714, 31798, 153676, 728, 714, 19689, 9250, 13316, 0, 0, 0]\n",
      "new_token_input_ids_list[0]: [2, 651, 6250, 576, 573, 50545, 235292, 714, 24686, 29139, 123400, 591, 49476, 12469, 16260]\n",
      "new_token_input_ids_list[0]: [2, 651, 24216, 0, 0, 0, 0, 0, 0, 0, 0, 0, 0, 0, 0, 0]\n",
      "new_token_input_ids_list[0]: [2, 651, 10391, 110911, 591, 9069, 235290, 55246, 8820, 12469, 235275, 0, 0, 0, 0, 0]\n",
      "new_token_input_ids_list[0]: [2, 651, 24216, 0, 0, 0, 0, 0, 0, 0, 0, 0, 0, 0, 0, 0]\n",
      "new_token_input_ids_list[0]: [2, 114167, 13548, 235292, 714, 31798, 153676, 728, 714, 19689, 9250, 13316, 0, 0, 0, 0]\n",
      "new_token_input_ids_list[0]: [2, 651, 6250, 576, 573, 50545, 235292, 714, 24686, 29139, 123400, 591, 49476, 12469, 16260, 235290]\n",
      "new_token_input_ids_list[0]: [2, 651, 24216, 0, 0, 0, 0, 0, 0, 0, 0, 0, 0, 0, 0, 0, 0]\n",
      "new_token_input_ids_list[0]: [2, 651, 10391, 110911, 591, 9069, 235290, 55246, 8820, 12469, 235275, 0, 0, 0, 0, 0, 0]\n",
      "new_token_input_ids_list[0]: [2, 651, 24216, 0, 0, 0, 0, 0, 0, 0, 0, 0, 0, 0, 0, 0, 0]\n",
      "new_token_input_ids_list[0]: [2, 114167, 13548, 235292, 714, 31798, 153676, 728, 714, 19689, 9250, 13316, 0, 0, 0, 0, 0]\n",
      "new_token_input_ids_list[0]: [2, 651, 6250, 576, 573, 50545, 235292, 714, 24686, 29139, 123400, 591, 49476, 12469, 16260, 235290, 1040]\n",
      "new_token_input_ids_list[0]: [2, 651, 24216, 0, 0, 0, 0, 0, 0, 0, 0, 0, 0, 0, 0, 0, 0, 0]\n",
      "new_token_input_ids_list[0]: [2, 651, 10391, 110911, 591, 9069, 235290, 55246, 8820, 12469, 235275, 0, 0, 0, 0, 0, 0, 0]\n",
      "new_token_input_ids_list[0]: [2, 651, 24216, 0, 0, 0, 0, 0, 0, 0, 0, 0, 0, 0, 0, 0, 0, 0]\n",
      "new_token_input_ids_list[0]: [2, 114167, 13548, 235292, 714, 31798, 153676, 728, 714, 19689, 9250, 13316, 0, 0, 0, 0, 0, 0]\n",
      "new_token_input_ids_list[0]: [2, 651, 6250, 576, 573, 50545, 235292, 714, 24686, 29139, 123400, 591, 49476, 12469, 16260, 235290, 1040, 235275]\n"
     ]
    }
   ],
   "source": [
    "from transformers import TextStreamer, GenerationConfig\n",
    "from unsloth import FastLanguageModel\n",
    "import torch\n",
    "\n",
    "max_seq_length = 4096 # 8192 | Choose any! We auto support RoPE Scaling internally!\n",
    "dtype = None # None for auto detection. Float16 for Tesla T4, V100, Bfloat16 for Ampere+\n",
    "load_in_4bit = True # Use 4bit quantization to reduce memory usage. Can be False.\n",
    "    \n",
    "model, tokenizer = FastLanguageModel.from_pretrained(\n",
    "    # model_name = \"outputs/model_04242024_090830/\", # YOUR MODEL YOU USED FOR TRAINING\n",
    "    # model_name = \"unsloth/gemma-2b-it-bnb-4bit\",\n",
    "    # model_name = \"outputs/checkpoint-1000\",\n",
    "    model_name = \"outputs/model_05162024_022532\",\n",
    "    max_seq_length = max_seq_length,\n",
    "    dtype = dtype,\n",
    "    load_in_4bit = load_in_4bit,\n",
    ")\n",
    "FastLanguageModel.for_inference(model) # Enable native 2x faster inference\n",
    "        \n",
    "prompt_template = \"<start_of_turn>user\\n{}<end_of_turn>\\n<start_of_turn>model\\n{}<end_of_turn>\\n\"\n",
    "\n",
    "# input = dataset_eval[index_i]['input']\n",
    "# if input.endswith(\"title and description.\"):\n",
    "#     input = \"\".join(dataset_eval[index_i]['input'].split(\"\\n\")[:-1]) + \"Please infer the user's preference based on historical purchases and reviews along with the user's intention, and then recommend an item for this user. Please just give the title of the recommended item.\"\n",
    "\n",
    "# input = dataset_eval[index_i]['input'] + \"\\n Please also explain yourself in one sentence or two, why the user might be interested in your recommended item.\"\n",
    "# input = \"Hello, I am looking for a movie that will make me feel happy and excited. I love action movies with a lot of suspense and thrill. I also enjoy movies with a lot of drama and romance. Can you recommend a movie that will make me feel happy and excited? And please explain why you recommend this movie.\"\n",
    "input= \"Below is the previous historical purchases and reviews of the user:\\n```\\nItem title: The Gathering \\n Item description: Product Description Gathering, The (1976 TVM) (DVD) Edward Asner and Maureen Stapleton star in this poignant and heartwarming story of the reconciliation between a successful businessman and the family he long ago abandoned to pursue a career. When Adam Thornton (Asner) learns that he is terminally ill, his estranged wife (Stapleton) insists that he spend one last Christmas with his now-adult children. Adam agrees--but insists that they not know of his illness. Now, in an idyllic, snow-covered New England town, the Thornton family tries to find reunion before it is too late. ]]> Amazon.com A fondly remembered holiday item from the latter phase of a great age of TV movies, The Gathering has an irresistible idea and a splendid central performance from Edward Asner, the actor for whom the term gruff but lovable was surely coined. We learn in the opening seconds of the film that Asner's character, a well-to-do businessman named Adam Thornton, has been diagnosed with a terminal illness; he's got three months left, at best. Time to make amends, and Adam reaches out to his ex-wife (Maureen Stapleton) and his mostly estranged kids for a final Christmas gathering. You won't find many surprises along the way, but the script by veteran screenwriter James Poe takes time for the small things, and gives Asner a believably conflicted character to play. It's directed by Randal Kleiser, who was just a year away from jumping to a big-screen career and scoring a smash with Grease . There's also some interest in watching a batch of young actors in the early stages of their careers: Bruce Davison, Gregory Harrison, Veronica Hamel, and Stephanie Zimbalist are in the Thornton extended family. If The Gathering has the basic look and feel of a TV movie (with wintry location work in Ohio), it nevertheless creates an honest, earned glow as it sorts through one man's final accounting of what has mattered in his life. --Robert Horton \\n rating: 5.0 \\n review: This version is an OFFICIAL release by MGM studios with closed captioning.<br /><br />Yes the movie looks a little dated, the clothes, the cars, etc...but that's just the external stuff.<br /><br />The story itself is timeless.<br /><br />It's nice to finally have on dvd with captions.  Thanks MGM and Amazon.-------\\nItem title: 84 Charing Cross Road \\n Item description: An American writer forms an enduring relationship with a London bookseller which is carried on over 20 years and across two continents. Genre: Feature Film-Drama Rating: PG Release Date: 23-SEP-2003 Media Type: DVD \\n rating: 5.0 \\n review: I bought the book because of  this movie.  Even when I read it I hear the voices of the these two wonderful actors.-------\\nPlease infer the user's preference based on historical purchases and reviews, and then recommend an item for this user. Please just give the title of the recommended item.\"\n",
    "# input = \"hello, can you recommend me a random movie? Maybe a romantic one? And please describe the reason why you recommend this movie.\"\n",
    "\n",
    "inputs = tokenizer(\n",
    "[\n",
    "    # \"### Input:\\n{inputs}\\n\\n### Response:{outputs}\".format(inputs= input, outputs= \"\"),\n",
    "    # \"{inputs}\".format(inputs= input),\n",
    "    prompt_template.format(input, \"\"),    \n",
    "], return_tensors = \"pt\").to(\"cuda\")\n",
    "\n",
    "num_beams_parameter = 5\n",
    "custom_generation_config = GenerationConfig(\n",
    "    bos_token_id=tokenizer.bos_token_id,\n",
    "    eos_token_id=tokenizer.eos_token_id,\n",
    "    pad_token_id=tokenizer.pad_token_id,\n",
    "    asin_dict=asin_dict,\n",
    "    tokenizer=tokenizer,\n",
    "    return_dict_in_generate=True,\n",
    "    output_scores=True,\n",
    "    # output_logits=True,\n",
    "    # do_sample=True,\n",
    "    early_stopping=True,\n",
    "    num_beams=num_beams_parameter, \n",
    "    num_return_sequences=num_beams_parameter,\n",
    "    max_new_tokens=70, # used to be 35, some movie title might be long\n",
    "    use_cache=True,\n",
    "    temperature=1,\n",
    "    num_beam_groups=5, # In this generation mode, `num_beams` should be divisible by `num_beam_groups`. `diversity_penalty` is not 0.0 or `num_beam_groups` is not 1, triggering group beam search. \n",
    "    diversity_penalty=0.9, # `diversity_penalty` should be greater than `0.0`, otherwise your groups will be identical.\n",
    ")\n",
    "\n",
    "# inputs = tokenizer(\n",
    "# [\n",
    "#     prompt_template.format(input, \"\"),    \n",
    "# ], return_tensors = \"pt\").to(\"cuda\")\n",
    "\n",
    "outputs = model.generate(**inputs, generation_config=custom_generation_config)\n",
    "\n",
    "# check CUDA memory usage\n",
    "used_memory = round(torch.cuda.max_memory_allocated() / 1024 / 1024 / 1024, 3)\n",
    "# if used_memory close to 14GB, empty the cache\n",
    "if used_memory > 14.3:\n",
    "    torch.cuda.empty_cache()\n",
    "    print(\"CUDA memory usage is high. Cleared the cache.\")\n",
    "        \n",
    "# print(outputs)\n",
    "# print(tokenizer.batch_decode(outputs['sequences'], skip_special_tokens=True))\n",
    "# outputs['scores'] is the tuple of probabilty distributions at every time step.\n",
    "\n",
    "# text_streamer = TextStreamer(tokenizer)\n",
    "# _ = model.generate(**inputs, streamer = text_streamer, max_new_tokens = 2048, num_beams=1, do_sample=True, generation_config=custom_generation_config, use_cache=True)"
   ]
  },
  {
   "cell_type": "code",
   "execution_count": 6,
   "metadata": {},
   "outputs": [],
   "source": [
    "# for k, items in outputs.items():\n",
    "#     print(k)\n",
    "# outputs['sequences'].size(), \\\n",
    "#     # outputs['sequences']"
   ]
  },
  {
   "cell_type": "code",
   "execution_count": 6,
   "metadata": {},
   "outputs": [
    {
     "name": "stdout",
     "output_type": "stream",
     "text": [
      "The Lord of the Rings: The Motion Picture Trilogy (Extended Edition Blu-ray)\n",
      "tensor(-0.6964, device='cuda:0')\n",
      "The Last Samurai (Two-Disc Special Edition)\n",
      "tensor(-0.7840, device='cuda:0')\n",
      "Kung Fu: The Legend Continues - The Complete Second Season\n",
      "tensor(-1.2433, device='cuda:0')\n",
      "The Matrix\n",
      "tensor(-1.5059, device='cuda:0')\n",
      "The Matrix\n",
      "tensor(-2.4059, device='cuda:0')\n"
     ]
    }
   ],
   "source": [
    "for i in range(len(outputs['sequences'])):\n",
    "    # print(tokenizer.batch_decode(outputs['sequences'][i], skip_special_tokens=True))\n",
    "    sequence = \"\".join(tokenizer.batch_decode(outputs['sequences'][i], skip_special_tokens=True))\n",
    "    sequence = sequence.split(\"model\\n\")[1]\n",
    "    print(sequence)\n",
    "    if num_beams_parameter == 1: print(outputs['scores'][-1][0][1]) # this is for num_beam = 1\n",
    "    else: print(outputs['sequences_scores'][i])"
   ]
  },
  {
   "cell_type": "code",
   "execution_count": null,
   "metadata": {},
   "outputs": [],
   "source": [
    "import math\n",
    "# outputs['scores'][-1]\n",
    "# check every token's probability distribution, if there is a token with a positive probability\n",
    "for i, token in enumerate(outputs['scores'][-1][0]):\n",
    "    if token != -math.inf:\n",
    "        print(f\"index: {i}, Score: {token}\")\n",
    "        print(tokenizer.decode(i))\n",
    "        print(\"\\n\")"
   ]
  },
  {
   "cell_type": "code",
   "execution_count": null,
   "metadata": {},
   "outputs": [],
   "source": [
    "# read eval dataset from local\n",
    "from datasets import load_from_disk\n",
    "\n",
    "dataset_eval = load_from_disk(\"./data/gemma_chat_eval\")\n",
    "print(\"Loaded eval dataset from {}\".format(\"./data/gemma_chat_eval\"))\n",
    "\n",
    "index_i = 16\n",
    "dataset_eval[index_i]['input'], \\\n",
    "dataset_eval[index_i]['output']"
   ]
  },
  {
   "cell_type": "code",
   "execution_count": null,
   "metadata": {},
   "outputs": [],
   "source": [
    "input_ids = [235285, 235303,    529,   2065,  64802,   1646]\n",
    "result = tokenizer.decode(input_ids)\n",
    "print(result)"
   ]
  }
 ],
 "metadata": {
  "kernelspec": {
   "display_name": "d2l",
   "language": "python",
   "name": "python3"
  },
  "language_info": {
   "codemirror_mode": {
    "name": "ipython",
    "version": 3
   },
   "file_extension": ".py",
   "mimetype": "text/x-python",
   "name": "python",
   "nbconvert_exporter": "python",
   "pygments_lexer": "ipython3",
   "version": "3.10.14"
  }
 },
 "nbformat": 4,
 "nbformat_minor": 2
}
