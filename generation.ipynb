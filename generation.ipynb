{
 "cells": [
  {
   "cell_type": "code",
   "execution_count": 1,
   "metadata": {},
   "outputs": [
    {
     "data": {
      "text/plain": [
       "29205"
      ]
     },
     "execution_count": 1,
     "metadata": {},
     "output_type": "execute_result"
    }
   ],
   "source": [
    "import json\n",
    "# asins_small.json to be used for meta data matching\n",
    "json_file_asins = './data/asins_small.json'\n",
    "# json_file_asins = './data/meta_asins.json'\n",
    "with open(json_file_asins, \"r\") as file:\n",
    "    asin_dict = json.load(file)\n",
    "    \n",
    "len(asin_dict) # 748224 for the full meta bag # 434236 after filtering out the ones with no title"
   ]
  },
  {
   "cell_type": "code",
   "execution_count": 2,
   "metadata": {},
   "outputs": [
    {
     "name": "stdout",
     "output_type": "stream",
     "text": [
      "test\n"
     ]
    },
    {
     "data": {
      "text/plain": [
       "'The Spitfire Grill'"
      ]
     },
     "execution_count": 2,
     "metadata": {},
     "output_type": "execute_result"
    }
   ],
   "source": [
    "print(\"test\")\n",
    "asin_dict['B005TZGJBA'][0]"
   ]
  },
  {
   "cell_type": "code",
   "execution_count": 3,
   "metadata": {},
   "outputs": [
    {
     "name": "stdout",
     "output_type": "stream",
     "text": [
      "Loaded eval dataset from ./data/gemma_chat_eval\n"
     ]
    },
    {
     "data": {
      "text/plain": [
       "('Below is the previous historical purchases and reviews of the user:\\n```\\nItem title: Runaway Jury (Widescreen Edition) \\n Item description: Product Description Set in New Orleans, this is the story of a mysterious man, Nick Easter who gets himself on the jury of a landmark case against a gun manufacturer in an attempt to influence the other jury members to vote a certain way. Direction: Gary Fleder Actors: Dustin Hoffman, Gene Hackman, Jennifer Beals. Special Features: Director Commentary; \"Exploring the Scene\" - Hackman & Hoffman\\'s first scene together; \"Off the Cuff\" - Lead Actor Commentary by Dustin Hoffman & Gene Hackman; Five Featurettes - Making Of, Acting, Cinematography, Production, Editing. 2.35:1 format. Language: English / Add. French, Spanish / Sub. English, Spanish Year: 2003 Runtime: 122 minutes. Amazon.com Based on the bestseller by John Grisham, Runaway Jury is a slick thriller that\\'s exciting enough to overcome the gaps in its plot. The ultimate target has been changed: Grisham\\'s legal assault on the tobacco industry was switched to the hot-button issue of gun control (no doubt to avoid comparison to The Insider ) in a riveting exposé of jury-tampering. Gene Hackman plays the ultra-cynical, utterly unscrupulous pawn of the gun-makers, using an expert staff and advanced electronics to hand-pick a New Orleans jury that will return a favorable verdict; Dustin Hoffman (making his first screen appearance with real-life former roommate Hackman) defends the grieving widow of a gun-shooting victim with idealistic zeal, while maverick juror John Cusack and accomplice Rachel Weisz play both ends against the middle in a personal quest to hold gun-makers accountable. It\\'s riveting stuff, even when it\\'s obvious that Grisham and director Gary Fleder have glossed over any details that would unravel the plot\\'s intricate design. --Jeff Shannon \\n rating: 3.0 \\n review: The movie is a good production, good acting and all but for some reason it lacks overall punch or appeal and once seen, it will probably end up just collecting dust. For me it\\'s definitely not a movie that I\\'d be interested in watching again and I\\'ve seen a lot more interesting and better movies at my time.-------\\nItem title: Final Fantasy - The Spirits Within (Special Edition) \\n Item description: Product Description The year is 2065 AD. The Earth is infested with alien spirits, and mankind faces total extinction. Led by a strange dream and guided by her mentor, Dr. Sid, scientist Aki Ross struggles to collect eight spirits in the hope of creating a force powerful enough to destroy the alien presence and pure enough to protect the planet. With the aid of the Deep Eyes Squadron, Aki must save the Earth from its darkest hate and unleash the final spirit. FINAL FANTASY is the groundbreaking new CGI film from the creators of the Final Fantasy Video Game Franchise. 2016 release The year is 2065. A meteor has crashed into Earth, unleashing millions of alien creatures who roam the planet, decimating field and city alike, threatening to extinguish life itself. Prepare to be spellbound by an amazing woman, the brave individuals at her side and an astounding mission to save the Earth. Set Contains: The special edition DVD of Final Fantasy: The Spirits Within can keep you occupied for hours. The first disc includes two feature-length commentaries. The first was recorded by co-director Motonori Sakakibara, sequence supervisor Hiroyuki Hayashida, sets and props lead artist Tatsuro Maruyama, and Phantom supervisor Takao Noguchi the day after the film was finished. They speak Japanese so you might have to read subtitles, but it\\'s fun to hear them laugh as they enjoy the film. The second commentary, which is less giddy and more informative (and in English), is by animation director Andy Jones, editor Chris S. Capp, and staging director Tani Kunitake, who discuss technical elements of the animation, notes on the casting, and subtle details you might not have noticed. There\\'s also an isolated version of the powerful score with infrequent but interesting comments from composer Elliot Goldenthal, and 11 scenes (81 minutes total) that alternate among storyboard, rough animation, and final film, with optional filmmaker commentary or subtitled factoids. The bulk of the second disc is a 30-minute making-of documentary supplemented by numerous easy-to-find Easter eggs. There are also profiles of the seven major characters (including personal background, as well as voice actor and lead animator info), sketches and explications of three of the film\\'s vehicles, DVD-ROM content, and an editing tool that allows the viewer to rearrange parts of the council-conference scene and play them back. Even the menu intros are interesting to watch! --David Horiuchi \\n rating: 5.0 \\n review: Loved this movie. The plot was great at the beginning but towards the end it gets a little spoiled by the excessive melodrama. Animation is absolutely fantastic but I feel the producers and director should have focused a bit more on the storyline and characters. Animation is not what makes a movie great. Why the five stars then? Because the flaws aren\\'t significant enough for me to stop me from considering this movie a cornerstone in cinematography. Everything you see, hear and experience is done from scratch using technology.-------\\nItem title: What Dreams May Come \\n Item description: Academy Award-winners Robin Williams and Cuba Gooding, Jr. embark on a supernatural journey beyond the realm of mortality in this visually stunning and unforgettable epic. After Chris Nielsen (Williams) dies in an accident, he tries to remain close to his beautiful mortal wife, Annie (Annabella Sciorra). With the friendly spirit (Gooding, Jr.) assigned to guide him, he begins to adapt to his new state of being in a setting that can only be described as heavenly. But when his distraught wife takes her own life, she is banished to an eternal damnation. Chris vows to find her so they can share eternity together, but no one has ever succeeded in rescuing a soul from such a horrific fate. With the help of his heavenly friends, Chris sets out on the most perilous and harrowing journey of his life, or afterlife: a quest for everlasting love that will take him to hell and back!Bonus Content: Feature Commentary with Director Vincent Ward Feature Commentary with Director Vincent Ward About the Visual Effects About the Visual Effects \"Making of\" Featurette \"Making of\" Featurette Alternate Ending Alternate Ending Photo Gallery Photo Gallery Cast and Filmmakers Cast and Filmmakers Production Information Production Information Theatrical Trailer Theatrical Trailer DVD-ROM Features DVD-ROM Features \\n rating: 4.0 \\n review: Despite what other people are saying, I thought this was a wonderful movie. A touching story filled with drama, despair and hope. A not-so-new idea of what heaven and hell could be is transformed into a unique vision with the aid of astonishing visual effects.<br />The movie could have been a bit better with a slightly different cast, most noticeably either another actress as Robin William\\'s great love Annie, or Robin himself replaced by someone else. Acting isn\\'t quite Oscar-worthy but convincing enough.<br />All in all, like I said, I personally found this movie wonderful. It\\'s one of the few titles I own that I go back every now and then and watch it again.-------\\nItem title: Crouching Tiger, Hidden Dragon \\n Item description: Product Description Named \"Best Picture of the Year\" by over 100 critics nationwide! Two master warriors (Chow Yun Fat and Michelle Yeoh) are faced with their greatest challenge when the treasured Green Destiny sword isstolen. A young aristocrat (Zhang Ziyi) prepares for an arranged marriage, but soon reveals her superior fighting talents and her deeply romantic past. As each warrior battles for justice, they come face to face with their worst enemy - and the inescapable, enduring power of love. Set against 19th-century China\\'s breathtaking landscape, CROUCHING TIGER, HIDDEN DRAGON is the action-packed, box office smash from acclaimed director Ang Lee (Sense and Sensibility, The Ice Storm) featuring stunning martial arts choreography by Yuen Wo Ping (The Matrix). 2016 release Two master warriors (Chow Yun Fat and Michelle Yeoh) are faced with their greatest challenge when the treasured Green Destiny sword isstolen. A young aristocrat (Zhang Ziyi) prepares for an arranged marriage, but soon reveals her su Amazon.com Hong Kong wuxia films, or martial arts fantasies, traditionally squeeze poor acting, slapstick humor, and silly story lines between elaborate fight scenes in which characters can literally fly. Crouching Tiger, Hidden Dragon has no shortage of breathtaking battles, but it also has the dramatic soul of a Greek tragedy and the sweep of an epic romance. This is the work of director Ang Lee, who fell in love with movies while watching wuxia films as a youngster and made Crouching Tiger as a tribute to the form. To elevate the genre above its B-movie roots and broaden its appeal, Lee did two important things. First, he assembled an all-star lineup of talent, joining the famous Asian actors Chow Yun-fat and Michelle Yeoh with the striking, charismatic newcomer Zhang Ziyi. Behind the scenes, Lee called upon cinematographer Peter Pau ( The Killer , The Bride with White Hair ) and legendary fight choreographer Yuen Wo-ping, best known outside Asia for his work on The Matrix . Second, in adapting the story from a Chinese pulp-fiction novel written by Wang Du Lu, Lee focused not on the pursuit of a legendary sword known as \"The Green Destiny,\" but instead on the struggles of his female leads against social obligation. In his hands, the requisite fight scenes become another means of expressing the individual spirits of his characters and their conflicts with society and each other. The filming required an immense effort from all involved. Chow and Yeoh had to learn to speak Mandarin, which Lee insisted on using instead of Cantonese to achieve a more classic, lyrical feel. The astonishing battles between Jen (Zhang) and Yu Shu Lien (Yeoh) on the rooftops and Jen and Li Mu Bai (Chow) atop the branches of bamboo trees required weeks of excruciating wire and harness work (which in turn required meticulous \"digital wire removal\"). But the result is a seamless blend of action, romance, and social commentary in a populist film that, like its young star Zhang, soars with balletic grace and dignity. --Eugene Wei \\n rating: 4.0 \\n review: At first glance I didn\\'t understand how the characters, who were supposed to be martial arts experts could defy gravity by jumping 50 feet in the air and bounce from tree branch to tree branch with more ease than a monkey. It\\'s metaphoric. You will realize the movie is a lot deeper than it seems, a true work of art. Artistic, captivating, dramatic.-------\\nItem title: Get Shorty \\n Item description:  \\n rating: 5.0 \\n review: This is one of the few movies I own that I can watch again and again. It is definitely one of my all-time favorites.<br /><br />Get Shorty is smart and funny. A load of great actors and great acting, full of smart humor and a great story. Definitely for a  more mature audience and not for people that think such titles as Final Destination are worthy of an Oscar ...-------\\nItem title: The League of Extraordinary Gentlemen (Widescreen Edition) \\n Item description:  \\n rating: 3.0 \\n review: The movie is pretty mediocre, but entertaining. Better than van Helsing. If you compare the movie to the characters out of the books which it depicts you\\'ll probably be disapointed, so take it for what it is. A movie that drives to entertain the masses, not to satisfy the bookworms [no offense to anybody here. I happen to be one also]-------\\nItem title: The Last Samurai (Two-Disc Special Edition) \\n Item description: Product Description Epic Action Drama. Set in Japan during the 1870s, The Last Samurai tells the story of Capt. Nathan Algren (Tom Cruise), a respected American military officer hired by the Emperor of Japan to train the country\\'s first army in the art of modern warfare. As the Emperor attempts to eradicate the ancient Imperial Samurai warriors in preparation for more Westernized and trade-friendly government policies, Algren finds himself unexpectedly impressed and influenced by his encounters with the Samurai, which places him at the center of a struggle between two eras and two worlds, with only his own sense of honor to guide him. Set Contains: No actor works harder to open a movie than Tom Cruise. His enthusiasm is throughout the DVD extras as he mirrors his samurai character by constantly talking about \"loyalty\" and \"discipline\" while working on the film. However as a post-movie experience, the top-line extras with Cruise and director Edward Zwick are repetitive and underwhelming, with too many clips from the film we assume DVD viewers have just seen. The History Channel show is also a pre-release promotional device that misses an opportunity to really dig into this intriguing time period. Better are segments on the costumes, the production design, and how you put together an Imperial army--in New Zealand, no less. Zwick\\'s low-key and dense commentary (plus a \"Video Journal\") is not vital, but he illustrates many of the little peculiarities it took to make the wide-ranging film come together. There are two deleted scenes; a samurai\\'s first appearance is particularly memorable. --Doug Thomas \\n rating: 5.0 \\n review: The Last Samurai is an inspiring, artistic, touching movie. It even manages to stay pretty close to the historical facts it\\'s based on.<br /><br />The premise of the movie is anything but new, even so, it\\'s a unique production. It offers insight into the japanese culture and we, the audience, take it in through the senses of the main character, Nathan Allgren [Tom Cruise]. We learn about the samurai, honor, trust, pursuit of perfection and harmony, discipline and tradition, all adjectives that make Japan what it is today.<br /><br />There are a couple of things however that I personally would have liked to have seen changed. A bit more action and a bit less philosophy and talk [less gab, more shooting one might say].<br /><br />The last scenes of the movie could have definitely done well without the typical hollywood dramatic dialogue and action. It was a bit over the top compared to the rest of the movie which was realistic and down-to-earth.<br /><br />Almost forgot to mention the movie\\'s soundtrack. Absolutely brilliant, the tracks are a combination of japanese traditional music and western music. Beautiful.<br /><br />All in all, I absolutely loved this movie and is now part of my DVD collection. It\\'s one of the few titles I would enjoy watching again once in a while.-------\\nItem title: Dungeons & Dragons \\n Item description: Dungeons & Dragons (New Line Pl \\n rating: 2.0 \\n review: I did not like this movie one bit. Actors are unconvincing, the storyline is extremely banal, bad costumes [you can tell they\\'re made for a movie, not a single ounce of realism]. It wasn\\'t worth the $5 I spent on it. There is loads of better fantasy movies out there, you\\'re probably better of not wasting your time with this one.-------\\nItem title: Equilibrium \\n Item description: Product Description Delivering awesome high-tech action in the power-packed style of THE MATRIX and MINORITY REPORT, EQUILIBRIUM stars Christian Bale (REIGN OF FIRE) and Taye Diggs (CHICAGO) in a thrilling look at a future where the only crime is being human! In an attempt to end wars and maintain peace, humankind has outlawed the things that trigger emotion -- literature, music, and art. To uphold the law, a special breed of police is assigned to eliminate all transgressors. But when the top enforcer (Bale) misses a dose of an emotion-blocking drug, he begins to realize that things are not as they seem! Also starring Sean Bean (THE LORD OF THE RINGS) and Emily Watson (RED DRAGON). Amazon.com A broad science fiction thriller in a classic vein, Equilibrium takes a respectable stab at a Fahrenheit 451 -like cautionary fable. The story finds Earth\\'s post-World War III humankind in a state of severe emotional repression: If no one feels anything, no one will be inspired by dark passions to attack their neighbors. Writer-director Kurt Wimmer\\'s monochromatic, Metropolis -influenced cityscape provides an excellent backdrop to the heavy-handed mission of John Preston (Christian Bale), a top cop who busts \"sense offenders\" and crushes sentimental, sensual, and artistic relics from a bygone era. Predictably, Preston becomes intrigued by his victims and that which they die to cherish; he stops taking his mandatory, mood-flattening drug and is even aroused by a doomed prisoner (Emily Watson). Wimmer\\'s wrongheaded martial arts/dueling guns motif is sheer silliness (a battle over a puppy doesn\\'t help), but Equilibrium should be seen for Bale\\'s moving performance as a man shocked back to human feeling. --Tom Keogh \\n rating: 5.0 \\n review: Christian Bale, the main character in the movie Equilibrium should have definitely been Neo in the Matrix trilogy.<br />Equilibrium\\'s premise is almost the same as Orwell\\'s book called 1984.<br />In a future world, emotion and anything that might trigger any kind of emotion is outlawed and destroyed. Art is burned. People that are caught having any sort of feelings are instantly sentenced to death. The masses are being brainwashed, being taught that feeling is the mother of chaos, of suffering, of war and destruction.<br />Action scenes? Forget the Matrix! Cleric\\'s moves will leave you dumbstruck.<br />Great movie, great plot, great action. I recommend it to everyone.-------\\n```\\nAnd here is the user\\'s intention: Hey recommender system, I\\'m craving a new martial arts movie with some great fighting scenes - got anything in mind for me?\\nPlease infer the user\\'s preference based on historical purchases and reviews along with the user\\'s intention, and then recommend an item for this user. Please just give the title of the recommended item.',\n",
       " 'Fists of Fury [DVD]')"
      ]
     },
     "execution_count": 3,
     "metadata": {},
     "output_type": "execute_result"
    }
   ],
   "source": [
    "# read eval dataset from local\n",
    "from datasets import load_from_disk\n",
    "\n",
    "dataset_eval = load_from_disk(\"./data/gemma_chat_eval\")\n",
    "print(\"Loaded eval dataset from {}\".format(\"./data/gemma_chat_eval\"))\n",
    "\n",
    "# dataset_eval.num_rows\n",
    "# index_i = 6\n",
    "index_i = 46\n",
    "dataset_eval[index_i]['input'], \\\n",
    "dataset_eval[index_i]['output']"
   ]
  },
  {
   "cell_type": "code",
   "execution_count": 4,
   "metadata": {},
   "outputs": [
    {
     "name": "stdout",
     "output_type": "stream",
     "text": [
      "==((====))==  Unsloth: Fast Gemma patching release 2024.4\n",
      "   \\\\   /|    GPU: Tesla T4. Max memory: 14.581 GB. Platform = Linux.\n",
      "O^O/ \\_/ \\    Pytorch: 2.2.2. CUDA = 7.5. CUDA Toolkit = 12.1.\n",
      "\\        /    Bfloat16 = FALSE. Xformers = 0.0.25.post1. FA = False.\n",
      " \"-____-\"     Free Apache license: http://github.com/unslothai/unsloth\n"
     ]
    },
    {
     "name": "stderr",
     "output_type": "stream",
     "text": [
      "Unused kwargs: ['_load_in_4bit', '_load_in_8bit', 'quant_method']. These kwargs are not used in <class 'transformers.utils.quantization_config.BitsAndBytesConfig'>.\n",
      "Gemma's activation function should be approximate GeLU and not exact GeLU.\n",
      "Changing the activation function to `gelu_pytorch_tanh`.if you want to use the legacy `gelu`, edit the `model.config` to set `hidden_activation=gelu`   instead of `hidden_act`. See https://github.com/huggingface/transformers/pull/29402 for more details.\n",
      "Unsloth 2024.4 patched 18 layers with 18 QKV layers, 18 O layers and 18 MLP layers.\n",
      "Using customized constraint logits processor\n"
     ]
    },
    {
     "name": "stdout",
     "output_type": "stream",
     "text": [
      "Creating trie...\n",
      "new_token_input_ids_list[0]: [2]\n",
      "new_token_input_ids_list[0]: [2]\n",
      "new_token_input_ids_list[0]: [2]\n",
      "new_token_input_ids_list[0]: [2]\n",
      "new_token_input_ids_list[0]: [2]\n",
      "new_token_input_ids_list[0]: [2, 235288]\n",
      "new_token_input_ids_list[0]: [2, 651]\n",
      "new_token_input_ids_list[0]: [2, 114167]\n",
      "new_token_input_ids_list[0]: [2, 235288]\n",
      "new_token_input_ids_list[0]: [2, 651]\n",
      "new_token_input_ids_list[0]: [2, 235288, 781]\n",
      "new_token_input_ids_list[0]: [2, 651, 10391]\n",
      "new_token_input_ids_list[0]: [2, 114167, 13548]\n",
      "new_token_input_ids_list[0]: [2, 235288, 781]\n",
      "new_token_input_ids_list[0]: [2, 651, 10391]\n",
      "new_token_input_ids_list[0]: [2, 235288, 781, 11523]\n",
      "new_token_input_ids_list[0]: [2, 651, 10391, 110911]\n",
      "new_token_input_ids_list[0]: [2, 114167, 13548, 10116]\n",
      "new_token_input_ids_list[0]: [2, 235288, 781, 11523]\n",
      "new_token_input_ids_list[0]: [2, 651, 10391, 110911]\n",
      "new_token_input_ids_list[0]: [2, 235288, 781, 11523, 35124]\n",
      "new_token_input_ids_list[0]: [2, 651, 10391, 110911, 591]\n",
      "new_token_input_ids_list[0]: [2, 114167, 13548, 10116, 892]\n",
      "new_token_input_ids_list[0]: [2, 235288, 781, 11523, 35124]\n",
      "new_token_input_ids_list[0]: [2, 651, 10391, 110911, 591]\n",
      "new_token_input_ids_list[0]: [2, 235288, 781, 11523, 35124, 235269]\n",
      "new_token_input_ids_list[0]: [2, 651, 10391, 110911, 591, 9069]\n",
      "new_token_input_ids_list[0]: [2, 114167, 13548, 10116, 892, 34226]\n",
      "new_token_input_ids_list[0]: [2, 235288, 781, 11523, 35124, 235269]\n",
      "new_token_input_ids_list[0]: [2, 651, 10391, 110911, 591, 9069]\n",
      "new_token_input_ids_list[0]: [2, 235288, 781, 11523, 35124, 235269, 52469]\n",
      "new_token_input_ids_list[0]: [2, 651, 10391, 110911, 591, 9069, 235290]\n",
      "new_token_input_ids_list[0]: [2, 114167, 13548, 10116, 892, 34226, 235307]\n",
      "new_token_input_ids_list[0]: [2, 235288, 781, 11523, 35124, 235269, 52469]\n",
      "new_token_input_ids_list[0]: [2, 651, 10391, 110911, 591, 9069, 235290]\n",
      "new_token_input_ids_list[0]: [2, 235288, 781, 11523, 35124, 235269, 52469, 20282]\n",
      "new_token_input_ids_list[0]: [2, 651, 10391, 110911, 591, 9069, 235290, 55246]\n",
      "new_token_input_ids_list[0]: [2, 114167, 13548, 10116, 892, 34226, 235307, 0]\n",
      "new_token_input_ids_list[0]: [2, 235288, 781, 11523, 35124, 235269, 52469, 20282]\n",
      "new_token_input_ids_list[0]: [2, 651, 10391, 110911, 591, 9069, 235290, 55246]\n",
      "new_token_input_ids_list[0]: [2, 235288, 781, 11523, 35124, 235269, 52469, 20282, 0]\n",
      "new_token_input_ids_list[0]: [2, 651, 10391, 110911, 591, 9069, 235290, 55246, 8820]\n",
      "new_token_input_ids_list[0]: [2, 114167, 13548, 10116, 892, 34226, 235307, 0, 0]\n",
      "new_token_input_ids_list[0]: [2, 235288, 781, 11523, 35124, 235269, 52469, 20282, 0]\n",
      "new_token_input_ids_list[0]: [2, 651, 10391, 110911, 591, 9069, 235290, 55246, 8820]\n",
      "new_token_input_ids_list[0]: [2, 235288, 781, 11523, 35124, 235269, 52469, 20282, 0, 0]\n",
      "new_token_input_ids_list[0]: [2, 651, 10391, 110911, 591, 9069, 235290, 55246, 8820, 12469]\n",
      "new_token_input_ids_list[0]: [2, 114167, 13548, 10116, 892, 34226, 235307, 0, 0, 0]\n",
      "new_token_input_ids_list[0]: [2, 235288, 781, 11523, 35124, 235269, 52469, 20282, 0, 0]\n",
      "new_token_input_ids_list[0]: [2, 651, 10391, 110911, 591, 9069, 235290, 55246, 8820, 12469]\n",
      "new_token_input_ids_list[0]: [2, 235288, 781, 11523, 35124, 235269, 52469, 20282, 0, 0, 0]\n",
      "new_token_input_ids_list[0]: [2, 651, 10391, 110911, 591, 9069, 235290, 55246, 8820, 12469, 235275]\n",
      "new_token_input_ids_list[0]: [2, 114167, 13548, 10116, 892, 34226, 235307, 0, 0, 0, 0]\n",
      "new_token_input_ids_list[0]: [2, 235288, 781, 11523, 35124, 235269, 52469, 20282, 0, 0, 0]\n",
      "new_token_input_ids_list[0]: [2, 651, 10391, 110911, 591, 9069, 235290, 55246, 8820, 12469, 235275]\n",
      "CUDA memory usage is high. Cleared the cache.\n"
     ]
    }
   ],
   "source": [
    "from transformers import TextStreamer, GenerationConfig\n",
    "from unsloth import FastLanguageModel\n",
    "import torch\n",
    "\n",
    "max_seq_length = 4096 # 8192 | Choose any! We auto support RoPE Scaling internally!\n",
    "dtype = None # None for auto detection. Float16 for Tesla T4, V100, Bfloat16 for Ampere+\n",
    "load_in_4bit = True # Use 4bit quantization to reduce memory usage. Can be False.\n",
    "    \n",
    "model, tokenizer = FastLanguageModel.from_pretrained(\n",
    "    # model_name = \"outputs/model_04242024_090830/\", # YOUR MODEL YOU USED FOR TRAINING\n",
    "    # model_name = \"unsloth/gemma-2b-it-bnb-4bit\",\n",
    "    model_name = \"outputs/checkpoint-1000\",\n",
    "    max_seq_length = max_seq_length,\n",
    "    dtype = dtype,\n",
    "    load_in_4bit = load_in_4bit,\n",
    ")\n",
    "FastLanguageModel.for_inference(model) # Enable native 2x faster inference\n",
    "        \n",
    "prompt_template = \"<start_of_turn>user\\n{}<end_of_turn>\\n<start_of_turn>model\\n{}\"\n",
    "\n",
    "input = dataset_eval[index_i]['input']\n",
    "if input.endswith(\"title and description.\"):\n",
    "    input = \"\".join(dataset_eval[index_i]['input'].split(\"\\n\")[:-1]) + \"Please infer the user's preference based on historical purchases and reviews along with the user's intention, and then recommend an item for this user. Please just give the title of the recommended item.\"\n",
    "\n",
    "# input = dataset_eval[index_i]['input'] + \"\\n Please also explain yourself in one sentence or two, why the user might be interested in your recommended item.\"\n",
    "# input = \"Hello, I am looking for a movie that will make me feel happy and excited. I love action movies with a lot of suspense and thrill. I also enjoy movies with a lot of drama and romance. Can you recommend a movie that will make me feel happy and excited? And please explain why you recommend this movie.\"\n",
    "# input= \"Below is the previous historical purchases and reviews of the user:\\n```\\nItem title: One Step Behind \\n Item description: A dangerous man awakes in the care of a mysterious woman. Once the pieces of his past fall into place, he's faced with the stark choice of accepting his new found love or becoming the man he once was. \\n rating: 4.0 \\n review: Nice Hard Boiled Indie! Plenty of Bad Guys, Femme Fatales and one Big Bad Ass Reluctant Hero! If you like old school Film Noir -  more specifically Hard Boiled - you'll enjoy this little indie film. It reminded me a lot of the Coen Brother's BLOOD SIMPLE and another desert noir from the 90s starring Nick Cage RED ROCK WEST. It has that same pace and flavor to it and it pays of at the end. Well done!-------\\nItem title: Untouched \\n Item description: This legal drama explores the life-changing effects a secret abortion has on Mitch Thomas. A town startled by an infant found murdered in a dumpster, stirs Mitch, the reluctant attorney, conflicted by the love he lost, to unveil his haunting secret. \\n rating: 4.0 \\n review: Nice courtroom drama with it's heart in the right place. Beautifully shot and written, this is an intriguing story with a bittersweet ending. Really enjoyed it!-------\\nItem title: The Man In The Silo \\n Item description: A successful business man wakes up to find himself in a dilapidated grain silo, he must reconnect the dots of his traumatized memory to discover the truth of how he ended up there. \\n rating: 5.0 \\n review: This is a beautiful film full of great cinematic storytelling plus a classic re-hash of the Bernard Herman's Vertigo Score. Being a Hitchcock fan, I can honestly say that this is a true HITCHCOCKIAN film - which we hear a lot but hardly ever see. You can tell the film was made with so much attention to detail and passion by the great cinematography, transitions, acting, pace, acting and editing - and everything works together to achieve a great visual art piece. But don't get me wrong, it is also super exciting and entertaining as the film keeps you guessing from beginning to end. It is full of intrigue and suspense - and it is haunting. I highly recommend THE MAN IN THE SILO and I can almost guarantee you haven't seen anything like it!-------\\n```\\nAnd here is the user's intention: I really enjoy indie films with strong storytelling and emotional depth, so I'm looking for a movie that will steal my heart and make me want to fall in love all over again.\\nPlease infer the user's preference based on historical purchases and reviews along with the user's intention, and then recommend an item for this user and provide its description.\"\n",
    "# input = \"hello, can you recommend me a random movie? Maybe a romantic one? And please describe the reason why you recommend this movie.\"\n",
    "\n",
    "inputs = tokenizer(\n",
    "[\n",
    "    # \"### Input:\\n{inputs}\\n\\n### Response:{outputs}\".format(inputs= input, outputs= \"\"),\n",
    "    # \"{inputs}\".format(inputs= input),\n",
    "    prompt_template.format(input, \"\"),    \n",
    "], return_tensors = \"pt\").to(\"cuda\")\n",
    "\n",
    "num_beams_parameter = 5\n",
    "custom_generation_config = GenerationConfig(\n",
    "    bos_token_id=tokenizer.bos_token_id,\n",
    "    eos_token_id=tokenizer.eos_token_id,\n",
    "    pad_token_id=tokenizer.pad_token_id,\n",
    "    asin_dict=asin_dict,\n",
    "    tokenizer=tokenizer,\n",
    "    return_dict_in_generate=True,\n",
    "    output_scores=True,\n",
    "    # output_logits=True,\n",
    "    # do_sample=True,\n",
    "    early_stopping=True,\n",
    "    num_beams=num_beams_parameter, \n",
    "    num_return_sequences=num_beams_parameter,\n",
    "    max_new_tokens=35,\n",
    "    use_cache=True,\n",
    "    temperature=1,\n",
    "    num_beam_groups=5, # In this generation mode, `num_beams` should be divisible by `num_beam_groups`. `diversity_penalty` is not 0.0 or `num_beam_groups` is not 1, triggering group beam search. \n",
    "    diversity_penalty=0.9, # `diversity_penalty` should be greater than `0.0`, otherwise your groups will be identical.\n",
    ")\n",
    "\n",
    "# inputs = tokenizer(\n",
    "# [\n",
    "#     prompt_template.format(input, \"\"),    \n",
    "# ], return_tensors = \"pt\").to(\"cuda\")\n",
    "\n",
    "outputs = model.generate(**inputs, generation_config=custom_generation_config)\n",
    "\n",
    "# check CUDA memory usage\n",
    "used_memory = round(torch.cuda.max_memory_allocated() / 1024 / 1024 / 1024, 3)\n",
    "# if used_memory close to 14GB, empty the cache\n",
    "if used_memory > 1:\n",
    "    torch.cuda.empty_cache()\n",
    "    print(\"CUDA memory usage is high. Cleared the cache.\")\n",
    "        \n",
    "# print(outputs)\n",
    "# print(tokenizer.batch_decode(outputs['sequences'], skip_special_tokens=True))\n",
    "# outputs['scores'] is the tuple of probabilty distributions at every time step.\n",
    "\n",
    "# text_streamer = TextStreamer(tokenizer)\n",
    "# _ = model.generate(**inputs, streamer = text_streamer, max_new_tokens = 2048, num_beams=1, do_sample=True, generation_config=custom_generation_config, use_cache=True)"
   ]
  },
  {
   "cell_type": "code",
   "execution_count": 6,
   "metadata": {},
   "outputs": [],
   "source": [
    "# for k, items in outputs.items():\n",
    "#     print(k)\n",
    "# outputs['sequences'].size(), \\\n",
    "#     # outputs['sequences']"
   ]
  },
  {
   "cell_type": "code",
   "execution_count": 5,
   "metadata": {},
   "outputs": [
    {
     "name": "stdout",
     "output_type": "stream",
     "text": [
      "Crouching Tiger, Hidden Dragon\n",
      "tensor(-0.2512, device='cuda:0')\n",
      "The Last Samurai (Two-Disc Special Edition)\n",
      "tensor(-0.6932, device='cuda:0')\n",
      "Crouching Tiger, Hidden Dragon\n",
      "tensor(-1.0386, device='cuda:0')\n",
      "Kung Fu Master [DVD]\n",
      "tensor(-1.2536, device='cuda:0')\n",
      "The Last Samurai (Two-Disc Special Edition)\n",
      "tensor(-1.5116, device='cuda:0')\n"
     ]
    }
   ],
   "source": [
    "for i in range(len(outputs['sequences'])):\n",
    "    # print(tokenizer.batch_decode(outputs['sequences'][i], skip_special_tokens=True))\n",
    "    sequence = \"\".join(tokenizer.batch_decode(outputs['sequences'][i], skip_special_tokens=True))\n",
    "    sequence = sequence.split(\"model\\n\")[1]\n",
    "    print(sequence)\n",
    "    if num_beams_parameter == 1: print(outputs['scores'][-1][0][1]) # this is for num_beam = 1\n",
    "    else: print(outputs['sequences_scores'][i])"
   ]
  },
  {
   "cell_type": "code",
   "execution_count": 7,
   "metadata": {},
   "outputs": [
    {
     "ename": "ModuleNotFoundError",
     "evalue": "No module named 'torch.eval'",
     "output_type": "error",
     "traceback": [
      "\u001b[0;31m---------------------------------------------------------------------------\u001b[0m",
      "\u001b[0;31mModuleNotFoundError\u001b[0m                       Traceback (most recent call last)",
      "Cell \u001b[0;32mIn[7], line 2\u001b[0m\n\u001b[1;32m      1\u001b[0m \u001b[38;5;28;01mimport\u001b[39;00m \u001b[38;5;21;01mtorch\u001b[39;00m\n\u001b[0;32m----> 2\u001b[0m \u001b[38;5;28;01mfrom\u001b[39;00m \u001b[38;5;21;01mtorch\u001b[39;00m\u001b[38;5;21;01m.\u001b[39;00m\u001b[38;5;21;01meval\u001b[39;00m\u001b[38;5;21;01m.\u001b[39;00m\u001b[38;5;21;01mmetrics\u001b[39;00m \u001b[38;5;28;01mimport\u001b[39;00m ReciprocalRank\n\u001b[1;32m      4\u001b[0m metric \u001b[38;5;241m=\u001b[39m ReciprocalRank(k\u001b[38;5;241m=\u001b[39m\u001b[38;5;241m1\u001b[39m)\n\u001b[1;32m      5\u001b[0m metric\u001b[38;5;241m.\u001b[39mupdate(torch\u001b[38;5;241m.\u001b[39mtensor([[\u001b[38;5;241m0\u001b[39m, \u001b[38;5;241m0.1\u001b[39m, \u001b[38;5;241m0.6\u001b[39m, \u001b[38;5;241m0.3\u001b[39m], [\u001b[38;5;241m0\u001b[39m, \u001b[38;5;241m0\u001b[39m, \u001b[38;5;241m1\u001b[39m, \u001b[38;5;241m0\u001b[39m]]), torch\u001b[38;5;241m.\u001b[39mtensor([\u001b[38;5;241m2\u001b[39m, \u001b[38;5;241m1\u001b[39m]))\n",
      "\u001b[0;31mModuleNotFoundError\u001b[0m: No module named 'torch.eval'"
     ]
    }
   ],
   "source": [
    "import torch\n",
    "from torch.eval.metrics import ReciprocalRank\n",
    "\n",
    "metric = ReciprocalRank(k=1)\n",
    "metric.update(torch.tensor([[0, 0.1, 0.6, 0.3], [0, 0, 1, 0]]), torch.tensor([2, 1]))"
   ]
  },
  {
   "cell_type": "code",
   "execution_count": null,
   "metadata": {},
   "outputs": [],
   "source": [
    "import math\n",
    "# outputs['scores'][-1]\n",
    "# check every token's probability distribution, if there is a token with a positive probability\n",
    "for i, token in enumerate(outputs['scores'][-1][0]):\n",
    "    if token != -math.inf:\n",
    "        print(f\"index: {i}, Score: {token}\")\n",
    "        print(tokenizer.decode(i))\n",
    "        print(\"\\n\")"
   ]
  },
  {
   "cell_type": "code",
   "execution_count": null,
   "metadata": {},
   "outputs": [],
   "source": [
    "# read eval dataset from local\n",
    "from datasets import load_from_disk\n",
    "\n",
    "dataset_eval = load_from_disk(\"./data/gemma_chat_eval\")\n",
    "print(\"Loaded eval dataset from {}\".format(\"./data/gemma_chat_eval\"))\n",
    "\n",
    "index_i = 16\n",
    "dataset_eval[index_i]['input'], \\\n",
    "dataset_eval[index_i]['output']"
   ]
  },
  {
   "cell_type": "code",
   "execution_count": null,
   "metadata": {},
   "outputs": [],
   "source": [
    "input_ids = [235285, 235303,    529,   2065,  64802,   1646]\n",
    "result = tokenizer.decode(input_ids)\n",
    "print(result)"
   ]
  }
 ],
 "metadata": {
  "kernelspec": {
   "display_name": "d2l",
   "language": "python",
   "name": "python3"
  },
  "language_info": {
   "codemirror_mode": {
    "name": "ipython",
    "version": 3
   },
   "file_extension": ".py",
   "mimetype": "text/x-python",
   "name": "python",
   "nbconvert_exporter": "python",
   "pygments_lexer": "ipython3",
   "version": "3.10.14"
  }
 },
 "nbformat": 4,
 "nbformat_minor": 2
}
