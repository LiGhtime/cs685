{
 "cells": [
  {
   "cell_type": "markdown",
   "metadata": {},
   "source": [
    "# 1. Pre-process data"
   ]
  },
  {
   "cell_type": "code",
   "execution_count": null,
   "metadata": {},
   "outputs": [],
   "source": [
    "# construct training data for the model\n",
    "import json\n",
    "\n",
    "# Function to read a .jsonl file\n",
    "def read_jsonl(file_path):\n",
    "    data = []\n",
    "    with open(file_path, 'r') as file:\n",
    "        for line in file:\n",
    "            # Parse each line as JSON and append to the data list\n",
    "            data.append(json.loads(line))\n",
    "            # break\n",
    "    return data\n",
    "\n",
    "movies_meta_data = read_jsonl('./data/meta_Movies_and_TV.jsonl')"
   ]
  },
  {
   "cell_type": "code",
   "execution_count": null,
   "metadata": {},
   "outputs": [
    {
     "name": "stdout",
     "output_type": "stream",
     "text": [
      "main_category: Prime Video\n",
      "title: Glee\n",
      "subtitle: UnentitledUnentitled\n",
      "average_rating: 4.7\n",
      "rating_number: 2004\n",
      "features: ['IMDb 6.8', '2013', '22 episodes', 'X-Ray', 'TV-14']\n",
      "description: ['Entering its fourth season, this year the members of New Directions compete amongst themselves to be the \"new Rachel\" and hold auditions to find new students. Meanwhile, the graduating class leaves the comforts of McKinley where Rachel struggles to please her demanding NYADA teacher (Kate Hudson) and Kurt second-guesses his decision to stay in Lima. Four newcomers also join the musical comedy.']\n",
      "price: 22.39\n",
      "images: [{'360w': 'https://images-na.ssl-images-amazon.com/images/S/pv-target-images/8251ee0b9f888d262cd817a5f1aee0b29ffed56a4535af898b827292f881e169._RI_SX360_FMwebp_.jpg', '480w': 'https://images-na.ssl-images-amazon.com/images/S/pv-target-images/8251ee0b9f888d262cd817a5f1aee0b29ffed56a4535af898b827292f881e169._RI_SX480_FMwebp_.jpg', '720w': 'https://images-na.ssl-images-amazon.com/images/S/pv-target-images/8251ee0b9f888d262cd817a5f1aee0b29ffed56a4535af898b827292f881e169._RI_SX720_FMwebp_.jpg', '1080w': 'https://images-na.ssl-images-amazon.com/images/S/pv-target-images/8251ee0b9f888d262cd817a5f1aee0b29ffed56a4535af898b827292f881e169._RI_SX1080_FMwebp_.jpg', '1440w': 'https://images-na.ssl-images-amazon.com/images/S/pv-target-images/8251ee0b9f888d262cd817a5f1aee0b29ffed56a4535af898b827292f881e169._RI_SX1440_FMwebp_.jpg', '1920w': 'https://images-na.ssl-images-amazon.com/images/S/pv-target-images/8251ee0b9f888d262cd817a5f1aee0b29ffed56a4535af898b827292f881e169._RI_SX1920_FMwebp_.jpg', 'variant': 'MAIN'}]\n",
      "videos: []\n",
      "store: None\n",
      "categories: ['Comedy', 'Drama', 'Arts, Entertainment, and Culture', 'Music Videos and Concerts']\n",
      "details: {'Content advisory': ['Violence', 'substance use', 'alcohol use', 'smoking', 'foul language', 'sexual content'], 'Audio languages': ['English'], 'Subtitles': ['English [CC]'], 'Directors': ['Bradley Buecker', 'Brad Falchuk', 'Eric Stoltz', 'Paris Barclay', 'Ian Brennan', 'Ryan Murphy', 'Alfonso Gomez-Rejon', 'Elodie Keene', 'Adam Shankman', 'Paul McCrane']}\n",
      "parent_asin: B00ABWKL3I\n",
      "bought_together: None\n",
      "*************************************************\n",
      "title: Glee\n",
      "description: Entering its fourth season, this year the members of New Directions compete amongst themselves to be the \"new Rachel\" and hold auditions to find new students. Meanwhile, the graduating class leaves the comforts of McKinley where Rachel struggles to please her demanding NYADA teacher (Kate Hudson) and Kurt second-guesses his decision to stay in Lima. Four newcomers also join the musical comedy.\n"
     ]
    }
   ],
   "source": [
    "for movie in movies_meta_data:\n",
    "    for key in movie.keys():\n",
    "        print(\"{0}: {1}\".format(key, movie[key]))\n",
    "    print(\"*************************************************\")\n",
    "    print(\"title: {0}\".format(movie['title']))\n",
    "    print(\"description: {0}\".format(\"\".join(movie['description'])))\n",
    "    break"
   ]
  },
  {
   "cell_type": "code",
   "execution_count": 16,
   "metadata": {},
   "outputs": [],
   "source": [
    "import json\n",
    "# asins_small.json to be used for meta data matching\n",
    "json_file_asins = './data/asins_small.json'\n",
    "# json_file_asins = './data/meta_asins.json'\n",
    "with open(json_file_asins, \"r\") as file:\n",
    "    asin_dict = json.load(file)\n",
    "    \n",
    "asin_list = []\n",
    "for asin in asin_dict:\n",
    "    asin_list.append(asin)"
   ]
  },
  {
   "cell_type": "code",
   "execution_count": null,
   "metadata": {},
   "outputs": [],
   "source": [
    "movies_meta_data = []\n",
    "for asin in asin_list:\n",
    "    title = asin_dict[asin][0]\n",
    "    description = \"\".join(asin_dict[asin][1])\n",
    "    if title is None or title.strip() == \"\" or description is None or description.strip() == \"\":\n",
    "        continue\n",
    "    movies_meta_data.append({\"title\": title, \"description\": description})"
   ]
  },
  {
   "cell_type": "code",
   "execution_count": null,
   "metadata": {},
   "outputs": [
    {
     "data": {
      "text/plain": [
       "({'title': 'The Spitfire Grill',\n",
       "  'description': 'Oscar-winner Ellen Burstyn (The Exorcist) headlines this critically praised drama about a young woman, just out of prison, who finds spiritual redemption working at a cafe in Maine.'},\n",
       " 26846)"
      ]
     },
     "execution_count": 10,
     "metadata": {},
     "output_type": "execute_result"
    }
   ],
   "source": [
    "movies_meta_data[0], len(movies_meta_data)"
   ]
  },
  {
   "cell_type": "code",
   "execution_count": null,
   "metadata": {},
   "outputs": [
    {
     "name": "stderr",
     "output_type": "stream",
     "text": [
      "Unused kwargs: ['_load_in_4bit', '_load_in_8bit', 'quant_method']. These kwargs are not used in <class 'transformers.utils.quantization_config.BitsAndBytesConfig'>.\n"
     ]
    },
    {
     "name": "stdout",
     "output_type": "stream",
     "text": [
      "==((====))==  Unsloth: Fast Gemma patching release 2024.4\n",
      "   \\\\   /|    GPU: Tesla T4. Max memory: 14.581 GB. Platform = Linux.\n",
      "O^O/ \\_/ \\    Pytorch: 2.2.2. CUDA = 7.5. CUDA Toolkit = 12.1.\n",
      "\\        /    Bfloat16 = FALSE. Xformers = 0.0.25.post1. FA = False.\n",
      " \"-____-\"     Free Apache license: http://github.com/unslothai/unsloth\n",
      "prompt_template_token_length:  11\n"
     ]
    }
   ],
   "source": [
    "# load and setup the model and tokenizer\n",
    "from unsloth import FastLanguageModel\n",
    "\n",
    "max_seq_length = 4096\n",
    "model, tokenizer = FastLanguageModel.from_pretrained(\n",
    "    model_name = \"unsloth/gemma-2b-it-bnb-4bit\",\n",
    "    max_seq_length = max_seq_length,\n",
    "    dtype = None,\n",
    "    load_in_4bit = True,\n",
    ")\n",
    "FastLanguageModel.for_inference(model) # Enable native 2x faster inference\n",
    "\n",
    "def token_length(text):\n",
    "    input_ids = tokenizer(text, return_tensors=\"pt\").to(\"cuda\")\n",
    "    return len(input_ids[0])\n",
    "\n",
    "prompt_template = \"<start_of_turn>user\\n{}<end_of_turn>\\n<start_of_turn>model\\n{}\"\n",
    "prompt_template_token_length = token_length(prompt_template)\n",
    "print(\"prompt_template_token_length: \", prompt_template_token_length)"
   ]
  },
  {
   "cell_type": "code",
   "execution_count": null,
   "metadata": {},
   "outputs": [
    {
     "name": "stderr",
     "output_type": "stream",
     "text": [
      "100%|██████████| 26846/26846 [00:44<00:00, 603.85it/s]\n"
     ]
    }
   ],
   "source": [
    "# construct dataset\n",
    "from datasets import Dataset\n",
    "from tqdm import tqdm\n",
    "\n",
    "prompt_template = \"<start_of_turn>user\\n{}<end_of_turn>\\n<start_of_turn>model\\n{}\"\n",
    "\n",
    "encoding_title_to_desc_task = {\"input\": [], \"output\": []}\n",
    "encoding_desc_to_title_task = {\"input\": [], \"output\": []}\n",
    "for movie in tqdm(movies_meta_data):\n",
    "    title_to_desc_task_prompt_template = \"Here is the title of a movie: ```{0}```\\n Please write a description of the movie.\"\n",
    "    desc_to_title_task_prompt_template = \"Here is a description of a movie: ```{0}```\\n Please write the title of the movie.\"\n",
    "    if token_length(title_to_desc_task_prompt_template.format(movie['title']) + \"\".join(movie['description'])) <= max_seq_length - prompt_template_token_length:\n",
    "        encoding_title_to_desc_task[\"input\"].append(title_to_desc_task_prompt_template.format(movie['title']))\n",
    "        encoding_title_to_desc_task[\"output\"].append(\"\".join(movie['description']))\n",
    "        encoding_desc_to_title_task[\"input\"].append(desc_to_title_task_prompt_template.format(\"\".join(movie['description'])))\n",
    "        encoding_desc_to_title_task[\"output\"].append(movie['title'])\n",
    "\n",
    "encoding_title_to_desc_task = Dataset.from_dict(encoding_title_to_desc_task)\n",
    "encoding_desc_to_title_task = Dataset.from_dict(encoding_desc_to_title_task)\n",
    "\n",
    "# encoding_title_to_desc_task = encoding_title_to_desc_task.train_test_split(test_size=0.007)\n",
    "# encoding_title_to_desc_task_dataset_train, encoding_title_to_desc_task_dataset_eval = encoding_title_to_desc_task[\"train\"], encoding_title_to_desc_task[\"test\"]\n",
    "# encoding_desc_to_title_task = encoding_desc_to_title_task.train_test_split(test_size=0.007)\n",
    "# encoding_desc_to_title_task_dataset_train, encoding_desc_to_title_task_dataset_eval = encoding_desc_to_title_task[\"train\"], encoding_desc_to_title_task[\"test\"]"
   ]
  },
  {
   "cell_type": "code",
   "execution_count": null,
   "metadata": {},
   "outputs": [
    {
     "data": {
      "text/plain": [
       "(Dataset({\n",
       "     features: ['input', 'output'],\n",
       "     num_rows: 26837\n",
       " }),\n",
       " Dataset({\n",
       "     features: ['input', 'output'],\n",
       "     num_rows: 26837\n",
       " }))"
      ]
     },
     "execution_count": 13,
     "metadata": {},
     "output_type": "execute_result"
    }
   ],
   "source": [
    "encoding_title_to_desc_task, encoding_desc_to_title_task, # before length filtering, num_rows = 434236\n",
    "# encoding_title_to_desc_task_dataset_train, encoding_title_to_desc_task_dataset_eval, encoding_desc_to_title_task_dataset_train, encoding_desc_to_title_task_dataset_eval"
   ]
  },
  {
   "cell_type": "code",
   "execution_count": null,
   "metadata": {},
   "outputs": [
    {
     "data": {
      "application/vnd.jupyter.widget-view+json": {
       "model_id": "8c0ec72cb572456c873d3134a3622f6a",
       "version_major": 2,
       "version_minor": 0
      },
      "text/plain": [
       "Saving the dataset (0/1 shards):   0%|          | 0/26837 [00:00<?, ? examples/s]"
      ]
     },
     "metadata": {},
     "output_type": "display_data"
    },
    {
     "data": {
      "application/vnd.jupyter.widget-view+json": {
       "model_id": "f81bfd0b71dc40b0901e23a10e920eff",
       "version_major": 2,
       "version_minor": 0
      },
      "text/plain": [
       "Saving the dataset (0/1 shards):   0%|          | 0/26837 [00:00<?, ? examples/s]"
      ]
     },
     "metadata": {},
     "output_type": "display_data"
    }
   ],
   "source": [
    "# save huggingface dataset to local\n",
    "encoding_title_to_desc_task.save_to_disk('./data/encoding_title_to_desc_task_fixed_empty_string_filter')\n",
    "encoding_desc_to_title_task.save_to_disk('./data/encoding_desc_to_title_task_fixed_empty_string_filter')"
   ]
  },
  {
   "cell_type": "code",
   "execution_count": null,
   "metadata": {},
   "outputs": [
    {
     "data": {
      "application/vnd.jupyter.widget-view+json": {
       "model_id": "0ccb174fa3b545b4a0a81dfcfdae5b4c",
       "version_major": 2,
       "version_minor": 0
      },
      "text/plain": [
       "Map:   0%|          | 0/434213 [00:00<?, ? examples/s]"
      ]
     },
     "metadata": {},
     "output_type": "display_data"
    },
    {
     "name": "stderr",
     "output_type": "stream",
     "text": [
      "100%|██████████| 434213/434213 [05:26<00:00, 1328.77it/s]\n"
     ]
    },
    {
     "data": {
      "image/png": "[encoded data removed]",
      "text/plain": [
       "<Figure size 640x480 with 1 Axes>"
      ]
     },
     "metadata": {},
     "output_type": "display_data"
    }
   ],
   "source": [
    "# Get the distribution of length of (input + output) text in training dict\n",
    "import matplotlib.pyplot as plt\n",
    "from tqdm import tqdm\n",
    "\n",
    "encoding_title_to_desc_task_combined = encoding_title_to_desc_task.map(lambda x: {\"combined_text\": x[\"input\"] + x[\"output\"]})\n",
    "\n",
    "length_of_input_plus_output = []\n",
    "for text in tqdm(encoding_title_to_desc_task_combined['combined_text']):\n",
    "    length_of_input_plus_output.append(token_length(text))\n",
    "\n",
    "# Create the histogram and get the number of occurrences and the bin edges\n",
    "counts, bins, patches = plt.hist(length_of_input_plus_output, bins=20)\n",
    "\n",
    "# Loop over the patches (bars) and add a text label above each bar\n",
    "for count, bin, patch in zip(counts, bins, patches):\n",
    "    height = patch.get_height()\n",
    "    plt.text(patch.get_x() + patch.get_width() / 2, height + 5, str(int(count)),\n",
    "             ha='center', va='bottom')\n",
    "\n",
    "plt.xlabel('Length of Prompts')\n",
    "plt.ylabel('Counts')\n",
    "plt.title('Distribution of Length of Prompts')\n",
    "plt.show()"
   ]
  },
  {
   "cell_type": "markdown",
   "metadata": {},
   "source": [
    "# 2. Training Encoding model"
   ]
  },
  {
   "cell_type": "code",
   "execution_count": null,
   "metadata": {},
   "outputs": [],
   "source": [
    "import json\n",
    "from datetime import datetime\n",
    "\n",
    "import torch\n",
    "from datasets import load_from_disk\n",
    "from unsloth import FastLanguageModel\n",
    "\n",
    "hyper_params = {\n",
    "    # Model hyperparameters\n",
    "    \"max_seq_length\": 4096, # 8192 | Choose any! We auto support RoPE Scaling internally!\n",
    "    \"dtype\": None, # None for auto detection. Float16 for Tesla T4, V100, Bfloat16 for Ampere+\n",
    "    \"load_in_4bit\": True, # Use 4bit quantization to reduce memory usage. Can be False.,\n",
    "    \"model_name\": \"unsloth/gemma-2b-it-bnb-4bit\",\n",
    "    \"r\": 8, # Choose any number > 0 ! Suggested 8, 16, 32, 64, 128,\n",
    "    \"target_modules\": [\"q_proj\", \"k_proj\", \"v_proj\", \"o_proj\",\n",
    "                      \"gate_proj\", \"up_proj\", \"down_proj\",], # Add more to target more modules\n",
    "    \"lora_alpha\": 16,\n",
    "    \"lora_dropout\": 0, # Supports any, but = 0 is optimized\n",
    "    \"lora_bias\": \"none\", # Supports any, but = \"none\" is optimized\n",
    "    \"lora_use_gradient_checkpointing\": \"unsloth\", # True or \"unsloth\" for very long context\n",
    "    \"lora_random_state\": 3407,\n",
    "    \"lora_use_rslora\": False, # We support rank stabilized LoRA\n",
    "    \"lora_loftq_config\": None, # And LoftQ\n",
    "    # Training hyperparameters\n",
    "    \"encoding_title_to_desc_task_path\": \"./data/encoding_title_to_desc_task\",\n",
    "    \"encoding_desc_to_title_task_path\": \"./data/encoding_desc_to_title_task\",\n",
    "    \"per_device_train_batch_size\": 2,\n",
    "    \"gradient_accumulation_steps\": 1,\n",
    "    \"warmup_steps\": 25, # will replace num_warmup_steps in lr_scheduler_kwargs\n",
    "    \"num_train_epochs\": 2,\n",
    "    \"learning_rate\": 2e-4,\n",
    "    \"fp16\": not torch.cuda.is_bf16_supported(),\n",
    "    \"bf16\": torch.cuda.is_bf16_supported(),\n",
    "    \"logging_steps\": 1,\n",
    "    \"optim\": \"adamw_8bit\",\n",
    "    \"weight_decay\": 0.01,\n",
    "    \"lr_scheduler_type\": \"cosine_with_restarts\",\n",
    "    \"lr_scheduler_kwargs\": {\"num_cycles\": 3}, # \"num_warmup_steps\" and \"num_training_steps\" will be added automatically\n",
    "    \"seed\": 3407,\n",
    "}"
   ]
  },
  {
   "cell_type": "code",
   "execution_count": null,
   "metadata": {},
   "outputs": [
    {
     "name": "stdout",
     "output_type": "stream",
     "text": [
      "==((====))==  Unsloth: Fast Gemma patching release 2024.4\n",
      "   \\\\   /|    GPU: Tesla T4. Max memory: 14.581 GB. Platform = Linux.\n",
      "O^O/ \\_/ \\    Pytorch: 2.2.2. CUDA = 7.5. CUDA Toolkit = 12.1.\n",
      "\\        /    Bfloat16 = FALSE. Xformers = 0.0.25.post1. FA = False.\n",
      " \"-____-\"     Free Apache license: http://github.com/unslothai/unsloth\n"
     ]
    },
    {
     "name": "stderr",
     "output_type": "stream",
     "text": [
      "Unused kwargs: ['_load_in_4bit', '_load_in_8bit', 'quant_method']. These kwargs are not used in <class 'transformers.utils.quantization_config.BitsAndBytesConfig'>.\n",
      "Gemma's activation function should be approximate GeLU and not exact GeLU.\n",
      "Changing the activation function to `gelu_pytorch_tanh`.if you want to use the legacy `gelu`, edit the `model.config` to set `hidden_activation=gelu`   instead of `hidden_act`. See https://github.com/huggingface/transformers/pull/29402 for more details.\n"
     ]
    }
   ],
   "source": [
    "# load model and tokenizer\n",
    "model, tokenizer= FastLanguageModel.from_pretrained(\n",
    "    model_name = hyper_params[\"model_name\"], # Choose ANY! eg teknium/OpenHermes-2.5-Mistral-7B\n",
    "    max_seq_length = hyper_params[\"max_seq_length\"],\n",
    "    dtype = hyper_params[\"dtype\"],\n",
    "    load_in_4bit = hyper_params[\"load_in_4bit\"],\n",
    ")"
   ]
  },
  {
   "cell_type": "code",
   "execution_count": null,
   "metadata": {},
   "outputs": [
    {
     "name": "stderr",
     "output_type": "stream",
     "text": [
      "Unsloth 2024.4 patched 18 layers with 18 QKV layers, 18 O layers and 18 MLP layers.\n"
     ]
    }
   ],
   "source": [
    "# add lora to model\n",
    "model = FastLanguageModel.get_peft_model(\n",
    "    model,\n",
    "    r = hyper_params['r'],\n",
    "    target_modules = hyper_params['target_modules'],\n",
    "    lora_alpha = hyper_params['lora_alpha'],\n",
    "    lora_dropout = hyper_params['lora_dropout'],\n",
    "    bias = hyper_params['lora_bias'],\n",
    "    # [NEW] \"unsloth\" uses 30% less VRAM, fits 2x larger batch sizes!\n",
    "    use_gradient_checkpointing = hyper_params['lora_use_gradient_checkpointing'],\n",
    "    random_state = hyper_params['lora_random_state'],\n",
    "    use_rslora = hyper_params['lora_use_rslora'], # We support rank stabilized LoRA\n",
    "    loftq_config = hyper_params['lora_loftq_config'], # And LoftQ\n",
    ")"
   ]
  },
  {
   "cell_type": "markdown",
   "metadata": {},
   "source": [
    "## 2.1 Train encoding_title_to_desc_task"
   ]
  },
  {
   "cell_type": "code",
   "execution_count": null,
   "metadata": {},
   "outputs": [],
   "source": [
    "# read huggingface dataset from local\n",
    "encoding_title_to_desc_task = load_from_disk(hyper_params[\"encoding_title_to_desc_task_path\"])\n",
    "\n",
    "EOS_TOKEN = tokenizer.eos_token # Must add EOS_TOKEN\n",
    "\n",
    "prompt_template = prompt_template = \"<start_of_turn>user\\n{}<end_of_turn>\\n<start_of_turn>model\\n{}\"\n",
    "\n",
    "def formatting_prompts_func(examples):\n",
    "    inputs = examples[\"input\"]\n",
    "    outputs = examples[\"output\"]\n",
    "    texts = []\n",
    "\n",
    "    for input, output in zip(inputs, outputs):\n",
    "        # text = \"### Input:\\n{inputs_holder}\\n\\n### Response:{outputs_holder}\".format(inputs_holder= input, outputs_holder= output) + EOS_TOKEN\n",
    "        # gemma chat template:\n",
    "        text = prompt_template.format(input, output) + EOS_TOKEN\n",
    "        texts.append(text)\n",
    "    return { \"text\" : texts, }\n",
    "\n",
    "train_dataset = encoding_title_to_desc_task.map(formatting_prompts_func, batched = True,)\n",
    "# train_dataset = encoding_desc_to_title_task.map(formatting_prompts_func, batched = True,)\n",
    "\n",
    "# take samples from the dataset\n",
    "train_dataset = train_dataset.shuffle(seed=hyper_params[\"seed\"])\n",
    "train_dataset = train_dataset.select(range(100))"
   ]
  },
  {
   "cell_type": "code",
   "execution_count": null,
   "metadata": {},
   "outputs": [
    {
     "data": {
      "application/vnd.jupyter.widget-view+json": {
       "model_id": "ac231d9a85e14e4c9bcaaa3b4a9b6b0c",
       "version_major": 2,
       "version_minor": 0
      },
      "text/plain": [
       "Map (num_proc=2):   0%|          | 0/10000 [00:00<?, ? examples/s]"
      ]
     },
     "metadata": {},
     "output_type": "display_data"
    }
   ],
   "source": [
    "# training\n",
    "from trl import SFTTrainer\n",
    "from transformers import TrainingArguments\n",
    "\n",
    "trainer = SFTTrainer(\n",
    "    model = model,\n",
    "    tokenizer = tokenizer,\n",
    "    train_dataset = train_dataset,\n",
    "    # eval_dataset = test_dataset,\n",
    "    dataset_text_field = \"text\",\n",
    "    max_seq_length = hyper_params['max_seq_length'],\n",
    "    dataset_num_proc = 2,\n",
    "    packing = False, # Can make training 5x faster for short sequences.\n",
    "    args = TrainingArguments(\n",
    "        per_device_train_batch_size = hyper_params['per_device_train_batch_size'],\n",
    "        gradient_accumulation_steps = hyper_params['gradient_accumulation_steps'],\n",
    "        warmup_steps = hyper_params['warmup_steps'],\n",
    "        num_train_epochs = hyper_params['num_train_epochs'],\n",
    "        # max_steps = 100,\n",
    "        learning_rate = hyper_params['learning_rate'],\n",
    "        fp16 = hyper_params['fp16'],\n",
    "        bf16 = hyper_params['bf16'],\n",
    "        logging_steps = hyper_params['logging_steps'],\n",
    "        optim = hyper_params['optim'],\n",
    "        weight_decay = hyper_params['weight_decay'],\n",
    "        lr_scheduler_type = hyper_params['lr_scheduler_type'],\n",
    "        lr_scheduler_kwargs = hyper_params['lr_scheduler_kwargs'],\n",
    "        seed = hyper_params['seed'],\n",
    "        output_dir = \"outputs\",\n",
    "        # fp16_full_eval = True,\n",
    "        # per_device_eval_batch_size = 1,\n",
    "        # eval_accumulation_steps = 1,\n",
    "        # evaluation_strategy = \"steps\", # epoch\n",
    "        # eval_steps = 100,\n",
    "    ),\n",
    ")"
   ]
  },
  {
   "cell_type": "code",
   "execution_count": null,
   "metadata": {},
   "outputs": [
    {
     "name": "stderr",
     "output_type": "stream",
     "text": [
      "==((====))==  Unsloth - 2x faster free finetuning | Num GPUs = 1\n",
      "   \\\\   /|    Num examples = 100 | Num Epochs = 2\n",
      "O^O/ \\_/ \\    Batch size per device = 2 | Gradient Accumulation steps = 1\n",
      "\\        /    Total batch size = 2 | Total steps = 100\n",
      " \"-____-\"     Number of trainable parameters = 9,805,824\n"
     ]
    },
    {
     "data": {
      "text/html": [
       "\n",
       "    <div>\n",
       "      \n",
       "      <progress value='100' max='100' style='width:300px; height:20px; vertical-align: middle;'></progress>\n",
       "      [100/100 00:55, Epoch 2/2]\n",
       "    </div>\n",
       "    <table border=\"1\" class=\"dataframe\">\n",
       "  <thead>\n",
       " <tr style=\"text-align: left;\">\n",
       "      <th>Step</th>\n",
       "      <th>Training Loss</th>\n",
       "    </tr>\n",
       "  </thead>\n",
       "  <tbody>\n",
       "    <tr>\n",
       "      <td>1</td>\n",
       "      <td>6.863800</td>\n",
       "    </tr>\n",
       "    <tr>\n",
       "      <td>2</td>\n",
       "      <td>6.494600</td>\n",
       "    </tr>\n",
       "    <tr>\n",
       "      <td>3</td>\n",
       "      <td>6.115700</td>\n",
       "    </tr>\n",
       "    <tr>\n",
       "      <td>4</td>\n",
       "      <td>5.545300</td>\n",
       "    </tr>\n",
       "    <tr>\n",
       "      <td>5</td>\n",
       "      <td>5.275700</td>\n",
       "    </tr>\n",
       "    <tr>\n",
       "      <td>6</td>\n",
       "      <td>5.773700</td>\n",
       "    </tr>\n",
       "    <tr>\n",
       "      <td>7</td>\n",
       "      <td>4.764100</td>\n",
       "    </tr>\n",
       "    <tr>\n",
       "      <td>8</td>\n",
       "      <td>4.283300</td>\n",
       "    </tr>\n",
       "    <tr>\n",
       "      <td>9</td>\n",
       "      <td>3.856800</td>\n",
       "    </tr>\n",
       "    <tr>\n",
       "      <td>10</td>\n",
       "      <td>5.017600</td>\n",
       "    </tr>\n",
       "    <tr>\n",
       "      <td>11</td>\n",
       "      <td>4.727000</td>\n",
       "    </tr>\n",
       "    <tr>\n",
       "      <td>12</td>\n",
       "      <td>5.505100</td>\n",
       "    </tr>\n",
       "    <tr>\n",
       "      <td>13</td>\n",
       "      <td>4.844400</td>\n",
       "    </tr>\n",
       "    <tr>\n",
       "      <td>14</td>\n",
       "      <td>4.442700</td>\n",
       "    </tr>\n",
       "    <tr>\n",
       "      <td>15</td>\n",
       "      <td>4.756300</td>\n",
       "    </tr>\n",
       "    <tr>\n",
       "      <td>16</td>\n",
       "      <td>4.375200</td>\n",
       "    </tr>\n",
       "    <tr>\n",
       "      <td>17</td>\n",
       "      <td>4.433900</td>\n",
       "    </tr>\n",
       "    <tr>\n",
       "      <td>18</td>\n",
       "      <td>3.682700</td>\n",
       "    </tr>\n",
       "    <tr>\n",
       "      <td>19</td>\n",
       "      <td>3.600400</td>\n",
       "    </tr>\n",
       "    <tr>\n",
       "      <td>20</td>\n",
       "      <td>3.892900</td>\n",
       "    </tr>\n",
       "    <tr>\n",
       "      <td>21</td>\n",
       "      <td>3.740200</td>\n",
       "    </tr>\n",
       "    <tr>\n",
       "      <td>22</td>\n",
       "      <td>3.154000</td>\n",
       "    </tr>\n",
       "    <tr>\n",
       "      <td>23</td>\n",
       "      <td>3.678700</td>\n",
       "    </tr>\n",
       "    <tr>\n",
       "      <td>24</td>\n",
       "      <td>3.095100</td>\n",
       "    </tr>\n",
       "    <tr>\n",
       "      <td>25</td>\n",
       "      <td>3.167500</td>\n",
       "    </tr>\n",
       "    <tr>\n",
       "      <td>26</td>\n",
       "      <td>3.290600</td>\n",
       "    </tr>\n",
       "    <tr>\n",
       "      <td>27</td>\n",
       "      <td>3.350200</td>\n",
       "    </tr>\n",
       "    <tr>\n",
       "      <td>28</td>\n",
       "      <td>2.501700</td>\n",
       "    </tr>\n",
       "    <tr>\n",
       "      <td>29</td>\n",
       "      <td>3.287200</td>\n",
       "    </tr>\n",
       "    <tr>\n",
       "      <td>30</td>\n",
       "      <td>3.854600</td>\n",
       "    </tr>\n",
       "    <tr>\n",
       "      <td>31</td>\n",
       "      <td>2.795300</td>\n",
       "    </tr>\n",
       "    <tr>\n",
       "      <td>32</td>\n",
       "      <td>3.260500</td>\n",
       "    </tr>\n",
       "    <tr>\n",
       "      <td>33</td>\n",
       "      <td>2.815800</td>\n",
       "    </tr>\n",
       "    <tr>\n",
       "      <td>34</td>\n",
       "      <td>2.997600</td>\n",
       "    </tr>\n",
       "    <tr>\n",
       "      <td>35</td>\n",
       "      <td>2.998600</td>\n",
       "    </tr>\n",
       "    <tr>\n",
       "      <td>36</td>\n",
       "      <td>3.058500</td>\n",
       "    </tr>\n",
       "    <tr>\n",
       "      <td>37</td>\n",
       "      <td>3.143900</td>\n",
       "    </tr>\n",
       "    <tr>\n",
       "      <td>38</td>\n",
       "      <td>2.979400</td>\n",
       "    </tr>\n",
       "    <tr>\n",
       "      <td>39</td>\n",
       "      <td>2.369100</td>\n",
       "    </tr>\n",
       "    <tr>\n",
       "      <td>40</td>\n",
       "      <td>2.676400</td>\n",
       "    </tr>\n",
       "    <tr>\n",
       "      <td>41</td>\n",
       "      <td>2.690500</td>\n",
       "    </tr>\n",
       "    <tr>\n",
       "      <td>42</td>\n",
       "      <td>3.139800</td>\n",
       "    </tr>\n",
       "    <tr>\n",
       "      <td>43</td>\n",
       "      <td>2.610900</td>\n",
       "    </tr>\n",
       "    <tr>\n",
       "      <td>44</td>\n",
       "      <td>2.871900</td>\n",
       "    </tr>\n",
       "    <tr>\n",
       "      <td>45</td>\n",
       "      <td>2.440500</td>\n",
       "    </tr>\n",
       "    <tr>\n",
       "      <td>46</td>\n",
       "      <td>3.338200</td>\n",
       "    </tr>\n",
       "    <tr>\n",
       "      <td>47</td>\n",
       "      <td>2.639400</td>\n",
       "    </tr>\n",
       "    <tr>\n",
       "      <td>48</td>\n",
       "      <td>2.224100</td>\n",
       "    </tr>\n",
       "    <tr>\n",
       "      <td>49</td>\n",
       "      <td>3.365000</td>\n",
       "    </tr>\n",
       "    <tr>\n",
       "      <td>50</td>\n",
       "      <td>2.375000</td>\n",
       "    </tr>\n",
       "    <tr>\n",
       "      <td>51</td>\n",
       "      <td>2.999400</td>\n",
       "    </tr>\n",
       "    <tr>\n",
       "      <td>52</td>\n",
       "      <td>2.839900</td>\n",
       "    </tr>\n",
       "    <tr>\n",
       "      <td>53</td>\n",
       "      <td>2.489400</td>\n",
       "    </tr>\n",
       "    <tr>\n",
       "      <td>54</td>\n",
       "      <td>2.243100</td>\n",
       "    </tr>\n",
       "    <tr>\n",
       "      <td>55</td>\n",
       "      <td>2.275500</td>\n",
       "    </tr>\n",
       "    <tr>\n",
       "      <td>56</td>\n",
       "      <td>2.958400</td>\n",
       "    </tr>\n",
       "    <tr>\n",
       "      <td>57</td>\n",
       "      <td>2.761800</td>\n",
       "    </tr>\n",
       "    <tr>\n",
       "      <td>58</td>\n",
       "      <td>2.564000</td>\n",
       "    </tr>\n",
       "    <tr>\n",
       "      <td>59</td>\n",
       "      <td>2.078100</td>\n",
       "    </tr>\n",
       "    <tr>\n",
       "      <td>60</td>\n",
       "      <td>2.043400</td>\n",
       "    </tr>\n",
       "    <tr>\n",
       "      <td>61</td>\n",
       "      <td>2.346000</td>\n",
       "    </tr>\n",
       "    <tr>\n",
       "      <td>62</td>\n",
       "      <td>1.488900</td>\n",
       "    </tr>\n",
       "    <tr>\n",
       "      <td>63</td>\n",
       "      <td>2.488600</td>\n",
       "    </tr>\n",
       "    <tr>\n",
       "      <td>64</td>\n",
       "      <td>2.985300</td>\n",
       "    </tr>\n",
       "    <tr>\n",
       "      <td>65</td>\n",
       "      <td>2.245600</td>\n",
       "    </tr>\n",
       "    <tr>\n",
       "      <td>66</td>\n",
       "      <td>2.468200</td>\n",
       "    </tr>\n",
       "    <tr>\n",
       "      <td>67</td>\n",
       "      <td>1.834400</td>\n",
       "    </tr>\n",
       "    <tr>\n",
       "      <td>68</td>\n",
       "      <td>2.491200</td>\n",
       "    </tr>\n",
       "    <tr>\n",
       "      <td>69</td>\n",
       "      <td>2.577700</td>\n",
       "    </tr>\n",
       "    <tr>\n",
       "      <td>70</td>\n",
       "      <td>1.954400</td>\n",
       "    </tr>\n",
       "    <tr>\n",
       "      <td>71</td>\n",
       "      <td>2.698000</td>\n",
       "    </tr>\n",
       "    <tr>\n",
       "      <td>72</td>\n",
       "      <td>2.322200</td>\n",
       "    </tr>\n",
       "    <tr>\n",
       "      <td>73</td>\n",
       "      <td>2.453500</td>\n",
       "    </tr>\n",
       "    <tr>\n",
       "      <td>74</td>\n",
       "      <td>1.511200</td>\n",
       "    </tr>\n",
       "    <tr>\n",
       "      <td>75</td>\n",
       "      <td>1.402300</td>\n",
       "    </tr>\n",
       "    <tr>\n",
       "      <td>76</td>\n",
       "      <td>1.909700</td>\n",
       "    </tr>\n",
       "    <tr>\n",
       "      <td>77</td>\n",
       "      <td>2.429800</td>\n",
       "    </tr>\n",
       "    <tr>\n",
       "      <td>78</td>\n",
       "      <td>2.590900</td>\n",
       "    </tr>\n",
       "    <tr>\n",
       "      <td>79</td>\n",
       "      <td>2.423100</td>\n",
       "    </tr>\n",
       "    <tr>\n",
       "      <td>80</td>\n",
       "      <td>3.751700</td>\n",
       "    </tr>\n",
       "    <tr>\n",
       "      <td>81</td>\n",
       "      <td>2.042100</td>\n",
       "    </tr>\n",
       "    <tr>\n",
       "      <td>82</td>\n",
       "      <td>2.628800</td>\n",
       "    </tr>\n",
       "    <tr>\n",
       "      <td>83</td>\n",
       "      <td>2.108100</td>\n",
       "    </tr>\n",
       "    <tr>\n",
       "      <td>84</td>\n",
       "      <td>1.777600</td>\n",
       "    </tr>\n",
       "    <tr>\n",
       "      <td>85</td>\n",
       "      <td>1.754400</td>\n",
       "    </tr>\n",
       "    <tr>\n",
       "      <td>86</td>\n",
       "      <td>2.546500</td>\n",
       "    </tr>\n",
       "    <tr>\n",
       "      <td>87</td>\n",
       "      <td>1.683600</td>\n",
       "    </tr>\n",
       "    <tr>\n",
       "      <td>88</td>\n",
       "      <td>1.737900</td>\n",
       "    </tr>\n",
       "    <tr>\n",
       "      <td>89</td>\n",
       "      <td>2.628000</td>\n",
       "    </tr>\n",
       "    <tr>\n",
       "      <td>90</td>\n",
       "      <td>1.946300</td>\n",
       "    </tr>\n",
       "    <tr>\n",
       "      <td>91</td>\n",
       "      <td>1.899700</td>\n",
       "    </tr>\n",
       "    <tr>\n",
       "      <td>92</td>\n",
       "      <td>1.887800</td>\n",
       "    </tr>\n",
       "    <tr>\n",
       "      <td>93</td>\n",
       "      <td>2.572600</td>\n",
       "    </tr>\n",
       "    <tr>\n",
       "      <td>94</td>\n",
       "      <td>2.053600</td>\n",
       "    </tr>\n",
       "    <tr>\n",
       "      <td>95</td>\n",
       "      <td>2.127700</td>\n",
       "    </tr>\n",
       "    <tr>\n",
       "      <td>96</td>\n",
       "      <td>2.592700</td>\n",
       "    </tr>\n",
       "    <tr>\n",
       "      <td>97</td>\n",
       "      <td>2.786300</td>\n",
       "    </tr>\n",
       "    <tr>\n",
       "      <td>98</td>\n",
       "      <td>1.764100</td>\n",
       "    </tr>\n",
       "    <tr>\n",
       "      <td>99</td>\n",
       "      <td>2.447000</td>\n",
       "    </tr>\n",
       "    <tr>\n",
       "      <td>100</td>\n",
       "      <td>1.937700</td>\n",
       "    </tr>\n",
       "  </tbody>\n",
       "</table><p>"
      ],
      "text/plain": [
       "<IPython.core.display.HTML object>"
      ]
     },
     "metadata": {},
     "output_type": "display_data"
    }
   ],
   "source": [
    "trainer_stats = trainer.train()"
   ]
  },
  {
   "cell_type": "code",
   "execution_count": null,
   "metadata": {},
   "outputs": [],
   "source": [
    "# saving model and loss history\n",
    "# get current datetime\n",
    "now = datetime.now()\n",
    "\n",
    "# name the model\n",
    "model_name = \"e_t2d_model_\" + now.strftime(\"%m%d%Y_%H%M%S\")\n",
    "model_path = \"outputs/\" + model_name\n",
    "model.save_pretrained(model_path) # Local saving\n",
    "# model.push_to_hub(\"your_name/lora_model\", token = \"...\") # Online saving\n",
    "\n",
    "# save hyperparameters as a json dict to model_path\n",
    "with open(model_path + \"/hyperparameters.json\", \"w\") as file:\n",
    "    json.dump(hyper_params, file, indent=4)\n",
    "        \n",
    "# save trainer.state.log_history to model_path\n",
    "with open(model_path + \"/trainer_state_log_history.json\", \"w\") as file:\n",
    "    json.dump(trainer.state.log_history, file, indent=4)"
   ]
  },
  {
   "cell_type": "markdown",
   "metadata": {},
   "source": [
    "## 2.2 Train encoding_desc_to_title_task"
   ]
  },
  {
   "cell_type": "code",
   "execution_count": null,
   "metadata": {},
   "outputs": [],
   "source": [
    "# clear the cache\n",
    "import torch\n",
    "\n",
    "torch.cuda.empty_cache()"
   ]
  },
  {
   "cell_type": "code",
   "execution_count": null,
   "metadata": {},
   "outputs": [
    {
     "data": {
      "application/vnd.jupyter.widget-view+json": {
       "model_id": "bf479082fdf84fdfbcb6aa1a01e131bb",
       "version_major": 2,
       "version_minor": 0
      },
      "text/plain": [
       "Map:   0%|          | 0/434213 [00:00<?, ? examples/s]"
      ]
     },
     "metadata": {},
     "output_type": "display_data"
    }
   ],
   "source": [
    "# similarly, we can train the model for encoding_desc_to_title_task......\n",
    "# read huggingface dataset from local\n",
    "encoding_desc_to_title_task = load_from_disk(hyper_params[\"encoding_desc_to_title_task_path\"])\n",
    "\n",
    "EOS_TOKEN = tokenizer.eos_token # Must add EOS_TOKEN\n",
    "\n",
    "prompt_template = prompt_template = \"<start_of_turn>user\\n{}<end_of_turn>\\n<start_of_turn>model\\n{}\"\n",
    "\n",
    "def formatting_prompts_func(examples):\n",
    "    inputs = examples[\"input\"]\n",
    "    outputs = examples[\"output\"]\n",
    "    texts = []\n",
    "\n",
    "    for input, output in zip(inputs, outputs):\n",
    "        # text = \"### Input:\\n{inputs_holder}\\n\\n### Response:{outputs_holder}\".format(inputs_holder= input, outputs_holder= output) + EOS_TOKEN\n",
    "        # gemma chat template:\n",
    "        text = prompt_template.format(input, output) + EOS_TOKEN\n",
    "        texts.append(text)\n",
    "    return { \"text\" : texts, }\n",
    "\n",
    "train_dataset = encoding_desc_to_title_task.map(formatting_prompts_func, batched = True,)\n",
    "\n",
    "# take samples from the dataset\n",
    "train_dataset = train_dataset.shuffle(seed=hyper_params[\"seed\"])\n",
    "train_dataset = train_dataset.select(range(100))"
   ]
  },
  {
   "cell_type": "code",
   "execution_count": null,
   "metadata": {},
   "outputs": [
    {
     "data": {
      "application/vnd.jupyter.widget-view+json": {
       "model_id": "a9460bce8171416a81cb86c86dd69de3",
       "version_major": 2,
       "version_minor": 0
      },
      "text/plain": [
       "Map (num_proc=2):   0%|          | 0/100 [00:00<?, ? examples/s]"
      ]
     },
     "metadata": {},
     "output_type": "display_data"
    }
   ],
   "source": [
    "# training\n",
    "from trl import SFTTrainer\n",
    "from transformers import TrainingArguments\n",
    "\n",
    "trainer = SFTTrainer(\n",
    "    model = model,\n",
    "    tokenizer = tokenizer,\n",
    "    train_dataset = train_dataset,\n",
    "    # eval_dataset = test_dataset,\n",
    "    dataset_text_field = \"text\",\n",
    "    max_seq_length = hyper_params['max_seq_length'],\n",
    "    dataset_num_proc = 2,\n",
    "    packing = False, # Can make training 5x faster for short sequences.\n",
    "    args = TrainingArguments(\n",
    "        per_device_train_batch_size = hyper_params['per_device_train_batch_size'],\n",
    "        gradient_accumulation_steps = hyper_params['gradient_accumulation_steps'],\n",
    "        warmup_steps = hyper_params['warmup_steps'],\n",
    "        num_train_epochs = hyper_params['num_train_epochs'],\n",
    "        # max_steps = 100,\n",
    "        learning_rate = hyper_params['learning_rate'],\n",
    "        fp16 = hyper_params['fp16'],\n",
    "        bf16 = hyper_params['bf16'],\n",
    "        logging_steps = hyper_params['logging_steps'],\n",
    "        optim = hyper_params['optim'],\n",
    "        weight_decay = hyper_params['weight_decay'],\n",
    "        lr_scheduler_type = hyper_params['lr_scheduler_type'],\n",
    "        lr_scheduler_kwargs = hyper_params['lr_scheduler_kwargs'],\n",
    "        seed = hyper_params['seed'],\n",
    "        output_dir = \"outputs\",\n",
    "        # fp16_full_eval = True,\n",
    "        # per_device_eval_batch_size = 1,\n",
    "        # eval_accumulation_steps = 1,\n",
    "        # evaluation_strategy = \"steps\", # epoch\n",
    "        # eval_steps = 100,\n",
    "    ),\n",
    ")"
   ]
  },
  {
   "cell_type": "code",
   "execution_count": null,
   "metadata": {},
   "outputs": [
    {
     "data": {
      "text/html": [
       "\n",
       "    <div>\n",
       "      \n",
       "      <progress value='100' max='100' style='width:300px; height:20px; vertical-align: middle;'></progress>\n",
       "      [100/100 01:01, Epoch 2/2]\n",
       "    </div>\n",
       "    <table border=\"1\" class=\"dataframe\">\n",
       "  <thead>\n",
       " <tr style=\"text-align: left;\">\n",
       "      <th>Step</th>\n",
       "      <th>Training Loss</th>\n",
       "    </tr>\n",
       "  </thead>\n",
       "  <tbody>\n",
       "    <tr>\n",
       "      <td>1</td>\n",
       "      <td>3.218400</td>\n",
       "    </tr>\n",
       "    <tr>\n",
       "      <td>2</td>\n",
       "      <td>3.286000</td>\n",
       "    </tr>\n",
       "    <tr>\n",
       "      <td>3</td>\n",
       "      <td>3.059500</td>\n",
       "    </tr>\n",
       "    <tr>\n",
       "      <td>4</td>\n",
       "      <td>3.000300</td>\n",
       "    </tr>\n",
       "    <tr>\n",
       "      <td>5</td>\n",
       "      <td>2.343000</td>\n",
       "    </tr>\n",
       "    <tr>\n",
       "      <td>6</td>\n",
       "      <td>2.728500</td>\n",
       "    </tr>\n",
       "    <tr>\n",
       "      <td>7</td>\n",
       "      <td>2.932600</td>\n",
       "    </tr>\n",
       "    <tr>\n",
       "      <td>8</td>\n",
       "      <td>3.518000</td>\n",
       "    </tr>\n",
       "    <tr>\n",
       "      <td>9</td>\n",
       "      <td>2.929600</td>\n",
       "    </tr>\n",
       "    <tr>\n",
       "      <td>10</td>\n",
       "      <td>2.752800</td>\n",
       "    </tr>\n",
       "    <tr>\n",
       "      <td>11</td>\n",
       "      <td>2.425400</td>\n",
       "    </tr>\n",
       "    <tr>\n",
       "      <td>12</td>\n",
       "      <td>2.592600</td>\n",
       "    </tr>\n",
       "    <tr>\n",
       "      <td>13</td>\n",
       "      <td>2.002500</td>\n",
       "    </tr>\n",
       "    <tr>\n",
       "      <td>14</td>\n",
       "      <td>2.551500</td>\n",
       "    </tr>\n",
       "    <tr>\n",
       "      <td>15</td>\n",
       "      <td>1.825800</td>\n",
       "    </tr>\n",
       "    <tr>\n",
       "      <td>16</td>\n",
       "      <td>2.760900</td>\n",
       "    </tr>\n",
       "    <tr>\n",
       "      <td>17</td>\n",
       "      <td>2.351100</td>\n",
       "    </tr>\n",
       "    <tr>\n",
       "      <td>18</td>\n",
       "      <td>1.408200</td>\n",
       "    </tr>\n",
       "    <tr>\n",
       "      <td>19</td>\n",
       "      <td>3.216600</td>\n",
       "    </tr>\n",
       "    <tr>\n",
       "      <td>20</td>\n",
       "      <td>2.254200</td>\n",
       "    </tr>\n",
       "    <tr>\n",
       "      <td>21</td>\n",
       "      <td>3.325600</td>\n",
       "    </tr>\n",
       "    <tr>\n",
       "      <td>22</td>\n",
       "      <td>2.117600</td>\n",
       "    </tr>\n",
       "    <tr>\n",
       "      <td>23</td>\n",
       "      <td>1.919700</td>\n",
       "    </tr>\n",
       "    <tr>\n",
       "      <td>24</td>\n",
       "      <td>2.234100</td>\n",
       "    </tr>\n",
       "    <tr>\n",
       "      <td>25</td>\n",
       "      <td>2.407400</td>\n",
       "    </tr>\n",
       "    <tr>\n",
       "      <td>26</td>\n",
       "      <td>2.200400</td>\n",
       "    </tr>\n",
       "    <tr>\n",
       "      <td>27</td>\n",
       "      <td>2.728000</td>\n",
       "    </tr>\n",
       "    <tr>\n",
       "      <td>28</td>\n",
       "      <td>3.152600</td>\n",
       "    </tr>\n",
       "    <tr>\n",
       "      <td>29</td>\n",
       "      <td>1.734800</td>\n",
       "    </tr>\n",
       "    <tr>\n",
       "      <td>30</td>\n",
       "      <td>2.968200</td>\n",
       "    </tr>\n",
       "    <tr>\n",
       "      <td>31</td>\n",
       "      <td>3.146900</td>\n",
       "    </tr>\n",
       "    <tr>\n",
       "      <td>32</td>\n",
       "      <td>2.309400</td>\n",
       "    </tr>\n",
       "    <tr>\n",
       "      <td>33</td>\n",
       "      <td>2.893800</td>\n",
       "    </tr>\n",
       "    <tr>\n",
       "      <td>34</td>\n",
       "      <td>2.994500</td>\n",
       "    </tr>\n",
       "    <tr>\n",
       "      <td>35</td>\n",
       "      <td>3.389700</td>\n",
       "    </tr>\n",
       "    <tr>\n",
       "      <td>36</td>\n",
       "      <td>3.022100</td>\n",
       "    </tr>\n",
       "    <tr>\n",
       "      <td>37</td>\n",
       "      <td>2.425100</td>\n",
       "    </tr>\n",
       "    <tr>\n",
       "      <td>38</td>\n",
       "      <td>3.019900</td>\n",
       "    </tr>\n",
       "    <tr>\n",
       "      <td>39</td>\n",
       "      <td>3.047000</td>\n",
       "    </tr>\n",
       "    <tr>\n",
       "      <td>40</td>\n",
       "      <td>2.859300</td>\n",
       "    </tr>\n",
       "    <tr>\n",
       "      <td>41</td>\n",
       "      <td>2.393400</td>\n",
       "    </tr>\n",
       "    <tr>\n",
       "      <td>42</td>\n",
       "      <td>3.024200</td>\n",
       "    </tr>\n",
       "    <tr>\n",
       "      <td>43</td>\n",
       "      <td>3.034100</td>\n",
       "    </tr>\n",
       "    <tr>\n",
       "      <td>44</td>\n",
       "      <td>2.856800</td>\n",
       "    </tr>\n",
       "    <tr>\n",
       "      <td>45</td>\n",
       "      <td>2.710200</td>\n",
       "    </tr>\n",
       "    <tr>\n",
       "      <td>46</td>\n",
       "      <td>1.422600</td>\n",
       "    </tr>\n",
       "    <tr>\n",
       "      <td>47</td>\n",
       "      <td>2.471700</td>\n",
       "    </tr>\n",
       "    <tr>\n",
       "      <td>48</td>\n",
       "      <td>1.689000</td>\n",
       "    </tr>\n",
       "    <tr>\n",
       "      <td>49</td>\n",
       "      <td>2.724900</td>\n",
       "    </tr>\n",
       "    <tr>\n",
       "      <td>50</td>\n",
       "      <td>2.726200</td>\n",
       "    </tr>\n",
       "    <tr>\n",
       "      <td>51</td>\n",
       "      <td>2.841700</td>\n",
       "    </tr>\n",
       "    <tr>\n",
       "      <td>52</td>\n",
       "      <td>1.742100</td>\n",
       "    </tr>\n",
       "    <tr>\n",
       "      <td>53</td>\n",
       "      <td>2.266500</td>\n",
       "    </tr>\n",
       "    <tr>\n",
       "      <td>54</td>\n",
       "      <td>1.678700</td>\n",
       "    </tr>\n",
       "    <tr>\n",
       "      <td>55</td>\n",
       "      <td>2.584400</td>\n",
       "    </tr>\n",
       "    <tr>\n",
       "      <td>56</td>\n",
       "      <td>2.066900</td>\n",
       "    </tr>\n",
       "    <tr>\n",
       "      <td>57</td>\n",
       "      <td>2.823500</td>\n",
       "    </tr>\n",
       "    <tr>\n",
       "      <td>58</td>\n",
       "      <td>2.192500</td>\n",
       "    </tr>\n",
       "    <tr>\n",
       "      <td>59</td>\n",
       "      <td>0.970600</td>\n",
       "    </tr>\n",
       "    <tr>\n",
       "      <td>60</td>\n",
       "      <td>2.096000</td>\n",
       "    </tr>\n",
       "    <tr>\n",
       "      <td>61</td>\n",
       "      <td>2.671900</td>\n",
       "    </tr>\n",
       "    <tr>\n",
       "      <td>62</td>\n",
       "      <td>2.395800</td>\n",
       "    </tr>\n",
       "    <tr>\n",
       "      <td>63</td>\n",
       "      <td>1.949300</td>\n",
       "    </tr>\n",
       "    <tr>\n",
       "      <td>64</td>\n",
       "      <td>1.138700</td>\n",
       "    </tr>\n",
       "    <tr>\n",
       "      <td>65</td>\n",
       "      <td>1.615300</td>\n",
       "    </tr>\n",
       "    <tr>\n",
       "      <td>66</td>\n",
       "      <td>1.963300</td>\n",
       "    </tr>\n",
       "    <tr>\n",
       "      <td>67</td>\n",
       "      <td>2.240000</td>\n",
       "    </tr>\n",
       "    <tr>\n",
       "      <td>68</td>\n",
       "      <td>2.147700</td>\n",
       "    </tr>\n",
       "    <tr>\n",
       "      <td>69</td>\n",
       "      <td>1.653000</td>\n",
       "    </tr>\n",
       "    <tr>\n",
       "      <td>70</td>\n",
       "      <td>2.063900</td>\n",
       "    </tr>\n",
       "    <tr>\n",
       "      <td>71</td>\n",
       "      <td>1.324500</td>\n",
       "    </tr>\n",
       "    <tr>\n",
       "      <td>72</td>\n",
       "      <td>1.667800</td>\n",
       "    </tr>\n",
       "    <tr>\n",
       "      <td>73</td>\n",
       "      <td>2.006700</td>\n",
       "    </tr>\n",
       "    <tr>\n",
       "      <td>74</td>\n",
       "      <td>1.863900</td>\n",
       "    </tr>\n",
       "    <tr>\n",
       "      <td>75</td>\n",
       "      <td>2.135900</td>\n",
       "    </tr>\n",
       "    <tr>\n",
       "      <td>76</td>\n",
       "      <td>2.649400</td>\n",
       "    </tr>\n",
       "    <tr>\n",
       "      <td>77</td>\n",
       "      <td>1.647900</td>\n",
       "    </tr>\n",
       "    <tr>\n",
       "      <td>78</td>\n",
       "      <td>1.513400</td>\n",
       "    </tr>\n",
       "    <tr>\n",
       "      <td>79</td>\n",
       "      <td>2.004700</td>\n",
       "    </tr>\n",
       "    <tr>\n",
       "      <td>80</td>\n",
       "      <td>1.204600</td>\n",
       "    </tr>\n",
       "    <tr>\n",
       "      <td>81</td>\n",
       "      <td>2.151100</td>\n",
       "    </tr>\n",
       "    <tr>\n",
       "      <td>82</td>\n",
       "      <td>1.225400</td>\n",
       "    </tr>\n",
       "    <tr>\n",
       "      <td>83</td>\n",
       "      <td>0.919200</td>\n",
       "    </tr>\n",
       "    <tr>\n",
       "      <td>84</td>\n",
       "      <td>2.604700</td>\n",
       "    </tr>\n",
       "    <tr>\n",
       "      <td>85</td>\n",
       "      <td>2.507400</td>\n",
       "    </tr>\n",
       "    <tr>\n",
       "      <td>86</td>\n",
       "      <td>1.469600</td>\n",
       "    </tr>\n",
       "    <tr>\n",
       "      <td>87</td>\n",
       "      <td>2.292400</td>\n",
       "    </tr>\n",
       "    <tr>\n",
       "      <td>88</td>\n",
       "      <td>1.740600</td>\n",
       "    </tr>\n",
       "    <tr>\n",
       "      <td>89</td>\n",
       "      <td>2.274000</td>\n",
       "    </tr>\n",
       "    <tr>\n",
       "      <td>90</td>\n",
       "      <td>2.272800</td>\n",
       "    </tr>\n",
       "    <tr>\n",
       "      <td>91</td>\n",
       "      <td>2.187600</td>\n",
       "    </tr>\n",
       "    <tr>\n",
       "      <td>92</td>\n",
       "      <td>1.357700</td>\n",
       "    </tr>\n",
       "    <tr>\n",
       "      <td>93</td>\n",
       "      <td>1.731900</td>\n",
       "    </tr>\n",
       "    <tr>\n",
       "      <td>94</td>\n",
       "      <td>2.548900</td>\n",
       "    </tr>\n",
       "    <tr>\n",
       "      <td>95</td>\n",
       "      <td>2.609700</td>\n",
       "    </tr>\n",
       "    <tr>\n",
       "      <td>96</td>\n",
       "      <td>1.938400</td>\n",
       "    </tr>\n",
       "    <tr>\n",
       "      <td>97</td>\n",
       "      <td>2.148900</td>\n",
       "    </tr>\n",
       "    <tr>\n",
       "      <td>98</td>\n",
       "      <td>1.185500</td>\n",
       "    </tr>\n",
       "    <tr>\n",
       "      <td>99</td>\n",
       "      <td>2.441200</td>\n",
       "    </tr>\n",
       "    <tr>\n",
       "      <td>100</td>\n",
       "      <td>2.727100</td>\n",
       "    </tr>\n",
       "  </tbody>\n",
       "</table><p>"
      ],
      "text/plain": [
       "<IPython.core.display.HTML object>"
      ]
     },
     "metadata": {},
     "output_type": "display_data"
    }
   ],
   "source": [
    "trainer_stats = trainer.train()"
   ]
  },
  {
   "cell_type": "code",
   "execution_count": null,
   "metadata": {},
   "outputs": [],
   "source": [
    "# saving model and loss history\n",
    "# get current datetime\n",
    "now = datetime.now()\n",
    "\n",
    "# name the model\n",
    "model_name = \"e_d2t_model_\" + now.strftime(\"%m%d%Y_%H%M%S\")\n",
    "model_path = \"outputs/\" + model_name\n",
    "model.save_pretrained(model_path) # Local saving\n",
    "# model.push_to_hub(\"your_name/lora_model\", token = \"...\") # Online saving\n",
    "\n",
    "# save hyperparameters as a json dict to model_path\n",
    "with open(model_path + \"/hyperparameters.json\", \"w\") as file:\n",
    "    json.dump(hyper_params, file, indent=4)\n",
    "        \n",
    "# save trainer.state.log_history to model_path\n",
    "with open(model_path + \"/trainer_state_log_history.json\", \"w\") as file:\n",
    "    json.dump(trainer.state.log_history, file, indent=4)"
   ]
  },
  {
   "cell_type": "markdown",
   "metadata": {},
   "source": [
    "# 3. Inference"
   ]
  },
  {
   "cell_type": "code",
   "execution_count": 40,
   "metadata": {},
   "outputs": [],
   "source": [
    "# check the training results\n",
    "title_to_desc_task_prompt_template = \"Here is the title of a movie: ```{0}```\\n Please write a description of the movie.\"\n",
    "desc_to_title_task_prompt_template = \"Here is a description of a movie: ```{0}```\\n Please write the title of the movie.\"\n",
    "    \n",
    "test_input = title_to_desc_task_prompt_template.format(\"Seven Samurai\")\n",
    "# test_input = desc_to_title_task_prompt_template.format(\"Neo is a engineer, but he is also a hacker. One day, he meets Trinity, a beautiful stranger who leads him into the real world.\")\n",
    "# test_input = desc_to_title_task_prompt_template.format(\"A samurai answers a village's request for protection after he falls on hard times. The town needs protection from bandits, so the samurai gathers six others to help him teach the people how to defend themselves, and the villagers provide the soldiers with food. A giant battle occurs when 40 bandits attack the village.\")"
   ]
  },
  {
   "cell_type": "code",
   "execution_count": 41,
   "metadata": {},
   "outputs": [
    {
     "name": "stderr",
     "output_type": "stream",
     "text": [
      "Unused kwargs: ['_load_in_4bit', '_load_in_8bit', 'quant_method']. These kwargs are not used in <class 'transformers.utils.quantization_config.BitsAndBytesConfig'>.\n"
     ]
    },
    {
     "name": "stdout",
     "output_type": "stream",
     "text": [
      "==((====))==  Unsloth: Fast Gemma patching release 2024.4\n",
      "   \\\\   /|    GPU: Tesla T4. Max memory: 14.581 GB. Platform = Linux.\n",
      "O^O/ \\_/ \\    Pytorch: 2.2.2. CUDA = 7.5. CUDA Toolkit = 12.1.\n",
      "\\        /    Bfloat16 = FALSE. Xformers = 0.0.25.post1. FA = False.\n",
      " \"-____-\"     Free Apache license: http://github.com/unslothai/unsloth\n"
     ]
    }
   ],
   "source": [
    "from transformers import TextStreamer, GenerationConfig\n",
    "from unsloth import FastLanguageModel\n",
    "import torch\n",
    "\n",
    "max_seq_length = 4096 # 8192 | Choose any! We auto support RoPE Scaling internally!\n",
    "dtype = None # None for auto detection. Float16 for Tesla T4, V100, Bfloat16 for Ampere+\n",
    "load_in_4bit = True # Use 4bit quantization to reduce memory usage. Can be False.\n",
    "    \n",
    "model, tokenizer = FastLanguageModel.from_pretrained(\n",
    "    # model_name = \"outputs/model_04242024_090830/\", # YOUR MODEL YOU USED FOR TRAINING\n",
    "    # model_name = \"unsloth/gemma-2b-it-bnb-4bit\",\n",
    "    # model_name = \"outputs/checkpoint-1000\",\n",
    "    model_name = \"outputs/e_t2d_model_05152024_002328\",\n",
    "    # model_name = \"outputs/e_d2t_model_05152024_032245\",\n",
    "    max_seq_length = max_seq_length,\n",
    "    dtype = dtype,\n",
    "    load_in_4bit = load_in_4bit,\n",
    ")\n",
    "FastLanguageModel.for_inference(model) # Enable native 2x faster inference\n",
    "        \n",
    "prompt_template = \"<start_of_turn>user\\n{}<end_of_turn>\\n<start_of_turn>model\\n{}\"\n",
    "inputs = tokenizer(\n",
    "[\n",
    "    prompt_template.format(test_input, \"\"),    \n",
    "], return_tensors = \"pt\").to(\"cuda\")\n",
    "\n",
    "# num_beams_parameter = 5\n",
    "# custom_generation_config = GenerationConfig(\n",
    "#     bos_token_id=tokenizer.bos_token_id,\n",
    "#     eos_token_id=tokenizer.eos_token_id,\n",
    "#     pad_token_id=tokenizer.pad_token_id,\n",
    "#     asin_dict=None,\n",
    "#     tokenizer=tokenizer,\n",
    "#     return_dict_in_generate=True,\n",
    "#     output_scores=True,\n",
    "#     # output_logits=True,\n",
    "#     do_sample=True,\n",
    "#     early_stopping=True,\n",
    "#     num_beams=num_beams_parameter, \n",
    "#     num_return_sequences=num_beams_parameter,\n",
    "#     max_new_tokens=1024,\n",
    "#     use_cache=True,\n",
    "#     temperature=1,\n",
    "#     # num_beam_groups=5, # In this generation mode, `num_beams` should be divisible by `num_beam_groups`. `diversity_penalty` is not 0.0 or `num_beam_groups` is not 1, triggering group beam search. \n",
    "#     # diversity_penalty=0.9, # `diversity_penalty` should be greater than `0.0`, otherwise your groups will be identical.\n",
    "#     output_hidden_states=True,\n",
    "# )\n",
    "\n",
    "# outputs = model.generate(**inputs, generation_config=custom_generation_config)\n",
    "outputs = model.generate(**inputs, max_new_tokens=1, use_cache=True, return_dict_in_generate=True, output_hidden_states=True,)\n",
    "# check CUDA memory usage\n",
    "used_memory = round(torch.cuda.max_memory_allocated() / 1024 / 1024 / 1024, 3)\n",
    "# if used_memory close to 14GB, empty the cache\n",
    "if used_memory > 14.3:\n",
    "    torch.cuda.empty_cache()\n",
    "    print(\"CUDA memory usage is high. Cleared the cache.\")"
   ]
  },
  {
   "cell_type": "code",
   "execution_count": 3,
   "metadata": {},
   "outputs": [
    {
     "name": "stdout",
     "output_type": "stream",
     "text": [
      "Generated text:  user\n",
      "Here is the title of a movie: ```Seven Samurai```\n",
      " Please write a description of the movie.\n",
      "model\n",
      "Product DescriptionSeven Samurai (DVD) (WS)Academy Award-winning director Akira Kurosawa (Rashomon, The Hidden Fortress) brings to life the epic tale of a band of 100 samurai who, in the wake of the Civil War, are hired by a wealthy landowner to defend his land and his people. The film is a sweeping epic of honor, loyalty and love, and a powerful story of the human spirit in the face of great adversity. The film stars Toshiro Mifune as the samurai leader, and is a masterpiece of samurai cinema.]]>Amazon.comSeven Samuraiis a classic samurai epic, a sweeping, epic tale of honor, loyalty, and love, and a powerful story of the human spirit in the face of great adversity. The film stars Toshiro Mifune as the samurai leader, and is a masterpiece of samurai cinema. The film is set in the aftermath of the Civil War, and the samurai are hired by a wealthy landowner to defend his land and his people. The film is a sweeping epic of honor, loyalty, and love, and a powerful story of the human spirit in the face of great adversity. The film is also a masterpiece of samurai cinema, and Mifune's performance is one of the most powerful in film history. The film is a masterpiece of samurai cinema, and Mifune's performance is one of the most powerful in film history. The film is also a masterpiece of the samurai genre, and Kurosawa's direction is masterful. The film is a masterpiece of samurai cinema, and Mifune's performance is one of the most powerful in film history. The film is also a masterpiece of the samurai genre, and Kurosawa's direction is masterful. The film is a masterpiece of samurai cinema, and Mifune's performance is one of the most powerful in film history. The film is also a masterpiece of the samurai genre, and Kurosawa's direction is masterful. The film is a masterpiece of samurai cinema, and Mifune's performance is one of the most powerful in film history. The film is also a masterpiece of the samurai genre, and Kurosawa's direction is masterful. The film is a masterpiece of samurai cinema, and Mifune's performance is one of the most powerful in film history. The film is also a masterpiece of the samurai genre, and Kurosawa's direction is masterful. The film is a masterpiece of samurai cinema, and Mifune's performance is one of the most powerful in film history\n",
      "*************************************************\n"
     ]
    }
   ],
   "source": [
    "# for i in range(num_beams_parameter):\n",
    "#     # print(outputs['sequences'][i])\n",
    "#     print(\"Generated text: \", \"\".join(tokenizer.decode(outputs['sequences'][i], skip_special_tokens=True)))\n",
    "#     print(\"*************************************************\")\n",
    "\n",
    "print(\"Generated text: \", \"\".join(tokenizer.decode(outputs['sequences'][0], skip_special_tokens=True)))\n",
    "print(\"*************************************************\")"
   ]
  },
  {
   "cell_type": "code",
   "execution_count": 9,
   "metadata": {},
   "outputs": [
    {
     "name": "stdout",
     "output_type": "stream",
     "text": [
      "input length:  30\n",
      "full length:  542\n",
      "newly generated token sequence length:  512\n"
     ]
    }
   ],
   "source": [
    "print(\"input length: \", len(inputs[0]))\n",
    "print(\"full length: \", len(outputs['sequences'][0]))\n",
    "print(\"newly generated token sequence length: \", len(outputs['sequences'][0]) - len(inputs[0]))"
   ]
  },
  {
   "cell_type": "code",
   "execution_count": 18,
   "metadata": {},
   "outputs": [
    {
     "name": "stdout",
     "output_type": "stream",
     "text": [
      "last layer embeddings' shape:  torch.Size([1, 30, 2048])\n"
     ]
    },
    {
     "data": {
      "text/plain": [
       "(tensor([[-0.0771, -0.1932, -0.1176,  ..., -0.8994, -0.8442, -0.6426]],\n",
       "        device='cuda:0', dtype=torch.float16),\n",
       " torch.Size([1, 2048]))"
      ]
     },
     "execution_count": 18,
     "metadata": {},
     "output_type": "execute_result"
    }
   ],
   "source": [
    "# hidden states\n",
    "# first [0] means the prefix embeddings.\n",
    "# second [-1] means take the last layer embeddings.\n",
    "print(\"last layer embeddings' shape: \", outputs.hidden_states[0][-1].shape) # embeddings, with the length of prefix\n",
    "# take average of the embeddings\n",
    "averaged_emb = outputs.hidden_states[0][-1].mean(dim=1)\n",
    "averaged_emb, averaged_emb.shape"
   ]
  },
  {
   "cell_type": "markdown",
   "metadata": {},
   "source": [
    "### 3.1 Generating ground-truth embeddings"
   ]
  },
  {
   "cell_type": "code",
   "execution_count": 2,
   "metadata": {},
   "outputs": [
    {
     "data": {
      "text/plain": [
       "2"
      ]
     },
     "execution_count": 2,
     "metadata": {},
     "output_type": "execute_result"
    }
   ],
   "source": [
    "# get the groud-truth movies\n",
    "import json\n",
    "\n",
    "with open('./data/gemma_chat_training_wo_description_fixed_empty_string_filter.json', 'r') as file:\n",
    "    gemma_train_wo_description = json.load(file)\n",
    "len(gemma_train_wo_description)"
   ]
  },
  {
   "cell_type": "markdown",
   "metadata": {},
   "source": [
    "# 4. Predicting model"
   ]
  },
  {
   "cell_type": "markdown",
   "metadata": {},
   "source": [
    "## 4.1 construct training dataset"
   ]
  },
  {
   "cell_type": "code",
   "execution_count": 35,
   "metadata": {},
   "outputs": [],
   "source": [
    "# def asin_dict_to_t2d_dict(original_dictionary):\n",
    "#     new_dictionary = {}\n",
    "#     for key, movie in asin_dict.items():\n",
    "#         new_dictionary[movie[0]] = ' '.join(movie[1])\n",
    "#     return new_dictionary\n",
    "\n",
    "# title_to_description_dict = asin_dict_to_t2d_dict(asin_dict)"
   ]
  },
  {
   "cell_type": "code",
   "execution_count": 43,
   "metadata": {},
   "outputs": [],
   "source": [
    "# # generate the embeddings of movies using the t2d model\n",
    "# def get_embedding_from_t2d_by_title(title):\n",
    "    \n",
    "#     title_to_desc_task_prompt_template = \"Here is the title of a movie: ```{0}```\\n Please write a description of the movie.\"\n",
    "#     # generate input\n",
    "#     inputs = tokenizer(\n",
    "#     [\n",
    "#         prompt_template.format(title_to_desc_task_prompt_template, title),    \n",
    "#     ], return_tensors = \"pt\").to(\"cuda\")\n",
    "#     outputs = model.generate(**inputs, max_new_tokens=512, use_cache=True, return_dict_in_generate=True, output_hidden_states=True,)\n",
    "    \n",
    "#     # get the averaged output vector of the prefix(prompt)\n",
    "#     embedding = outputs.hidden_states[0][-1].mean(dim=1)\n",
    "#     return embedding\n",
    "\n",
    "\n",
    "# def get_embedding_from_d2t_by_title(title):\n",
    "#     description = title_to_description_dict[title]\n",
    "#     desc_to_title_task_prompt_template = \"Here is a description of a movie: ```{0}```\\n Please write the title of the movie.\"\n",
    "#     # generate input\n",
    "#     inputs = tokenizer(\n",
    "#     [\n",
    "#         desc_to_title_task_prompt_template.format(title_to_desc_task_prompt_template, description),    \n",
    "#     ], return_tensors = \"pt\").to(\"cuda\")\n",
    "#     outputs = model.generate(**inputs, max_new_tokens=512, use_cache=True, return_dict_in_generate=True, output_hidden_states=True,)\n",
    "    \n",
    "#     # get the averaged output vector of the prefix(prompt)\n",
    "#     embedding = outputs.hidden_states[0][-1].mean(dim=1)\n",
    "#     return embedding"
   ]
  },
  {
   "cell_type": "code",
   "execution_count": 37,
   "metadata": {},
   "outputs": [],
   "source": [
    "# # get a list of five titles to test\n",
    "# test_title_list = gemma_train_wo_description['output'][:5]"
   ]
  },
  {
   "cell_type": "code",
   "execution_count": null,
   "metadata": {},
   "outputs": [],
   "source": [
    "# # test\n",
    "# for title in test_title_list:\n",
    "#     embedding_from_t2d = get_embedding_from_t2d_by_title(title)\n",
    "#     embedding_from_d2t = get_embedding_from_d2t_by_title(title)\n",
    "#     print(\"t2d embedding shape:\", embedding_from_t2d.shape)\n",
    "#     print(\"d2t embedding shape:\", embedding_from_d2t.shape)\n",
    "#     print(embedding_from_t2d)\n",
    "#     print(embedding_from_d2t)"
   ]
  },
  {
   "cell_type": "code",
   "execution_count": 47,
   "metadata": {},
   "outputs": [],
   "source": [
    "# # store the movie titles and tensors as key-value pairs\n",
    "# import h5py\n",
    "\n",
    "# def save_tensors(tensors, file_name):\n",
    "#     with h5py.File(file_name, 'w') as h5f:\n",
    "#         for key, tensor in tensors.items():\n",
    "#             h5f.create_dataset(key, data=tensor.numpy())  # Convert to numpy before saving"
   ]
  },
  {
   "cell_type": "code",
   "execution_count": null,
   "metadata": {},
   "outputs": [],
   "source": [
    "# from tqdm import tqdm\n",
    "# title_t2d_embedding_dict = {}\n",
    "# title_d2t_embedding_dict = {}\n",
    "# for title in tqdm(gemma_train_wo_description['output']):\n",
    "#     embedding_from_t2d = get_embedding_from_t2d_by_title(title)\n",
    "#     embedding_from_d2t = get_embedding_from_d2t_by_title(title)\n",
    "#     title_t2d_embedding_dict[title] = embedding_from_t2d\n",
    "#     title_d2t_embedding_dict[title] = embedding_from_d2t\n",
    "\n",
    "# title_t2d_embedding_file = \"data/title_t2d_hidden_state_output.hdf5\"\n",
    "# title_d2t_embedding_file = \"data/title_d2t_hidden_state_output.hdf5\"\n",
    "\n",
    "\n",
    "# save_tensors(title_t2d_embedding_dict, title_t2d_embedding_file)\n",
    "# save_tensors(title_d2t_embedding_dict, title_d2t_embedding_file)"
   ]
  },
  {
   "cell_type": "code",
   "execution_count": 21,
   "metadata": {},
   "outputs": [
    {
     "name": "stdout",
     "output_type": "stream",
     "text": [
      "6046\n"
     ]
    }
   ],
   "source": [
    "# load the embeddings from title_sbert_encoding.json\n",
    "import json\n",
    "import torch\n",
    "\n",
    "# Load from JSON file\n",
    "with open('data/title_sbert_encoding_wo_category.json', 'r') as file:\n",
    "    loaded_data = json.load(file)\n",
    "# Convert lists back to tensors\n",
    "data = {key: torch.tensor(value) for key, value in loaded_data.items()}\n",
    "print(len(data))"
   ]
  },
  {
   "cell_type": "code",
   "execution_count": 18,
   "metadata": {},
   "outputs": [],
   "source": [
    "# with open('data/gemma_chat_training_wo_description_fixed_empty_string_filter.json', 'r') as file:\n",
    "#     training_data = json.load(file)\n",
    "# with open('data/gemma_chat_training_w_description_fixed_empty_string_filter.json', 'r') as file:\n",
    "#     training_data = json.load(file)\n",
    "    \n",
    "# read huggingface dataset from local\n",
    "from datasets import load_from_disk\n",
    "\n",
    "training_data = load_from_disk(\"./data/gemma_chat_train_fixed_empty_string_filter\")\n",
    "eval_data = load_from_disk('./data/gemma_chat_eval_fixed_empty_string_filter')"
   ]
  },
  {
   "cell_type": "code",
   "execution_count": 22,
   "metadata": {},
   "outputs": [
    {
     "data": {
      "text/plain": [
       "(\"Below is the previous historical purchases and reviews of the user:\\n```\\nItem title: Hotel Transylvania: 3-Movie DVD Collection \\n Item description: Disc 1 - Hotel Transylvania & Hotel Transylvania 2 Disc 2 - Hotel Transylvania 3 Hotel Transylvania Welcome to Hotel Transylvania, Dracula’s lavish five-stake resort, where monsters and their families can live it up and no humans are allowed. Hotel Transylvania 2 The Drac-Pack is back in this hilarious comedy starring Drac, Mavis, Johnny and your favourite monsters in an all-new adventure! Hotel Transylvania 3 Join Drac, Mavis and all of your favourite monsters for fun and adventure on the high seas as they embark on a monster cruise vacation! \\n rating: 5.0 \\n review: Movies 1 & 2 are on the same disc. You’ll get 2 disks for the 3 movies. Our digital code worked for movie 3. Bummed it wasn’t included for all 3, but I wasn’t expecting one for the 3rd movie anyway. So that was kind of a bonus.-------\\n```\\nAnd here is the user's intention: I love animated movies with fun adventures, so I'm looking for something similar to my previous picks.\\nPlease infer the user's preference based on historical purchases and reviews along with the user's intention, and then recommend an item for this user. Please just give the title of the recommended item.\",\n",
       " 'Kung Fu Panda: 3-Movie Collection [DVD]')"
      ]
     },
     "execution_count": 22,
     "metadata": {},
     "output_type": "execute_result"
    }
   ],
   "source": [
    "test_index = 0\n",
    "training_data['input'][test_index], training_data['output'][test_index]"
   ]
  },
  {
   "cell_type": "code",
   "execution_count": 24,
   "metadata": {},
   "outputs": [
    {
     "name": "stderr",
     "output_type": "stream",
     "text": [
      "  0%|          | 0/14507 [00:00<?, ?it/s]"
     ]
    },
    {
     "name": "stderr",
     "output_type": "stream",
     "text": [
      "100%|██████████| 14507/14507 [23:57<00:00, 10.09it/s]\n",
      "100%|██████████| 103/103 [00:00<00:00, 1006.32it/s]\n"
     ]
    }
   ],
   "source": [
    "from tqdm import tqdm\n",
    "# ABORT: not including categories in the training data\n",
    "# new_training_data = {\"input\": [], \"output\": []}\n",
    "# for i in range(len(training_data['input'])):\n",
    "#     new_input = training_data['input'][i] \n",
    "#     new_output = training_data['output'][i]\n",
    "    \n",
    "#     new_input = \".\".join(new_input.split(\".\")[:-2]) + \". Please give the title, description and categories of the recommended item.\"\n",
    "#     new_output = data[new_output]\n",
    "    \n",
    "#     new_training_data['input'].append(new_input)\n",
    "#     new_training_data['output'].append(new_output)\n",
    "\n",
    "new_training_data = {\"input\": [], \"output\": []}\n",
    "for i in tqdm(range(len(training_data['input']))):\n",
    "    new_input = training_data['input'][i] \n",
    "    if training_data['output'][i].startswith(\"Title: \"):\n",
    "        new_output = training_data['output'][i].split(\"\\n\")[0].split(\"Title: \")[1].strip()\n",
    "    else:\n",
    "        new_output = training_data['output'][i]\n",
    "    \n",
    "    new_output = data[new_output]\n",
    "    \n",
    "    new_training_data['input'].append(new_input)\n",
    "    new_training_data['output'].append(new_output)\n",
    "\n",
    "new_eval_data = {\"input\": [], \"output\": []}\n",
    "for i in tqdm(range(len(eval_data['input']))):\n",
    "    new_input = eval_data['input'][i] \n",
    "    if eval_data['output'][i].startswith(\"Title: \"):\n",
    "        new_output = eval_data['output'][i].split(\"\\n\")[0].split(\"Title: \")[1].strip()\n",
    "    else:\n",
    "        new_output = eval_data['output'][i]\n",
    "    \n",
    "    new_output = data[new_output]\n",
    "    \n",
    "    new_eval_data['input'].append(new_input)\n",
    "    new_eval_data['output'].append(new_output)"
   ]
  },
  {
   "cell_type": "code",
   "execution_count": 27,
   "metadata": {},
   "outputs": [
    {
     "data": {
      "text/plain": [
       "(14507, 14507, 103, 103)"
      ]
     },
     "execution_count": 27,
     "metadata": {},
     "output_type": "execute_result"
    }
   ],
   "source": [
    "# new_training_data[\"input\"][0], new_training_data[\"output\"][0]\n",
    "len(new_training_data[\"input\"]), len(new_training_data[\"output\"]), \\\n",
    "len(new_eval_data[\"input\"]), len(new_eval_data[\"output\"])"
   ]
  },
  {
   "cell_type": "code",
   "execution_count": 30,
   "metadata": {},
   "outputs": [],
   "source": [
    "from datasets import Dataset\n",
    "\n",
    "dataset_predict_emb_task = Dataset.from_dict(new_training_data)\n",
    "dataset_predict_emb_task_test = Dataset.from_dict(new_eval_data)\n",
    "\n",
    "dataset_predict_emb_task = dataset_predict_emb_task.train_test_split(test_size=0.025)\n",
    "dataset_predict_emb_task_train, dataset_predict_emb_task_eval = dataset_predict_emb_task[\"train\"], dataset_predict_emb_task[\"test\"]"
   ]
  },
  {
   "cell_type": "code",
   "execution_count": 31,
   "metadata": {},
   "outputs": [
    {
     "data": {
      "text/plain": [
       "(Dataset({\n",
       "     features: ['input', 'output'],\n",
       "     num_rows: 14144\n",
       " }),\n",
       " Dataset({\n",
       "     features: ['input', 'output'],\n",
       "     num_rows: 363\n",
       " }),\n",
       " Dataset({\n",
       "     features: ['input', 'output'],\n",
       "     num_rows: 103\n",
       " }))"
      ]
     },
     "execution_count": 31,
     "metadata": {},
     "output_type": "execute_result"
    }
   ],
   "source": [
    "dataset_predict_emb_task_train, dataset_predict_emb_task_eval, dataset_predict_emb_task_test"
   ]
  },
  {
   "cell_type": "code",
   "execution_count": 32,
   "metadata": {},
   "outputs": [
    {
     "data": {
      "application/vnd.jupyter.widget-view+json": {
       "model_id": "bee28567cb314cfc940a0f15b8437586",
       "version_major": 2,
       "version_minor": 0
      },
      "text/plain": [
       "Saving the dataset (0/1 shards):   0%|          | 0/14144 [00:00<?, ? examples/s]"
      ]
     },
     "metadata": {},
     "output_type": "display_data"
    },
    {
     "data": {
      "application/vnd.jupyter.widget-view+json": {
       "model_id": "5902d46ab3904343a43febbd41377723",
       "version_major": 2,
       "version_minor": 0
      },
      "text/plain": [
       "Saving the dataset (0/1 shards):   0%|          | 0/363 [00:00<?, ? examples/s]"
      ]
     },
     "metadata": {},
     "output_type": "display_data"
    },
    {
     "data": {
      "application/vnd.jupyter.widget-view+json": {
       "model_id": "9ad75bd38d5245ba93216da5ddd4964a",
       "version_major": 2,
       "version_minor": 0
      },
      "text/plain": [
       "Saving the dataset (0/1 shards):   0%|          | 0/103 [00:00<?, ? examples/s]"
      ]
     },
     "metadata": {},
     "output_type": "display_data"
    }
   ],
   "source": [
    "dataset_predict_emb_task_train.save_to_disk('./data/gemma_chat_train_predict_emb_task_fixed_empty_string_filter')\n",
    "dataset_predict_emb_task_eval.save_to_disk('./data/gemma_chat_eval_predict_emb_task_fixed_empty_string_filter')\n",
    "dataset_predict_emb_task_test.save_to_disk('./data/gemma_chat_test_predict_emb_task_fixed_empty_string_filter')"
   ]
  },
  {
   "cell_type": "markdown",
   "metadata": {},
   "source": [
    "## 4.2 Distance based loss function - training"
   ]
  },
  {
   "cell_type": "code",
   "execution_count": 14,
   "metadata": {},
   "outputs": [],
   "source": [
    "# read huggingface dataset from local\n",
    "from datasets import load_from_disk\n",
    "\n",
    "dataset_train = load_from_disk(\"./data/gemma_chat_train_predict_emb_task_fixed_empty_string_filter\")\n",
    "dataset_eval = load_from_disk(\"./data/gemma_chat_eval_predict_emb_task_fixed_empty_string_filter\")\n",
    "dataset_test = load_from_disk(\"./data/gemma_chat_test_predict_emb_task_fixed_empty_string_filter\")"
   ]
  },
  {
   "cell_type": "code",
   "execution_count": 46,
   "metadata": {},
   "outputs": [
    {
     "name": "stdout",
     "output_type": "stream",
     "text": [
      "Dataset({\n",
      "    features: ['input', 'output'],\n",
      "    num_rows: 5\n",
      "})\n"
     ]
    }
   ],
   "source": [
    "print(dataset_train.select(range(5)))"
   ]
  },
  {
   "cell_type": "code",
   "execution_count": 23,
   "metadata": {},
   "outputs": [
    {
     "data": {
      "text/plain": [
       "'Below is the previous historical purchases and reviews of the user:\\n```\\nItem title: The Big Bang Theory: Season 6 \\n Item description: Big Bang Theory, The: The Complete Sixth Season (DVD) The CalTech geniuses of The Big Bang Theory return for season six after being thrown for a bell curve in the phenomenally funny fifth season of the hit show. In “TV’s top-rated comedy” (New York Post), Leonard has to “debug” his relationship with Penny once more after accidentally proposing to her in the heat of the moment, while Sheldon, Howard, and Raj continue to discover the feminine mystique is something that cannot be easily graphed or calculated. With even greater personal contact with his not girlfriend but “friend-who-happens-to-be-a-girl” Amy Farrah Fowler, Sheldon might have to make even more begrudging amendments to his “Relationship Agreement” while Raj continues to look for a girl as nice as Siri, and Howard gets ready for splashdown in both his NASA space travels and wedding to the spirited Bernadette. ]]> \\n rating: 5.0 \\n review: love the nerds-------\\nItem title: Charlie Wilson\\'s War (Widescreen Edition) \\n Item description: Product Description Academy Award® winners Tom Hanks, Julia Roberts and Philip Seymour Hoffman star in this compelling and witty film from Oscar®-winning director Mike Nichols and Primetime Emmy®-winning writer Aaron Sorkin (The West Wing). Based on the outrageous true story, Charlie Wilson\\'s War shows how one congressman who loved a good time, one Houston socialite who loved a good cause and one renegade CIA agent who loved a good fight conspired to bring about the largest covert operation in history. Bonus Content: The Making of Charlie Wilson\\'s War The Making of Charlie Wilson\\'s War Who Is Charlie Wilson? Who Is Charlie Wilson? ]]> Amazon.com Political movies about backroom negotiations need not be dry or heavy-handed, as Charlie Wilson\\'s War delightfully proves. Based on the true story of playboy congressman Wilson\\'s efforts to fund Afghanistan\\'s defense against the Soviet invasion of the 1980s, the film is borne along on breezy attitude and a peppery script by West Wing scribe Aaron Sorkin. Wilson, played by Tom Hanks (who also produced), is the perfect hero for this kind of tale, because there\\'s nothing perfect or heroic about him: He\\'s a highball-swilling, fanny-pinching gadabout who becomes radicalized on the issue of helping the Afghans against their mighty aggressor. He has help in the form of a right-wing Texas anti-Communist (Julia Roberts) with a genius for raising money, and a sardonic CIA operative (Philip Seymour Hoffman, stealing the show) who lacks all the social skills Wilson has in abundance. Sorkin\\'s syncopated speech is just the ticket for director Mike Nichols, who understands exactly how to keep this kind of political comedy popping (the complicated story comes in at a hair over 90 minutes, amazingly). Some scoundrels are on the right side of the angels, and the movie\\'s Charlie Wilson is one of them. -- Robert Horton Beyond Charlie Wilson\\'s War on DVD More Tom Hanks Films by Mike Nichols More Julia Roberts Stills from Charlie Wilson\\'s War (Click for larger image) \\n rating: 5.0 \\n review: Well my title said most of it and how we turn on our allies when it is convenient for corporate America.<br />Almost the same in Viet Nam and the Viet Min and later called the Viet Cong we trained for warfare in the 1940\\'s and fought in the 1950\\'s to the 1970\\'s.-------\\nItem title: Tora! Tora! Tora! (Two-Disc Collector\\'s Edition) \\n Item description: Martin Balsam, Jason Robards, Jr.. As Japanese fighter pilots waited for Tora! Tora! Tora!\" from their commander, Pearl Harbor was seemingly peaceful and calm! But the truth behind the tragic day that forced America into WWII was anything but peaceful. 2 DVDs. 1970/color/145 min/G/widescreen. \\n rating: 5.0 \\n review: Saw one of the &#34;Japanese&#34; carriers in San Diego tied up when on the Kitty Hawk in 1968-1969.  Love the movie...........-------\\nItem title: TCM Greatest Classic Film Collection: War (Battle of the Bulge / The Dawn Patrol / Gunga Din / Operation Pacific) \\n Item description: BATTLE OF THE BULGE This epic recreation of one of World War II\\'s pivotal clashes captures the explosive action of massive forces squaring off as well as the brave ingenuity of weary GIs trying to survive a cruel European winter. Ken Annakin (The Longest Day) directs an all-star juggernaut: Henry Fonda, Robert Shaw, Robert Ryan and more. THE DAWN PATROL Errol Flynn and David Niven take to the skies in this thrilling aerial action yarn as World War I British flyboys who unite in devil-may-care gallantry and in disdain for their commander (Basil Rathbone). But war\\'s realities will soon tarnish their bonhomie and change their disdain to understanding. GUNGA DIN Cary Grant, Victor McLaglen and Douglas Fairbanks Jr. star as cheeky soldiers of Queen and Empire armed with battlefield gallantry and chin-up heroics as they combat a murderous sect in colonial India. Director George Stevens orchestrates teeming battles, boisterous humor – and an indelible title-role performance by Sam Jaffe. OPERATION PACIFIC Meet the dive-for-glory torpedo devils of the USS Thunderfish as John Wayne commands a desperate World War II submarine mission deep into enemy territory. Patricia Neal and Ward Bond co-star. \\n rating: 5.0 \\n review: Some of the best timeless movies of men in combat all masterpieces and came in great condition-------\\nItem title: We Were Soldiers \\n Item description: Mel Gibson and Randall Wallace, the star and writer of Braveheart, reunite for this action-packed war movie that features explosive battle sequences, thrilling aerial photography and unforgettable military heroes who fought for their country, their loved ones and their freedom. The year is 1965 and America is at War with North Vietnam. Commanding the air cavalry is Lt. Col. Hal Moore (Gibson), a born leader committed to his troops. His target: the La Drang Valley, called \"The Valley of Death.\" As Moore prepares for one of the most violent battles in U.S. history, he delivers a stirring promise to his soldiers and their families: \"I will leave no man behind... dead or alive. We will all come home together.\" This heroic true story of commitment, courage and sacrifice also stars Madeline Stowe, Greg Kinnear, Sam Elliott, Chris Klein, Keri Russell and Barry Pepper. (English), The year is 1965 and America is at War with North Vietnam. Commanding the air cavalry is Lt. Col. Hal Moore (Gibson), a born leader committed to his troops. His target: the La Drang Valley, called \"The Valley of Death.\" As Moore prepares for one of the most violent battles in U.S. history, he delivers a stirring promise to his soldiers and their families: \"I will leave no man behind... dead or alive. We will all come home together.\" (Spanish) \\n rating: 5.0 \\n review: Have watched several times and is still interesting as you observe different actors.-------\\nItem title: Leap of Faith by Paramount \\n Item description:  \\n rating: 5.0 \\n review: Movie came in like new condition and played well.  This has to be one of Steve Martins best roles and movies.-------\\nItem title: Patton (Cinema Classics Collection) \\n Item description: Product Description Flamboyant Gen. George S. Patton receives accolades and censure as he fights World War II. Oscars for best picture, director Franklin J. Schaffner, actor Scott. Set Contains: Released in 2006 as part of Fox\\'s Cinema Classics Collection, this deluxe two-disc set of Patton is a worthy replacement for all previous DVD releases of Franklin J. Schaffner\\'s Oscar®-winning film. All of the bonus features from Fox\\'s previous DVD release are included here: Patton is presented with superior image and sound quality (it was one of only two features shot in the \"Dimension 150\" 70-millimeter format; the anamorphic 2.35:1 aspect ratio of previous DVDs has now been corrected to 2.20:1), and the 50-minute documentary \"The Making of Patton : A Tribute to Franklin J. Schaffner\" remains a thorough examination of the film\\'s production, including abundant behind-the-scenes footage, camera tests, and 1997 interviews with producer Frank McCarthy, composer Jerry Goldsmith, cinematographer Fred Koenkamp, Fox executive Richard Zanuck, and others including Oliver Stone, who makes the controversial assertion that several viewings of Patton led President Richard Nixon\\'s decision to bomb Cambodia during the Vietnam War (in turn leading to the genocidal rise of the Khmer Rouge). The combination of archival footage and interviews results in a concise examination of Schaffner\\'s career as a much-admired \"gentleman\\'s gentleman,\" and the film (along with Planet of the Apes ) that he\\'ll best be remembered for. The new features are even better. On Disc 1, Patton cowriter Francis Ford Coppola provides an interesting introduction, explaining how (as a military school dropout in his mid-20s) he was assigned to write the film, feeling it necessary to satisfy audiences by addressing all aspects of Gen. George S. Patton\\'s volatile and contradictory nature. Coppola\\'s feature-length commentary goes further in explaining his approach to the screenplay, including the now-classic opening speech, which Fox executives originally disliked, leading to Coppola\\'s dismissal and the hiring of cowriter Edmund H. North. The commentary loses momentum in mid-film, but Coppola livens up during the film\\'s final hour and recalls plenty of relevant details about his original screenplay, along with anecdotes about the production and cordial acknowledgements of North\\'s contributions. Disc 2 opens with \"History Through the Lens: Patton--A Rebel Revisited,\" an excellent 90-minute documentary that thoroughly compares the film to the facts of Patton\\'s career, arriving at the conclusion (supported by Patton\\'s own descendents) that the film is a remarkably accurate depiction of Patton\\'s larger-than-life persona. The 46-minute documentary \"Patton\\'s Ghost Corps\" is a riveting, sometimes heartbreaking celebration of the 94th Infantry in Patton\\'s XX Corps, who were abandoned in Germany while Patton pursued glory on other fronts. Many were unnecessarily killed, and in interviews taped in 2005, surviving members of the 94th understandably hold Patton responsible while expressing complex feelings (praise, damnation, and everything in between) for Patton\\'s brand of leadership. It\\'s obvious that many of these brave men are still haunted by their battlefield memories. Disc 2 is rounded out by two photo galleries: The production gallery is accompanied by Jerry Goldsmith\\'s complete Oscar®-nominated score, and the behind-the-scenes gallery is accompanied by a 53-minute audio essay (carried over from the previous DVD release) in which Patton scholar Charles M. Province thoroughly explores the film\\'s historical accuracy, along with authoritative biographical details about Patton\\'s life and military career. Both educational and entertaining, all of these features make this Cinema Classics edition of Patton an essential edition to anyone\\'s war-movie collection. --Jeff Shannon \\n rating: 5.0 \\n review: Can remember first time on the big screen.  Still great timeless.............-------\\nItem title: The Big Bang Theory: Season 9 [DVD] \\n Item description: The Big Bang Theory: The Complete Ninth Season (DVD) Prepare to enter phase nine of television’s perpetual laughter experiment as THE BIG BANG THEORY successfully fuses the elements of science and sitcom. Our two genius roommates – Leonard and Sheldon ¬– and their friends are back once again (smarter, but no wiser). Last season, Sheldon went soul-searching (on a train, of course) and was prepared to make some substantial revisions on his Relationship Agreement with Amy, when everything changed. Leonard, meanwhile, was off to Vegas with Penny to finally tie the knot in the season finale. Howard finds himself alone with Bernadette after the sudden passing of his mother; while Raj is not only talking to women – he’s getting exclusive with Emily (Laura Spencer). Together, they will all learn that life is far more complicated outside of the lab as love and friendship never produce predictable results! ]]> \\n rating: 5.0 \\n review: Love the nerds........-------\\n```\\nAnd here is the user\\'s intention: Hey there, I love movies with action, adventure, and a bit of mystery, so I\\'m always on the lookout for something new in that genre.\\nPlease infer the user\\'s preference based on historical purchases and reviews along with the user\\'s intention, and then recommend an item for this user. Please provide the recommended item\\'s title and description.'"
      ]
     },
     "execution_count": 23,
     "metadata": {},
     "output_type": "execute_result"
    }
   ],
   "source": [
    "dataset_train[0][\"input\"]"
   ]
  },
  {
   "cell_type": "code",
   "execution_count": 19,
   "metadata": {},
   "outputs": [
    {
     "name": "stderr",
     "output_type": "stream",
     "text": [
      "Unused kwargs: ['_load_in_4bit', '_load_in_8bit', 'quant_method']. These kwargs are not used in <class 'transformers.utils.quantization_config.BitsAndBytesConfig'>.\n"
     ]
    },
    {
     "name": "stdout",
     "output_type": "stream",
     "text": [
      "==((====))==  Unsloth: Fast Gemma patching release 2024.4\n",
      "   \\\\   /|    GPU: Tesla T4. Max memory: 14.581 GB. Platform = Linux.\n",
      "O^O/ \\_/ \\    Pytorch: 2.2.2. CUDA = 7.5. CUDA Toolkit = 12.1.\n",
      "\\        /    Bfloat16 = FALSE. Xformers = 0.0.25.post1. FA = False.\n",
      " \"-____-\"     Free Apache license: http://github.com/unslothai/unsloth\n"
     ]
    }
   ],
   "source": [
    "# tokenize the input from string to tensor\n",
    "from unsloth import FastLanguageModel\n",
    "\n",
    "_, tokenizer = FastLanguageModel.from_pretrained(\n",
    "    model_name = \"unsloth/gemma-2b-it-bnb-4bit\", # Choose ANY! eg teknium/OpenHermes-2.5-Mistral-7B\n",
    "    max_seq_length = 4096,\n",
    "    dtype = None,\n",
    "    load_in_4bit = True,\n",
    ")"
   ]
  },
  {
   "cell_type": "code",
   "execution_count": 25,
   "metadata": {},
   "outputs": [
    {
     "data": {
      "text/plain": [
       "torch.Size([1, 4096])"
      ]
     },
     "execution_count": 25,
     "metadata": {},
     "output_type": "execute_result"
    }
   ],
   "source": [
    "tokenizer(\"input\", return_tensors=\"pt\", padding=\"max_length\")[\"input_ids\"][:, :4096].shape"
   ]
  },
  {
   "cell_type": "code",
   "execution_count": 26,
   "metadata": {},
   "outputs": [],
   "source": [
    "# init tokenized dataset\n",
    "tokenized_train_dataset = {\"input\": [], \"output\": []}\n",
    "tokenized_eval_dataset = {\"input\": [], \"output\": []}\n",
    "tokenized_test_dataset = {\"input\": [], \"output\": []}\n",
    "\n",
    "# iterate through the dataset and tokenize the input\n",
    "for i in range(len(dataset_train)):\n",
    "    tokenized_train_dataset[\"input\"].append(tokenizer(dataset_train[i][\"input\"], return_tensors=\"pt\")['input_ids'][:, :4096])\n",
    "    tokenized_train_dataset[\"output\"].append(dataset_train[i][\"output\"])\n",
    "    \n",
    "for i in range(len(dataset_eval)):\n",
    "    tokenized_eval_dataset[\"input\"].append(tokenizer(dataset_eval[i][\"input\"], return_tensors=\"pt\")['input_ids'][:, :4096])\n",
    "    tokenized_eval_dataset[\"output\"].append(dataset_eval[i][\"output\"])\n",
    "\n",
    "for i in range(len(dataset_test)):\n",
    "    tokenized_test_dataset[\"input\"].append(tokenizer(dataset_test[i][\"input\"], return_tensors=\"pt\")['input_ids'][:, :4096])\n",
    "    tokenized_test_dataset[\"output\"].append(dataset_test[i][\"output\"])"
   ]
  },
  {
   "cell_type": "code",
   "execution_count": 27,
   "metadata": {},
   "outputs": [],
   "source": [
    "from datasets import Dataset\n",
    "\n",
    "tokenized_train_dataset = Dataset.from_dict(tokenized_train_dataset)\n",
    "tokenized_eval_dataset = Dataset.from_dict(tokenized_eval_dataset)\n",
    "tokenized_test_dataset = Dataset.from_dict(tokenized_test_dataset)"
   ]
  },
  {
   "cell_type": "code",
   "execution_count": 28,
   "metadata": {},
   "outputs": [
    {
     "data": {
      "application/vnd.jupyter.widget-view+json": {
       "model_id": "f97c4661f3ba4b6cbbf376312f0eaa00",
       "version_major": 2,
       "version_minor": 0
      },
      "text/plain": [
       "Saving the dataset (0/1 shards):   0%|          | 0/14144 [00:00<?, ? examples/s]"
      ]
     },
     "metadata": {},
     "output_type": "display_data"
    },
    {
     "data": {
      "application/vnd.jupyter.widget-view+json": {
       "model_id": "3b9c0b22815c4f3796241061f3b93e91",
       "version_major": 2,
       "version_minor": 0
      },
      "text/plain": [
       "Saving the dataset (0/1 shards):   0%|          | 0/363 [00:00<?, ? examples/s]"
      ]
     },
     "metadata": {},
     "output_type": "display_data"
    },
    {
     "data": {
      "application/vnd.jupyter.widget-view+json": {
       "model_id": "ebb0238a07f24d66b3fd86a21d4e435d",
       "version_major": 2,
       "version_minor": 0
      },
      "text/plain": [
       "Saving the dataset (0/1 shards):   0%|          | 0/103 [00:00<?, ? examples/s]"
      ]
     },
     "metadata": {},
     "output_type": "display_data"
    }
   ],
   "source": [
    "# save the tokenized dataset\n",
    "tokenized_train_dataset.save_to_disk('./data/gemma_chat_train_predict_emb_task_fixed_empty_string_filter_tokenized')\n",
    "tokenized_eval_dataset.save_to_disk('./data/gemma_chat_eval_predict_emb_task_fixed_empty_string_filter_tokenized')\n",
    "tokenized_test_dataset.save_to_disk('./data/gemma_chat_test_predict_emb_task_fixed_empty_string_filter_tokenized')"
   ]
  },
  {
   "cell_type": "code",
   "execution_count": 1,
   "metadata": {},
   "outputs": [],
   "source": [
    "# read huggingface dataset from local\n",
    "from datasets import load_from_disk\n",
    "\n",
    "# read the tokenized data\n",
    "tokenized_train_dataset = load_from_disk('./data/gemma_chat_train_predict_emb_task_fixed_empty_string_filter_tokenized')\n",
    "tokenized_eval_dataset = load_from_disk('./data/gemma_chat_eval_predict_emb_task_fixed_empty_string_filter_tokenized')\n",
    "tokenized_test_dataset = load_from_disk('./data/gemma_chat_test_predict_emb_task_fixed_empty_string_filter_tokenized')"
   ]
  },
  {
   "cell_type": "code",
   "execution_count": 2,
   "metadata": {},
   "outputs": [
    {
     "data": {
      "text/plain": [
       "(list, list)"
      ]
     },
     "execution_count": 2,
     "metadata": {},
     "output_type": "execute_result"
    }
   ],
   "source": [
    "type(tokenized_train_dataset[0][\"input\"]),\\\n",
    "type(tokenized_train_dataset[0][\"output\"])"
   ]
  },
  {
   "cell_type": "code",
   "execution_count": 7,
   "metadata": {},
   "outputs": [
    {
     "data": {
      "text/plain": [
       "(torch.Size([1, 4096]),\n",
       " tensor([[    2, 33501,   603,  ...,     0,     0,     0]]))"
      ]
     },
     "execution_count": 7,
     "metadata": {},
     "output_type": "execute_result"
    }
   ],
   "source": [
    "len_to_be_padded = 4096 - len(tokenized_test_dataset[0][\"input\"][0])\n",
    "# len_to_be_padded\n",
    "# add len_to_be_padded 0 to the end of tokenized_test_dataset[0][\"input\"][0]\n",
    "import torch\n",
    "from torch import zeros\n",
    "\n",
    "tensor = torch.tensor(tokenized_test_dataset[0][\"input\"])\n",
    "# pad to the last dimension\n",
    "padded_tensor = torch.nn.functional.pad(tensor, (0, len_to_be_padded), \"constant\", 0)\n",
    "padded_tensor.shape, padded_tensor"
   ]
  },
  {
   "cell_type": "code",
   "execution_count": 2,
   "metadata": {},
   "outputs": [
    {
     "name": "stderr",
     "output_type": "stream",
     "text": [
      "Gemma's activation function should be approximate GeLU and not exact GeLU.\n",
      "Changing the activation function to `gelu_pytorch_tanh`.if you want to use the legacy `gelu`, edit the `model.config` to set `hidden_activation=gelu`   instead of `hidden_act`. See https://github.com/huggingface/transformers/pull/29402 for more details.\n"
     ]
    },
    {
     "name": "stdout",
     "output_type": "stream",
     "text": [
      "==((====))==  Unsloth: Fast Gemma patching release 2024.4\n",
      "   \\\\   /|    GPU: Tesla T4. Max memory: 14.581 GB. Platform = Linux.\n",
      "O^O/ \\_/ \\    Pytorch: 2.2.2. CUDA = 7.5. CUDA Toolkit = 12.1.\n",
      "\\        /    Bfloat16 = FALSE. Xformers = 0.0.25.post1. FA = False.\n",
      " \"-____-\"     Free Apache license: http://github.com/unslothai/unsloth\n"
     ]
    },
    {
     "data": {
      "application/vnd.jupyter.widget-view+json": {
       "model_id": "837f5e31392c4c5e8a9bf043b634a1fa",
       "version_major": 2,
       "version_minor": 0
      },
      "text/plain": [
       "Loading checkpoint shards:   0%|          | 0/2 [00:00<?, ?it/s]"
      ]
     },
     "metadata": {},
     "output_type": "display_data"
    },
    {
     "ename": "KeyboardInterrupt",
     "evalue": "",
     "output_type": "error",
     "traceback": [
      "\u001b[0;31m---------------------------------------------------------------------------\u001b[0m",
      "\u001b[0;31mKeyboardInterrupt\u001b[0m                         Traceback (most recent call last)",
      "Cell \u001b[0;32mIn[2], line 44\u001b[0m\n\u001b[1;32m      8\u001b[0m hyper_params \u001b[38;5;241m=\u001b[39m {\n\u001b[1;32m      9\u001b[0m     \u001b[38;5;66;03m# Model hyperparameters\u001b[39;00m\n\u001b[1;32m     10\u001b[0m     \u001b[38;5;124m\"\u001b[39m\u001b[38;5;124mmax_seq_length\u001b[39m\u001b[38;5;124m\"\u001b[39m: \u001b[38;5;241m4096\u001b[39m, \u001b[38;5;66;03m# 8192 | Choose any! We auto support RoPE Scaling internally!\u001b[39;00m\n\u001b[0;32m   (...)\u001b[0m\n\u001b[1;32m     40\u001b[0m     \u001b[38;5;124m\"\u001b[39m\u001b[38;5;124mseed\u001b[39m\u001b[38;5;124m\"\u001b[39m: \u001b[38;5;241m3407\u001b[39m,\n\u001b[1;32m     41\u001b[0m }\n\u001b[1;32m     43\u001b[0m \u001b[38;5;66;03m# load model and tokenizer\u001b[39;00m\n\u001b[0;32m---> 44\u001b[0m model, tokenizer\u001b[38;5;241m=\u001b[39m \u001b[43mFastLanguageModel\u001b[49m\u001b[38;5;241;43m.\u001b[39;49m\u001b[43mfrom_pretrained\u001b[49m\u001b[43m(\u001b[49m\n\u001b[1;32m     45\u001b[0m \u001b[43m    \u001b[49m\u001b[43mmodel_name\u001b[49m\u001b[43m \u001b[49m\u001b[38;5;241;43m=\u001b[39;49m\u001b[43m \u001b[49m\u001b[43mhyper_params\u001b[49m\u001b[43m[\u001b[49m\u001b[38;5;124;43m\"\u001b[39;49m\u001b[38;5;124;43mmodel_name\u001b[39;49m\u001b[38;5;124;43m\"\u001b[39;49m\u001b[43m]\u001b[49m\u001b[43m,\u001b[49m\u001b[43m \u001b[49m\u001b[38;5;66;43;03m# Choose ANY! eg teknium/OpenHermes-2.5-Mistral-7B\u001b[39;49;00m\n\u001b[1;32m     46\u001b[0m \u001b[43m    \u001b[49m\u001b[43mmax_seq_length\u001b[49m\u001b[43m \u001b[49m\u001b[38;5;241;43m=\u001b[39;49m\u001b[43m \u001b[49m\u001b[43mhyper_params\u001b[49m\u001b[43m[\u001b[49m\u001b[38;5;124;43m\"\u001b[39;49m\u001b[38;5;124;43mmax_seq_length\u001b[39;49m\u001b[38;5;124;43m\"\u001b[39;49m\u001b[43m]\u001b[49m\u001b[43m,\u001b[49m\n\u001b[1;32m     47\u001b[0m \u001b[43m    \u001b[49m\u001b[43mdtype\u001b[49m\u001b[43m \u001b[49m\u001b[38;5;241;43m=\u001b[39;49m\u001b[43m \u001b[49m\u001b[43mhyper_params\u001b[49m\u001b[43m[\u001b[49m\u001b[38;5;124;43m\"\u001b[39;49m\u001b[38;5;124;43mdtype\u001b[39;49m\u001b[38;5;124;43m\"\u001b[39;49m\u001b[43m]\u001b[49m\u001b[43m,\u001b[49m\n\u001b[1;32m     48\u001b[0m \u001b[43m    \u001b[49m\u001b[43mload_in_4bit\u001b[49m\u001b[43m \u001b[49m\u001b[38;5;241;43m=\u001b[39;49m\u001b[43m \u001b[49m\u001b[43mhyper_params\u001b[49m\u001b[43m[\u001b[49m\u001b[38;5;124;43m\"\u001b[39;49m\u001b[38;5;124;43mload_in_4bit\u001b[39;49m\u001b[38;5;124;43m\"\u001b[39;49m\u001b[43m]\u001b[49m\u001b[43m,\u001b[49m\n\u001b[1;32m     49\u001b[0m \u001b[43m    \u001b[49m\u001b[43m)\u001b[49m\n",
      "File \u001b[0;32m/opt/conda/envs/unsloth_env/lib/python3.10/site-packages/unsloth/models/loader.py:138\u001b[0m, in \u001b[0;36mFastLanguageModel.from_pretrained\u001b[0;34m(model_name, max_seq_length, dtype, load_in_4bit, token, device_map, rope_scaling, fix_tokenizer, trust_remote_code, use_gradient_checkpointing, *args, **kwargs)\u001b[0m\n\u001b[1;32m    135\u001b[0m     tokenizer_name \u001b[38;5;241m=\u001b[39m \u001b[38;5;28;01mNone\u001b[39;00m\n\u001b[1;32m    136\u001b[0m \u001b[38;5;28;01mpass\u001b[39;00m\n\u001b[0;32m--> 138\u001b[0m model, tokenizer \u001b[38;5;241m=\u001b[39m \u001b[43mdispatch_model\u001b[49m\u001b[38;5;241;43m.\u001b[39;49m\u001b[43mfrom_pretrained\u001b[49m\u001b[43m(\u001b[49m\n\u001b[1;32m    139\u001b[0m \u001b[43m    \u001b[49m\u001b[43mmodel_name\u001b[49m\u001b[43m     \u001b[49m\u001b[38;5;241;43m=\u001b[39;49m\u001b[43m \u001b[49m\u001b[43mmodel_name\u001b[49m\u001b[43m,\u001b[49m\n\u001b[1;32m    140\u001b[0m \u001b[43m    \u001b[49m\u001b[43mmax_seq_length\u001b[49m\u001b[43m \u001b[49m\u001b[38;5;241;43m=\u001b[39;49m\u001b[43m \u001b[49m\u001b[43mmax_seq_length\u001b[49m\u001b[43m,\u001b[49m\n\u001b[1;32m    141\u001b[0m \u001b[43m    \u001b[49m\u001b[43mdtype\u001b[49m\u001b[43m          \u001b[49m\u001b[38;5;241;43m=\u001b[39;49m\u001b[43m \u001b[49m\u001b[43mdtype\u001b[49m\u001b[43m,\u001b[49m\n\u001b[1;32m    142\u001b[0m \u001b[43m    \u001b[49m\u001b[43mload_in_4bit\u001b[49m\u001b[43m   \u001b[49m\u001b[38;5;241;43m=\u001b[39;49m\u001b[43m \u001b[49m\u001b[43mload_in_4bit\u001b[49m\u001b[43m,\u001b[49m\n\u001b[1;32m    143\u001b[0m \u001b[43m    \u001b[49m\u001b[43mtoken\u001b[49m\u001b[43m          \u001b[49m\u001b[38;5;241;43m=\u001b[39;49m\u001b[43m \u001b[49m\u001b[43mtoken\u001b[49m\u001b[43m,\u001b[49m\n\u001b[1;32m    144\u001b[0m \u001b[43m    \u001b[49m\u001b[43mdevice_map\u001b[49m\u001b[43m     \u001b[49m\u001b[38;5;241;43m=\u001b[39;49m\u001b[43m \u001b[49m\u001b[43mdevice_map\u001b[49m\u001b[43m,\u001b[49m\n\u001b[1;32m    145\u001b[0m \u001b[43m    \u001b[49m\u001b[43mrope_scaling\u001b[49m\u001b[43m   \u001b[49m\u001b[38;5;241;43m=\u001b[39;49m\u001b[43m \u001b[49m\u001b[43mrope_scaling\u001b[49m\u001b[43m,\u001b[49m\n\u001b[1;32m    146\u001b[0m \u001b[43m    \u001b[49m\u001b[43mfix_tokenizer\u001b[49m\u001b[43m  \u001b[49m\u001b[38;5;241;43m=\u001b[39;49m\u001b[43m \u001b[49m\u001b[43mfix_tokenizer\u001b[49m\u001b[43m,\u001b[49m\n\u001b[1;32m    147\u001b[0m \u001b[43m    \u001b[49m\u001b[43mmodel_patcher\u001b[49m\u001b[43m  \u001b[49m\u001b[38;5;241;43m=\u001b[39;49m\u001b[43m \u001b[49m\u001b[43mdispatch_model\u001b[49m\u001b[43m,\u001b[49m\n\u001b[1;32m    148\u001b[0m \u001b[43m    \u001b[49m\u001b[43mtokenizer_name\u001b[49m\u001b[43m \u001b[49m\u001b[38;5;241;43m=\u001b[39;49m\u001b[43m \u001b[49m\u001b[43mtokenizer_name\u001b[49m\u001b[43m,\u001b[49m\n\u001b[1;32m    149\u001b[0m \u001b[43m    \u001b[49m\u001b[43mtrust_remote_code\u001b[49m\u001b[43m \u001b[49m\u001b[38;5;241;43m=\u001b[39;49m\u001b[43m \u001b[49m\u001b[43mtrust_remote_code\u001b[49m\u001b[43m,\u001b[49m\n\u001b[1;32m    150\u001b[0m \u001b[43m    \u001b[49m\u001b[38;5;241;43m*\u001b[39;49m\u001b[43margs\u001b[49m\u001b[43m,\u001b[49m\u001b[43m \u001b[49m\u001b[38;5;241;43m*\u001b[39;49m\u001b[38;5;241;43m*\u001b[39;49m\u001b[43mkwargs\u001b[49m\u001b[43m,\u001b[49m\n\u001b[1;32m    151\u001b[0m \u001b[43m\u001b[49m\u001b[43m)\u001b[49m\n\u001b[1;32m    153\u001b[0m \u001b[38;5;66;03m# In case the model supports tagging, add the unsloth tag.\u001b[39;00m\n\u001b[1;32m    154\u001b[0m \u001b[38;5;28;01mif\u001b[39;00m \u001b[38;5;28mhasattr\u001b[39m(model, \u001b[38;5;124m\"\u001b[39m\u001b[38;5;124madd_model_tags\u001b[39m\u001b[38;5;124m\"\u001b[39m):\n",
      "File \u001b[0;32m/opt/conda/envs/unsloth_env/lib/python3.10/site-packages/unsloth/models/llama.py:1087\u001b[0m, in \u001b[0;36mFastLlamaModel.from_pretrained\u001b[0;34m(model_name, max_seq_length, dtype, load_in_4bit, token, device_map, rope_scaling, fix_tokenizer, model_patcher, tokenizer_name, trust_remote_code, **kwargs)\u001b[0m\n\u001b[1;32m   1085\u001b[0m max_position_embeddings \u001b[38;5;241m=\u001b[39m \u001b[38;5;28mmax\u001b[39m(max_seq_length, model_max_seq_length)\n\u001b[1;32m   1086\u001b[0m \u001b[38;5;28;01mtry\u001b[39;00m:\n\u001b[0;32m-> 1087\u001b[0m     model \u001b[38;5;241m=\u001b[39m \u001b[43mAutoModelForCausalLM\u001b[49m\u001b[38;5;241;43m.\u001b[39;49m\u001b[43mfrom_pretrained\u001b[49m\u001b[43m(\u001b[49m\n\u001b[1;32m   1088\u001b[0m \u001b[43m        \u001b[49m\u001b[43mmodel_name\u001b[49m\u001b[43m,\u001b[49m\n\u001b[1;32m   1089\u001b[0m \u001b[43m        \u001b[49m\u001b[43mdevice_map\u001b[49m\u001b[43m              \u001b[49m\u001b[38;5;241;43m=\u001b[39;49m\u001b[43m \u001b[49m\u001b[43mdevice_map\u001b[49m\u001b[43m,\u001b[49m\n\u001b[1;32m   1090\u001b[0m \u001b[43m        \u001b[49m\u001b[43mtorch_dtype\u001b[49m\u001b[43m             \u001b[49m\u001b[38;5;241;43m=\u001b[39;49m\u001b[43m \u001b[49m\u001b[43mdtype\u001b[49m\u001b[43m,\u001b[49m\n\u001b[1;32m   1091\u001b[0m \u001b[43m        \u001b[49m\u001b[43mquantization_config\u001b[49m\u001b[43m     \u001b[49m\u001b[38;5;241;43m=\u001b[39;49m\u001b[43m \u001b[49m\u001b[43mbnb_config\u001b[49m\u001b[43m,\u001b[49m\n\u001b[1;32m   1092\u001b[0m \u001b[43m        \u001b[49m\u001b[43mtoken\u001b[49m\u001b[43m                   \u001b[49m\u001b[38;5;241;43m=\u001b[39;49m\u001b[43m \u001b[49m\u001b[43mtoken\u001b[49m\u001b[43m,\u001b[49m\n\u001b[1;32m   1093\u001b[0m \u001b[43m        \u001b[49m\u001b[43mrope_scaling\u001b[49m\u001b[43m            \u001b[49m\u001b[38;5;241;43m=\u001b[39;49m\u001b[43m \u001b[49m\u001b[43mrope_scaling\u001b[49m\u001b[43m,\u001b[49m\n\u001b[1;32m   1094\u001b[0m \u001b[43m        \u001b[49m\u001b[43mmax_position_embeddings\u001b[49m\u001b[43m \u001b[49m\u001b[38;5;241;43m=\u001b[39;49m\u001b[43m \u001b[49m\u001b[43mmax_position_embeddings\u001b[49m\u001b[43m,\u001b[49m\n\u001b[1;32m   1095\u001b[0m \u001b[43m        \u001b[49m\u001b[43mtrust_remote_code\u001b[49m\u001b[43m       \u001b[49m\u001b[38;5;241;43m=\u001b[39;49m\u001b[43m \u001b[49m\u001b[43mtrust_remote_code\u001b[49m\u001b[43m,\u001b[49m\n\u001b[1;32m   1096\u001b[0m \u001b[43m        \u001b[49m\u001b[38;5;241;43m*\u001b[39;49m\u001b[38;5;241;43m*\u001b[39;49m\u001b[43mkwargs\u001b[49m\u001b[43m,\u001b[49m\n\u001b[1;32m   1097\u001b[0m \u001b[43m    \u001b[49m\u001b[43m)\u001b[49m\n\u001b[1;32m   1098\u001b[0m \u001b[38;5;28;01mexcept\u001b[39;00m \u001b[38;5;167;01mException\u001b[39;00m \u001b[38;5;28;01mas\u001b[39;00m error:\n\u001b[1;32m   1099\u001b[0m     \u001b[38;5;28;01mif\u001b[39;00m \u001b[38;5;124m\"\u001b[39m\u001b[38;5;124mrope_scaling\u001b[39m\u001b[38;5;124m\"\u001b[39m \u001b[38;5;129;01min\u001b[39;00m \u001b[38;5;28mstr\u001b[39m(error):\n",
      "File \u001b[0;32m/opt/conda/envs/unsloth_env/lib/python3.10/site-packages/transformers/models/auto/auto_factory.py:563\u001b[0m, in \u001b[0;36m_BaseAutoModelClass.from_pretrained\u001b[0;34m(cls, pretrained_model_name_or_path, *model_args, **kwargs)\u001b[0m\n\u001b[1;32m    561\u001b[0m \u001b[38;5;28;01melif\u001b[39;00m \u001b[38;5;28mtype\u001b[39m(config) \u001b[38;5;129;01min\u001b[39;00m \u001b[38;5;28mcls\u001b[39m\u001b[38;5;241m.\u001b[39m_model_mapping\u001b[38;5;241m.\u001b[39mkeys():\n\u001b[1;32m    562\u001b[0m     model_class \u001b[38;5;241m=\u001b[39m _get_model_class(config, \u001b[38;5;28mcls\u001b[39m\u001b[38;5;241m.\u001b[39m_model_mapping)\n\u001b[0;32m--> 563\u001b[0m     \u001b[38;5;28;01mreturn\u001b[39;00m \u001b[43mmodel_class\u001b[49m\u001b[38;5;241;43m.\u001b[39;49m\u001b[43mfrom_pretrained\u001b[49m\u001b[43m(\u001b[49m\n\u001b[1;32m    564\u001b[0m \u001b[43m        \u001b[49m\u001b[43mpretrained_model_name_or_path\u001b[49m\u001b[43m,\u001b[49m\u001b[43m \u001b[49m\u001b[38;5;241;43m*\u001b[39;49m\u001b[43mmodel_args\u001b[49m\u001b[43m,\u001b[49m\u001b[43m \u001b[49m\u001b[43mconfig\u001b[49m\u001b[38;5;241;43m=\u001b[39;49m\u001b[43mconfig\u001b[49m\u001b[43m,\u001b[49m\u001b[43m \u001b[49m\u001b[38;5;241;43m*\u001b[39;49m\u001b[38;5;241;43m*\u001b[39;49m\u001b[43mhub_kwargs\u001b[49m\u001b[43m,\u001b[49m\u001b[43m \u001b[49m\u001b[38;5;241;43m*\u001b[39;49m\u001b[38;5;241;43m*\u001b[39;49m\u001b[43mkwargs\u001b[49m\n\u001b[1;32m    565\u001b[0m \u001b[43m    \u001b[49m\u001b[43m)\u001b[49m\n\u001b[1;32m    566\u001b[0m \u001b[38;5;28;01mraise\u001b[39;00m \u001b[38;5;167;01mValueError\u001b[39;00m(\n\u001b[1;32m    567\u001b[0m     \u001b[38;5;124mf\u001b[39m\u001b[38;5;124m\"\u001b[39m\u001b[38;5;124mUnrecognized configuration class \u001b[39m\u001b[38;5;132;01m{\u001b[39;00mconfig\u001b[38;5;241m.\u001b[39m\u001b[38;5;18m__class__\u001b[39m\u001b[38;5;132;01m}\u001b[39;00m\u001b[38;5;124m for this kind of AutoModel: \u001b[39m\u001b[38;5;132;01m{\u001b[39;00m\u001b[38;5;28mcls\u001b[39m\u001b[38;5;241m.\u001b[39m\u001b[38;5;18m__name__\u001b[39m\u001b[38;5;132;01m}\u001b[39;00m\u001b[38;5;124m.\u001b[39m\u001b[38;5;130;01m\\n\u001b[39;00m\u001b[38;5;124m\"\u001b[39m\n\u001b[1;32m    568\u001b[0m     \u001b[38;5;124mf\u001b[39m\u001b[38;5;124m\"\u001b[39m\u001b[38;5;124mModel type should be one of \u001b[39m\u001b[38;5;132;01m{\u001b[39;00m\u001b[38;5;124m'\u001b[39m\u001b[38;5;124m, \u001b[39m\u001b[38;5;124m'\u001b[39m\u001b[38;5;241m.\u001b[39mjoin(c\u001b[38;5;241m.\u001b[39m\u001b[38;5;18m__name__\u001b[39m\u001b[38;5;250m \u001b[39m\u001b[38;5;28;01mfor\u001b[39;00m\u001b[38;5;250m \u001b[39mc\u001b[38;5;250m \u001b[39m\u001b[38;5;129;01min\u001b[39;00m\u001b[38;5;250m \u001b[39m\u001b[38;5;28mcls\u001b[39m\u001b[38;5;241m.\u001b[39m_model_mapping\u001b[38;5;241m.\u001b[39mkeys())\u001b[38;5;132;01m}\u001b[39;00m\u001b[38;5;124m.\u001b[39m\u001b[38;5;124m\"\u001b[39m\n\u001b[1;32m    569\u001b[0m )\n",
      "File \u001b[0;32m/opt/conda/envs/unsloth_env/lib/python3.10/site-packages/transformers/modeling_utils.py:3677\u001b[0m, in \u001b[0;36mPreTrainedModel.from_pretrained\u001b[0;34m(cls, pretrained_model_name_or_path, config, cache_dir, ignore_mismatched_sizes, force_download, local_files_only, token, revision, use_safetensors, *model_args, **kwargs)\u001b[0m\n\u001b[1;32m   3668\u001b[0m     \u001b[38;5;28;01mif\u001b[39;00m dtype_orig \u001b[38;5;129;01mis\u001b[39;00m \u001b[38;5;129;01mnot\u001b[39;00m \u001b[38;5;28;01mNone\u001b[39;00m:\n\u001b[1;32m   3669\u001b[0m         torch\u001b[38;5;241m.\u001b[39mset_default_dtype(dtype_orig)\n\u001b[1;32m   3670\u001b[0m     (\n\u001b[1;32m   3671\u001b[0m         model,\n\u001b[1;32m   3672\u001b[0m         missing_keys,\n\u001b[1;32m   3673\u001b[0m         unexpected_keys,\n\u001b[1;32m   3674\u001b[0m         mismatched_keys,\n\u001b[1;32m   3675\u001b[0m         offload_index,\n\u001b[1;32m   3676\u001b[0m         error_msgs,\n\u001b[0;32m-> 3677\u001b[0m     ) \u001b[38;5;241m=\u001b[39m \u001b[38;5;28;43mcls\u001b[39;49m\u001b[38;5;241;43m.\u001b[39;49m\u001b[43m_load_pretrained_model\u001b[49m\u001b[43m(\u001b[49m\n\u001b[1;32m   3678\u001b[0m \u001b[43m        \u001b[49m\u001b[43mmodel\u001b[49m\u001b[43m,\u001b[49m\n\u001b[1;32m   3679\u001b[0m \u001b[43m        \u001b[49m\u001b[43mstate_dict\u001b[49m\u001b[43m,\u001b[49m\n\u001b[1;32m   3680\u001b[0m \u001b[43m        \u001b[49m\u001b[43mloaded_state_dict_keys\u001b[49m\u001b[43m,\u001b[49m\u001b[43m  \u001b[49m\u001b[38;5;66;43;03m# XXX: rename?\u001b[39;49;00m\n\u001b[1;32m   3681\u001b[0m \u001b[43m        \u001b[49m\u001b[43mresolved_archive_file\u001b[49m\u001b[43m,\u001b[49m\n\u001b[1;32m   3682\u001b[0m \u001b[43m        \u001b[49m\u001b[43mpretrained_model_name_or_path\u001b[49m\u001b[43m,\u001b[49m\n\u001b[1;32m   3683\u001b[0m \u001b[43m        \u001b[49m\u001b[43mignore_mismatched_sizes\u001b[49m\u001b[38;5;241;43m=\u001b[39;49m\u001b[43mignore_mismatched_sizes\u001b[49m\u001b[43m,\u001b[49m\n\u001b[1;32m   3684\u001b[0m \u001b[43m        \u001b[49m\u001b[43msharded_metadata\u001b[49m\u001b[38;5;241;43m=\u001b[39;49m\u001b[43msharded_metadata\u001b[49m\u001b[43m,\u001b[49m\n\u001b[1;32m   3685\u001b[0m \u001b[43m        \u001b[49m\u001b[43m_fast_init\u001b[49m\u001b[38;5;241;43m=\u001b[39;49m\u001b[43m_fast_init\u001b[49m\u001b[43m,\u001b[49m\n\u001b[1;32m   3686\u001b[0m \u001b[43m        \u001b[49m\u001b[43mlow_cpu_mem_usage\u001b[49m\u001b[38;5;241;43m=\u001b[39;49m\u001b[43mlow_cpu_mem_usage\u001b[49m\u001b[43m,\u001b[49m\n\u001b[1;32m   3687\u001b[0m \u001b[43m        \u001b[49m\u001b[43mdevice_map\u001b[49m\u001b[38;5;241;43m=\u001b[39;49m\u001b[43mdevice_map\u001b[49m\u001b[43m,\u001b[49m\n\u001b[1;32m   3688\u001b[0m \u001b[43m        \u001b[49m\u001b[43moffload_folder\u001b[49m\u001b[38;5;241;43m=\u001b[39;49m\u001b[43moffload_folder\u001b[49m\u001b[43m,\u001b[49m\n\u001b[1;32m   3689\u001b[0m \u001b[43m        \u001b[49m\u001b[43moffload_state_dict\u001b[49m\u001b[38;5;241;43m=\u001b[39;49m\u001b[43moffload_state_dict\u001b[49m\u001b[43m,\u001b[49m\n\u001b[1;32m   3690\u001b[0m \u001b[43m        \u001b[49m\u001b[43mdtype\u001b[49m\u001b[38;5;241;43m=\u001b[39;49m\u001b[43mtorch_dtype\u001b[49m\u001b[43m,\u001b[49m\n\u001b[1;32m   3691\u001b[0m \u001b[43m        \u001b[49m\u001b[43mhf_quantizer\u001b[49m\u001b[38;5;241;43m=\u001b[39;49m\u001b[43mhf_quantizer\u001b[49m\u001b[43m,\u001b[49m\n\u001b[1;32m   3692\u001b[0m \u001b[43m        \u001b[49m\u001b[43mkeep_in_fp32_modules\u001b[49m\u001b[38;5;241;43m=\u001b[39;49m\u001b[43mkeep_in_fp32_modules\u001b[49m\u001b[43m,\u001b[49m\n\u001b[1;32m   3693\u001b[0m \u001b[43m    \u001b[49m\u001b[43m)\u001b[49m\n\u001b[1;32m   3695\u001b[0m \u001b[38;5;66;03m# make sure token embedding weights are still tied if needed\u001b[39;00m\n\u001b[1;32m   3696\u001b[0m model\u001b[38;5;241m.\u001b[39mtie_weights()\n",
      "File \u001b[0;32m/opt/conda/envs/unsloth_env/lib/python3.10/site-packages/transformers/modeling_utils.py:4104\u001b[0m, in \u001b[0;36mPreTrainedModel._load_pretrained_model\u001b[0;34m(cls, model, state_dict, loaded_keys, resolved_archive_file, pretrained_model_name_or_path, ignore_mismatched_sizes, sharded_metadata, _fast_init, low_cpu_mem_usage, device_map, offload_folder, offload_state_dict, dtype, hf_quantizer, keep_in_fp32_modules)\u001b[0m\n\u001b[1;32m   4100\u001b[0m                 set_module_tensor_to_device(\n\u001b[1;32m   4101\u001b[0m                     model_to_load, key, \u001b[38;5;124m\"\u001b[39m\u001b[38;5;124mcpu\u001b[39m\u001b[38;5;124m\"\u001b[39m, torch\u001b[38;5;241m.\u001b[39mempty(\u001b[38;5;241m*\u001b[39mparam\u001b[38;5;241m.\u001b[39msize(), dtype\u001b[38;5;241m=\u001b[39mdtype)\n\u001b[1;32m   4102\u001b[0m                 )\n\u001b[1;32m   4103\u001b[0m     \u001b[38;5;28;01melse\u001b[39;00m:\n\u001b[0;32m-> 4104\u001b[0m         new_error_msgs, offload_index, state_dict_index \u001b[38;5;241m=\u001b[39m \u001b[43m_load_state_dict_into_meta_model\u001b[49m\u001b[43m(\u001b[49m\n\u001b[1;32m   4105\u001b[0m \u001b[43m            \u001b[49m\u001b[43mmodel_to_load\u001b[49m\u001b[43m,\u001b[49m\n\u001b[1;32m   4106\u001b[0m \u001b[43m            \u001b[49m\u001b[43mstate_dict\u001b[49m\u001b[43m,\u001b[49m\n\u001b[1;32m   4107\u001b[0m \u001b[43m            \u001b[49m\u001b[43mloaded_keys\u001b[49m\u001b[43m,\u001b[49m\n\u001b[1;32m   4108\u001b[0m \u001b[43m            \u001b[49m\u001b[43mstart_prefix\u001b[49m\u001b[43m,\u001b[49m\n\u001b[1;32m   4109\u001b[0m \u001b[43m            \u001b[49m\u001b[43mexpected_keys\u001b[49m\u001b[43m,\u001b[49m\n\u001b[1;32m   4110\u001b[0m \u001b[43m            \u001b[49m\u001b[43mdevice_map\u001b[49m\u001b[38;5;241;43m=\u001b[39;49m\u001b[43mdevice_map\u001b[49m\u001b[43m,\u001b[49m\n\u001b[1;32m   4111\u001b[0m \u001b[43m            \u001b[49m\u001b[43moffload_folder\u001b[49m\u001b[38;5;241;43m=\u001b[39;49m\u001b[43moffload_folder\u001b[49m\u001b[43m,\u001b[49m\n\u001b[1;32m   4112\u001b[0m \u001b[43m            \u001b[49m\u001b[43moffload_index\u001b[49m\u001b[38;5;241;43m=\u001b[39;49m\u001b[43moffload_index\u001b[49m\u001b[43m,\u001b[49m\n\u001b[1;32m   4113\u001b[0m \u001b[43m            \u001b[49m\u001b[43mstate_dict_folder\u001b[49m\u001b[38;5;241;43m=\u001b[39;49m\u001b[43mstate_dict_folder\u001b[49m\u001b[43m,\u001b[49m\n\u001b[1;32m   4114\u001b[0m \u001b[43m            \u001b[49m\u001b[43mstate_dict_index\u001b[49m\u001b[38;5;241;43m=\u001b[39;49m\u001b[43mstate_dict_index\u001b[49m\u001b[43m,\u001b[49m\n\u001b[1;32m   4115\u001b[0m \u001b[43m            \u001b[49m\u001b[43mdtype\u001b[49m\u001b[38;5;241;43m=\u001b[39;49m\u001b[43mdtype\u001b[49m\u001b[43m,\u001b[49m\n\u001b[1;32m   4116\u001b[0m \u001b[43m            \u001b[49m\u001b[43mhf_quantizer\u001b[49m\u001b[38;5;241;43m=\u001b[39;49m\u001b[43mhf_quantizer\u001b[49m\u001b[43m,\u001b[49m\n\u001b[1;32m   4117\u001b[0m \u001b[43m            \u001b[49m\u001b[43mis_safetensors\u001b[49m\u001b[38;5;241;43m=\u001b[39;49m\u001b[43mis_safetensors\u001b[49m\u001b[43m,\u001b[49m\n\u001b[1;32m   4118\u001b[0m \u001b[43m            \u001b[49m\u001b[43mkeep_in_fp32_modules\u001b[49m\u001b[38;5;241;43m=\u001b[39;49m\u001b[43mkeep_in_fp32_modules\u001b[49m\u001b[43m,\u001b[49m\n\u001b[1;32m   4119\u001b[0m \u001b[43m            \u001b[49m\u001b[43munexpected_keys\u001b[49m\u001b[38;5;241;43m=\u001b[39;49m\u001b[43munexpected_keys\u001b[49m\u001b[43m,\u001b[49m\n\u001b[1;32m   4120\u001b[0m \u001b[43m        \u001b[49m\u001b[43m)\u001b[49m\n\u001b[1;32m   4121\u001b[0m         error_msgs \u001b[38;5;241m+\u001b[39m\u001b[38;5;241m=\u001b[39m new_error_msgs\n\u001b[1;32m   4122\u001b[0m \u001b[38;5;28;01melse\u001b[39;00m:\n",
      "File \u001b[0;32m/opt/conda/envs/unsloth_env/lib/python3.10/site-packages/transformers/modeling_utils.py:888\u001b[0m, in \u001b[0;36m_load_state_dict_into_meta_model\u001b[0;34m(model, state_dict, loaded_state_dict_keys, start_prefix, expected_keys, device_map, offload_folder, offload_index, state_dict_folder, state_dict_index, dtype, hf_quantizer, is_safetensors, keep_in_fp32_modules, unexpected_keys)\u001b[0m\n\u001b[1;32m    886\u001b[0m     set_module_tensor_to_device(model, param_name, param_device, \u001b[38;5;241m*\u001b[39m\u001b[38;5;241m*\u001b[39mset_module_kwargs)\n\u001b[1;32m    887\u001b[0m \u001b[38;5;28;01melse\u001b[39;00m:\n\u001b[0;32m--> 888\u001b[0m     \u001b[43mhf_quantizer\u001b[49m\u001b[38;5;241;43m.\u001b[39;49m\u001b[43mcreate_quantized_param\u001b[49m\u001b[43m(\u001b[49m\u001b[43mmodel\u001b[49m\u001b[43m,\u001b[49m\u001b[43m \u001b[49m\u001b[43mparam\u001b[49m\u001b[43m,\u001b[49m\u001b[43m \u001b[49m\u001b[43mparam_name\u001b[49m\u001b[43m,\u001b[49m\u001b[43m \u001b[49m\u001b[43mparam_device\u001b[49m\u001b[43m,\u001b[49m\u001b[43m \u001b[49m\u001b[43mstate_dict\u001b[49m\u001b[43m,\u001b[49m\u001b[43m \u001b[49m\u001b[43munexpected_keys\u001b[49m\u001b[43m)\u001b[49m\n\u001b[1;32m    889\u001b[0m     \u001b[38;5;66;03m# For quantized modules with FSDP/DeepSpeed Stage 3, we need to quantize the parameter on the GPU\u001b[39;00m\n\u001b[1;32m    890\u001b[0m     \u001b[38;5;66;03m# and then cast it to CPU to avoid excessive memory usage on each GPU\u001b[39;00m\n\u001b[1;32m    891\u001b[0m     \u001b[38;5;66;03m# in comparison to the sharded model across GPUs.\u001b[39;00m\n\u001b[1;32m    892\u001b[0m     \u001b[38;5;28;01mif\u001b[39;00m is_fsdp_enabled() \u001b[38;5;129;01mor\u001b[39;00m is_deepspeed_zero3_enabled():\n",
      "File \u001b[0;32m/opt/conda/envs/unsloth_env/lib/python3.10/site-packages/transformers/quantizers/quantizer_bnb_4bit.py:219\u001b[0m, in \u001b[0;36mBnb4BitHfQuantizer.create_quantized_param\u001b[0;34m(self, model, param_value, param_name, target_device, state_dict, unexpected_keys)\u001b[0m\n\u001b[1;32m    216\u001b[0m         new_value \u001b[38;5;241m=\u001b[39m new_value\u001b[38;5;241m.\u001b[39mT\n\u001b[1;32m    218\u001b[0m     kwargs \u001b[38;5;241m=\u001b[39m old_value\u001b[38;5;241m.\u001b[39m\u001b[38;5;18m__dict__\u001b[39m\n\u001b[0;32m--> 219\u001b[0m     new_value \u001b[38;5;241m=\u001b[39m \u001b[43mbnb\u001b[49m\u001b[38;5;241;43m.\u001b[39;49m\u001b[43mnn\u001b[49m\u001b[38;5;241;43m.\u001b[39;49m\u001b[43mParams4bit\u001b[49m\u001b[43m(\u001b[49m\u001b[43mnew_value\u001b[49m\u001b[43m,\u001b[49m\u001b[43m \u001b[49m\u001b[43mrequires_grad\u001b[49m\u001b[38;5;241;43m=\u001b[39;49m\u001b[38;5;28;43;01mFalse\u001b[39;49;00m\u001b[43m,\u001b[49m\u001b[43m \u001b[49m\u001b[38;5;241;43m*\u001b[39;49m\u001b[38;5;241;43m*\u001b[39;49m\u001b[43mkwargs\u001b[49m\u001b[43m)\u001b[49m\u001b[38;5;241;43m.\u001b[39;49m\u001b[43mto\u001b[49m\u001b[43m(\u001b[49m\u001b[43mtarget_device\u001b[49m\u001b[43m)\u001b[49m\n\u001b[1;32m    221\u001b[0m module\u001b[38;5;241m.\u001b[39m_parameters[tensor_name] \u001b[38;5;241m=\u001b[39m new_value\n",
      "File \u001b[0;32m/opt/conda/envs/unsloth_env/lib/python3.10/site-packages/bitsandbytes/nn/modules.py:324\u001b[0m, in \u001b[0;36mParams4bit.to\u001b[0;34m(self, *args, **kwargs)\u001b[0m\n\u001b[1;32m    321\u001b[0m device, dtype, non_blocking, convert_to_format \u001b[38;5;241m=\u001b[39m torch\u001b[38;5;241m.\u001b[39m_C\u001b[38;5;241m.\u001b[39m_nn\u001b[38;5;241m.\u001b[39m_parse_to(\u001b[38;5;241m*\u001b[39margs, \u001b[38;5;241m*\u001b[39m\u001b[38;5;241m*\u001b[39mkwargs)\n\u001b[1;32m    323\u001b[0m \u001b[38;5;28;01mif\u001b[39;00m device \u001b[38;5;129;01mis\u001b[39;00m \u001b[38;5;129;01mnot\u001b[39;00m \u001b[38;5;28;01mNone\u001b[39;00m \u001b[38;5;129;01mand\u001b[39;00m device\u001b[38;5;241m.\u001b[39mtype \u001b[38;5;241m==\u001b[39m \u001b[38;5;124m\"\u001b[39m\u001b[38;5;124mcuda\u001b[39m\u001b[38;5;124m\"\u001b[39m \u001b[38;5;129;01mand\u001b[39;00m \u001b[38;5;129;01mnot\u001b[39;00m \u001b[38;5;28mself\u001b[39m\u001b[38;5;241m.\u001b[39mbnb_quantized:\n\u001b[0;32m--> 324\u001b[0m     \u001b[38;5;28;01mreturn\u001b[39;00m \u001b[38;5;28;43mself\u001b[39;49m\u001b[38;5;241;43m.\u001b[39;49m\u001b[43m_quantize\u001b[49m\u001b[43m(\u001b[49m\u001b[43mdevice\u001b[49m\u001b[43m)\u001b[49m\n\u001b[1;32m    325\u001b[0m \u001b[38;5;28;01melse\u001b[39;00m:\n\u001b[1;32m    326\u001b[0m     \u001b[38;5;28;01mif\u001b[39;00m \u001b[38;5;28mself\u001b[39m\u001b[38;5;241m.\u001b[39mquant_state \u001b[38;5;129;01mis\u001b[39;00m \u001b[38;5;129;01mnot\u001b[39;00m \u001b[38;5;28;01mNone\u001b[39;00m:\n",
      "File \u001b[0;32m/opt/conda/envs/unsloth_env/lib/python3.10/site-packages/bitsandbytes/nn/modules.py:288\u001b[0m, in \u001b[0;36mParams4bit._quantize\u001b[0;34m(self, device)\u001b[0m\n\u001b[1;32m    287\u001b[0m \u001b[38;5;28;01mdef\u001b[39;00m \u001b[38;5;21m_quantize\u001b[39m(\u001b[38;5;28mself\u001b[39m, device):\n\u001b[0;32m--> 288\u001b[0m     w \u001b[38;5;241m=\u001b[39m \u001b[38;5;28;43mself\u001b[39;49m\u001b[38;5;241;43m.\u001b[39;49m\u001b[43mdata\u001b[49m\u001b[38;5;241;43m.\u001b[39;49m\u001b[43mcontiguous\u001b[49m\u001b[43m(\u001b[49m\u001b[43m)\u001b[49m\u001b[38;5;241;43m.\u001b[39;49m\u001b[43mcuda\u001b[49m\u001b[43m(\u001b[49m\u001b[43mdevice\u001b[49m\u001b[43m)\u001b[49m\n\u001b[1;32m    289\u001b[0m     w_4bit, quant_state \u001b[38;5;241m=\u001b[39m bnb\u001b[38;5;241m.\u001b[39mfunctional\u001b[38;5;241m.\u001b[39mquantize_4bit(\n\u001b[1;32m    290\u001b[0m         w,\n\u001b[1;32m    291\u001b[0m         blocksize\u001b[38;5;241m=\u001b[39m\u001b[38;5;28mself\u001b[39m\u001b[38;5;241m.\u001b[39mblocksize,\n\u001b[0;32m   (...)\u001b[0m\n\u001b[1;32m    294\u001b[0m         quant_storage\u001b[38;5;241m=\u001b[39m\u001b[38;5;28mself\u001b[39m\u001b[38;5;241m.\u001b[39mquant_storage,\n\u001b[1;32m    295\u001b[0m     )\n\u001b[1;32m    296\u001b[0m     \u001b[38;5;28mself\u001b[39m\u001b[38;5;241m.\u001b[39mdata \u001b[38;5;241m=\u001b[39m w_4bit\n",
      "\u001b[0;31mKeyboardInterrupt\u001b[0m: "
     ]
    }
   ],
   "source": [
    "import json\n",
    "from datetime import datetime\n",
    "\n",
    "import torch\n",
    "from datasets import load_from_disk\n",
    "from unsloth import FastLanguageModel\n",
    "\n",
    "hyper_params = {\n",
    "    # Model hyperparameters\n",
    "    \"max_seq_length\": 4096, # 8192 | Choose any! We auto support RoPE Scaling internally!\n",
    "    \"dtype\": None, # None for auto detection. Float16 for Tesla T4, V100, Bfloat16 for Ampere+\n",
    "    \"load_in_4bit\": True, # Use 4bit quantization to reduce memory usage. Can be False.,\n",
    "    # \"model_name\": \"unsloth/gemma-2b-it-bnb-4bit\",\n",
    "    \"model_name\": \"outputs/model_05152024_105402_merged_16bit\",\n",
    "    \"r\": 8, # Choose any number > 0 ! Suggested 8, 16, 32, 64, 128,\n",
    "    \"target_modules\": [\"q_proj\", \"k_proj\", \"v_proj\", \"o_proj\",\n",
    "                      \"gate_proj\", \"up_proj\", \"down_proj\",], # Add more to target more modules\n",
    "    \"lora_alpha\": 16,\n",
    "    \"lora_dropout\": 0, # Supports any, but = 0 is optimized\n",
    "    \"lora_bias\": \"none\", # Supports any, but = \"none\" is optimized\n",
    "    \"lora_use_gradient_checkpointing\": \"unsloth\", # True or \"unsloth\" for very long context\n",
    "    \"lora_random_state\": 3407,\n",
    "    \"lora_use_rslora\": False, # We support rank stabilized LoRA\n",
    "    \"lora_loftq_config\": None, # And LoftQ\n",
    "    # Training hyperparameters\n",
    "    \"dataset_train_path\": \"./data/gemma_chat_train_no_user_intention_fixed_empty_string_filter\",\n",
    "    \"dataset_eval_path\": \"./data/gemma_chat_eval_no_user_intention_fixed_empty_string_filter\",\n",
    "    \"per_device_train_batch_size\": 2,\n",
    "    \"gradient_accumulation_steps\": 1,\n",
    "    \"warmup_steps\": 25, # will replace num_warmup_steps in lr_scheduler_kwargs\n",
    "    \"num_train_epochs\": 1,\n",
    "    \"learning_rate\": 2e-4,\n",
    "    \"fp16\": not torch.cuda.is_bf16_supported(),\n",
    "    \"bf16\": torch.cuda.is_bf16_supported(),\n",
    "    \"logging_steps\": 1,\n",
    "    \"optim\": \"adamw_8bit\",\n",
    "    \"weight_decay\": 0.01,\n",
    "    \"lr_scheduler_type\": \"cosine_with_restarts\",\n",
    "    \"lr_scheduler_kwargs\": {\"num_cycles\": 3}, # \"num_warmup_steps\" and \"num_training_steps\" will be added automatically\n",
    "    \"seed\": 3407,\n",
    "}\n",
    "\n",
    "# load model and tokenizer\n",
    "model, tokenizer= FastLanguageModel.from_pretrained(\n",
    "    model_name = hyper_params[\"model_name\"], # Choose ANY! eg teknium/OpenHermes-2.5-Mistral-7B\n",
    "    max_seq_length = hyper_params[\"max_seq_length\"],\n",
    "    dtype = hyper_params[\"dtype\"],\n",
    "    load_in_4bit = hyper_params[\"load_in_4bit\"],\n",
    "    )"
   ]
  },
  {
   "cell_type": "code",
   "execution_count": 13,
   "metadata": {},
   "outputs": [
    {
     "name": "stderr",
     "output_type": "stream",
     "text": [
      "Unsloth: You have 1 CPUs. Using `safe_serialization` is 10x slower.\n",
      "We shall switch to Pytorch saving, which will take 3 minutes and not 30 minutes.\n",
      "To force `safe_serialization`, set it to `None` instead.\n"
     ]
    },
    {
     "name": "stdout",
     "output_type": "stream",
     "text": [
      "Unsloth: Merging 4bit and LoRA weights to 16bit...\n",
      "Unsloth: Will use up to 5.31 out of 12.68 RAM for saving.\n"
     ]
    },
    {
     "name": "stderr",
     "output_type": "stream",
     "text": [
      "100%|██████████| 18/18 [00:00<00:00, 22.44it/s]\n"
     ]
    },
    {
     "name": "stdout",
     "output_type": "stream",
     "text": [
      "Unsloth: Saving tokenizer... Done.\n",
      "Unsloth: Saving model... This might take 5 minutes for Llama-7b...\n",
      "Unsloth: Saving outputs/model_05152024_105402_merged_16bit/pytorch_model-00001-of-00002.bin...\n",
      "Unsloth: Saving outputs/model_05152024_105402_merged_16bit/pytorch_model-00002-of-00002.bin...\n",
      "Done.\n"
     ]
    }
   ],
   "source": [
    "# model.save_pretrained_merged(hyper_params[\"model_name\"] + \"_merged_16bit\", tokenizer, save_method = \"merged_16bit\",)"
   ]
  },
  {
   "cell_type": "code",
   "execution_count": 3,
   "metadata": {},
   "outputs": [
    {
     "name": "stdout",
     "output_type": "stream",
     "text": [
      "GemmaForCausalLM(\n",
      "  (model): GemmaModel(\n",
      "    (embed_tokens): Embedding(256000, 2048)\n",
      "    (layers): ModuleList(\n",
      "      (0-17): 18 x GemmaDecoderLayer(\n",
      "        (self_attn): GemmaSdpaAttention(\n",
      "          (q_proj): Linear4bit(in_features=2048, out_features=2048, bias=False)\n",
      "          (k_proj): Linear4bit(in_features=2048, out_features=256, bias=False)\n",
      "          (v_proj): Linear4bit(in_features=2048, out_features=256, bias=False)\n",
      "          (o_proj): Linear4bit(in_features=2048, out_features=2048, bias=False)\n",
      "          (rotary_emb): GemmaFixedRotaryEmbedding()\n",
      "        )\n",
      "        (mlp): GemmaMLP(\n",
      "          (gate_proj): Linear4bit(in_features=2048, out_features=16384, bias=False)\n",
      "          (up_proj): Linear4bit(in_features=2048, out_features=16384, bias=False)\n",
      "          (down_proj): Linear4bit(in_features=16384, out_features=2048, bias=False)\n",
      "          (act_fn): PytorchGELUTanh()\n",
      "        )\n",
      "        (input_layernorm): GemmaRMSNorm()\n",
      "        (post_attention_layernorm): GemmaRMSNorm()\n",
      "      )\n",
      "    )\n",
      "    (norm): GemmaRMSNorm()\n",
      "  )\n",
      "  (lm_head): Linear(in_features=2048, out_features=256000, bias=False)\n",
      ")\n"
     ]
    }
   ],
   "source": [
    "# # show the module architecture of the model\n",
    "# for name, module in model.named_children():\n",
    "#     print(f\"\\t{name}\")\n",
    "#     if isinstance(module, torch.nn.Module):\n",
    "#         print(f\"\\t\\t{module}\")\n",
    "\n",
    "print(model)"
   ]
  },
  {
   "cell_type": "code",
   "execution_count": 6,
   "metadata": {},
   "outputs": [
    {
     "data": {
      "text/plain": [
       "(Linear(in_features=2048, out_features=256000, bias=False),\n",
       " torch.Size([256000, 2048]),\n",
       " Parameter containing:\n",
       " tensor([[ 5.2344e-01, -3.5889e-02,  5.9814e-02,  ...,  7.7637e-02,\n",
       "           2.3535e-01,  3.8330e-02],\n",
       "         [ 1.5137e-01, -1.4453e-01, -1.1719e-01,  ..., -1.9409e-02,\n",
       "           4.9133e-03, -2.0508e-02],\n",
       "         [ 1.0352e-01,  5.0354e-03, -3.2715e-02,  ..., -1.7334e-02,\n",
       "          -8.9111e-03, -1.0254e-02],\n",
       "         ...,\n",
       "         [ 2.7344e-01,  1.2390e-02,  4.2236e-02,  ..., -4.8584e-02,\n",
       "           1.9165e-02, -3.0151e-02],\n",
       "         [ 2.9102e-01, -6.4453e-02,  6.2012e-02,  ..., -1.9653e-02,\n",
       "           7.1289e-02, -1.6689e-04],\n",
       "         [ 5.2344e-01, -3.5156e-02,  6.0791e-02,  ...,  7.6172e-02,\n",
       "           2.3828e-01,  3.9795e-02]], device='cuda:0', dtype=torch.float16))"
      ]
     },
     "execution_count": 6,
     "metadata": {},
     "output_type": "execute_result"
    }
   ],
   "source": [
    "model.lm_head, model.lm_head.weight.shape, model.lm_head.weight"
   ]
  },
  {
   "cell_type": "code",
   "execution_count": 7,
   "metadata": {},
   "outputs": [
    {
     "name": "stdout",
     "output_type": "stream",
     "text": [
      "tensor([-19.2300,  30.1120])\n",
      "tensor([-0.0000, 30.1120])\n"
     ]
    }
   ],
   "source": [
    "import torch.nn as nn\n",
    "\n",
    "m = nn.GELU()\n",
    "input = torch.tensor([-19.23, 30.112]) # torch.randn(2)\n",
    "print(input)\n",
    "output = m(input)\n",
    "print(output)"
   ]
  },
  {
   "cell_type": "code",
   "execution_count": 4,
   "metadata": {},
   "outputs": [],
   "source": [
    "import torch\n",
    "import torch.nn as nn\n",
    "\n",
    "# Assume `model` is your pre-trained model\n",
    "# Freeze all layers\n",
    "for param in model.parameters():\n",
    "    param.requires_grad = False\n",
    "\n",
    "# Define a custom module with multi-head attention\n",
    "class MultiheadAttentionLayer(nn.Module):\n",
    "    def __init__(self, embed_dim, internal_dim, output_dim, num_heads):\n",
    "        super(MultiheadAttentionLayer, self).__init__()\n",
    "        self.input_linear = nn.Linear(embed_dim, internal_dim)\n",
    "        self.gelu_1 = nn.GELU()\n",
    "        self.multihead_attn = nn.MultiheadAttention(internal_dim, num_heads)\n",
    "        self.layer_norm = nn.LayerNorm(internal_dim)\n",
    "        # self.dropout = nn.Dropout(0.1)\n",
    "        self.output_linear = nn.Linear(internal_dim, output_dim)\n",
    "        # self.gelu = nn.GELU()\n",
    "        # self.out_proj = nn.Linear(internal_dim, output_dim)\n",
    "\n",
    "    def forward(self, x):\n",
    "        # Assuming `x` shape is (seq_len, batch_size, embed_dim)\n",
    "        x = self.input_linear(x)\n",
    "        x = self.gelu_1(x)\n",
    "        attn_output, _ = self.multihead_attn(x, x, x)\n",
    "        attn_output = self.layer_norm(attn_output + x)\n",
    "        # attn_output = self.dropout(attn_output)\n",
    "\n",
    "        x = self.output_linear(attn_output)\n",
    "\n",
    "        return x\n",
    "\n",
    "# Replace the last layer with the new multi-head attention layer\n",
    "embed_dim = 2048\n",
    "internal_dim = 1024\n",
    "output_dim = 768\n",
    "num_heads = 4  # Choose the number of attention heads\n",
    "model.lm_head = MultiheadAttentionLayer(embed_dim, internal_dim, output_dim, num_heads).to(model.device)\n",
    "\n",
    "# Ensure the new layer's parameters are trainable\n",
    "for param in model.lm_head.parameters():\n",
    "    param.requires_grad = True"
   ]
  },
  {
   "cell_type": "code",
   "execution_count": 8,
   "metadata": {},
   "outputs": [
    {
     "name": "stdout",
     "output_type": "stream",
     "text": [
      "GemmaForCausalLM(\n",
      "  (model): GemmaModel(\n",
      "    (embed_tokens): Embedding(256000, 2048)\n",
      "    (layers): ModuleList(\n",
      "      (0-17): 18 x GemmaDecoderLayer(\n",
      "        (self_attn): GemmaSdpaAttention(\n",
      "          (q_proj): Linear4bit(in_features=2048, out_features=2048, bias=False)\n",
      "          (k_proj): Linear4bit(in_features=2048, out_features=256, bias=False)\n",
      "          (v_proj): Linear4bit(in_features=2048, out_features=256, bias=False)\n",
      "          (o_proj): Linear4bit(in_features=2048, out_features=2048, bias=False)\n",
      "          (rotary_emb): GemmaFixedRotaryEmbedding()\n",
      "        )\n",
      "        (mlp): GemmaMLP(\n",
      "          (gate_proj): Linear4bit(in_features=2048, out_features=16384, bias=False)\n",
      "          (up_proj): Linear4bit(in_features=2048, out_features=16384, bias=False)\n",
      "          (down_proj): Linear4bit(in_features=16384, out_features=2048, bias=False)\n",
      "          (act_fn): PytorchGELUTanh()\n",
      "        )\n",
      "        (input_layernorm): GemmaRMSNorm()\n",
      "        (post_attention_layernorm): GemmaRMSNorm()\n",
      "      )\n",
      "    )\n",
      "    (norm): GemmaRMSNorm()\n",
      "  )\n",
      "  (lm_head): MultiheadAttentionLayer(\n",
      "    (input_linear): Linear(in_features=2048, out_features=1024, bias=True)\n",
      "    (gelu_1): GELU(approximate='none')\n",
      "    (multihead_attn): MultiheadAttention(\n",
      "      (out_proj): NonDynamicallyQuantizableLinear(in_features=1024, out_features=1024, bias=True)\n",
      "    )\n",
      "    (layer_norm): LayerNorm((1024,), eps=1e-05, elementwise_affine=True)\n",
      "    (output_linear): Linear(in_features=1024, out_features=768, bias=True)\n",
      "  )\n",
      ")\n"
     ]
    }
   ],
   "source": [
    "print(model)"
   ]
  },
  {
   "cell_type": "code",
   "execution_count": 10,
   "metadata": {},
   "outputs": [
    {
     "name": "stdout",
     "output_type": "stream",
     "text": [
      "Number of parameters in model.lm_head: 7085824\n"
     ]
    }
   ],
   "source": [
    "# print the number of parameters in model.lm_head\n",
    "num_params = sum(p.numel() for p in model.lm_head.parameters() if p.requires_grad)\n",
    "print(f\"Number of parameters in model.lm_head: {num_params}\")"
   ]
  },
  {
   "cell_type": "code",
   "execution_count": 12,
   "metadata": {},
   "outputs": [
    {
     "name": "stdout",
     "output_type": "stream",
     "text": [
      "tensor([[-1.1057, -0.2571, -0.6835,  ..., -1.1805,  1.4068,  1.0781]])\n",
      "tensor([[-0.2257, -0.7159, -0.7171,  0.3380,  0.4444, -0.3840,  0.1416,  0.0544,\n",
      "          0.8069, -0.4938,  0.2883, -0.2839, -0.4109, -0.8511, -0.0978,  0.3157,\n",
      "          0.3382, -0.9609, -0.8699,  0.1617, -0.2181, -0.1606, -0.2288, -0.1658,\n",
      "          0.5440,  0.2459, -0.9145, -0.6430, -0.4613,  0.9462,  0.5039, -0.6728,\n",
      "         -0.6619, -0.7505, -0.8355,  0.3612,  2.1938,  0.0500,  0.5779, -0.0472,\n",
      "         -0.0569,  0.3049,  0.5880,  0.1264, -0.1595, -0.2607,  0.9232,  0.3850,\n",
      "         -0.8146, -0.5146, -0.3933,  0.1463, -0.8668,  0.3277, -0.2041, -0.3501,\n",
      "         -0.6403, -0.0488, -0.7264, -0.7082,  0.2314, -1.2016,  0.4688, -0.0143,\n",
      "         -0.5662,  0.7314, -0.1330, -0.4407, -0.1094,  0.7634, -0.7521,  0.3928,\n",
      "         -0.3549,  0.5357,  0.0950, -1.0400,  1.1954, -0.1535, -0.8553, -0.5710,\n",
      "          1.2467, -0.4057, -0.2622,  0.2144, -0.0414, -1.4617,  0.4950, -0.6434,\n",
      "         -0.5937,  1.6970, -0.1899, -0.5188,  0.0471, -0.3217, -0.2310, -0.2148,\n",
      "          0.3131,  0.4611,  0.7411,  0.4632, -0.2983,  0.6026, -1.5798, -0.4181,\n",
      "         -0.3035,  0.3694, -0.0941,  0.5314,  0.8223, -0.0265, -0.8167,  0.6785,\n",
      "         -0.3417,  0.0721,  0.4715, -0.0372,  0.1512,  0.7748,  0.0824, -0.3636,\n",
      "          0.4827, -0.5670,  0.1850,  0.7201, -0.0369, -1.3075,  0.2864,  0.8815,\n",
      "          1.0284,  0.6208,  0.6418,  0.4242, -0.9146,  0.2398, -0.2614,  0.3609,\n",
      "          0.0537,  0.2219, -0.6329,  0.5132, -0.1951, -0.7178,  0.5360,  1.3470,\n",
      "         -0.6456,  0.0914, -0.8594, -0.3677,  0.6496, -1.2202,  0.5546, -0.6888,\n",
      "          0.0315,  1.2129,  0.4072, -0.2290, -0.7490, -0.1304, -0.6187,  0.0441,\n",
      "          0.6402, -0.0188,  0.1024,  0.5245,  0.4798,  0.3971,  0.4757, -0.2869,\n",
      "         -0.4186, -0.4656, -1.0271,  1.1267,  0.0210,  0.0377,  0.1258,  0.2176,\n",
      "          0.0302, -0.3047, -0.2919, -0.5084,  0.1610, -0.2942,  0.4904, -0.6092,\n",
      "          0.3057,  0.2155,  0.4387, -0.7329,  0.0882,  0.7452,  0.4967, -0.5022,\n",
      "         -0.2649,  0.0703,  0.0632,  1.0223,  0.2910,  0.7051, -1.4088, -0.0230,\n",
      "          0.0219, -0.0497,  0.1858, -0.5295, -0.2750,  0.1897,  0.6746, -0.1307,\n",
      "          0.1966, -0.3863, -0.7354,  0.2620,  0.1862,  0.3178,  0.1476, -0.4720,\n",
      "         -1.4637,  0.3506, -0.1058, -0.2350, -0.0474, -0.0034,  0.0716, -0.7431,\n",
      "          0.4834, -0.0163,  0.3677, -2.1133, -0.0025,  0.5411,  0.2028,  1.1653,\n",
      "          0.3135, -0.5760,  0.2176,  0.9068, -0.6288, -0.4028,  0.1958,  0.1436,\n",
      "          0.2357,  0.0315, -0.0054, -1.3195, -0.5488, -0.7409, -0.1740, -0.7522,\n",
      "          0.4365,  1.0951, -0.3895, -0.5122, -0.7795,  0.7406, -0.0691,  0.0460,\n",
      "          1.2864,  0.5946,  0.0138, -0.0704,  0.3197, -0.1057,  0.1403,  0.6148,\n",
      "          0.3936,  0.2402,  1.2799, -0.9167,  0.6841,  0.0699,  0.8750,  0.4569,\n",
      "          1.0234, -0.1109,  0.0077, -0.0776, -0.1744, -0.6437, -0.6699,  0.2083,\n",
      "          0.5628,  0.0219, -0.5791,  0.5238, -0.5624, -0.3785,  1.0288,  0.3456,\n",
      "          0.1184, -0.4287, -0.4213,  0.5296, -0.2185, -0.3683,  0.3818, -0.2256,\n",
      "          0.4891,  0.0250,  0.0769,  0.1011, -0.2451,  0.1776,  0.3664, -0.7497,\n",
      "          0.5082,  1.1798, -0.1234,  0.6717,  0.1995,  0.0888, -0.5728,  0.5024,\n",
      "          0.4766, -0.7596, -0.2189, -0.8094,  0.9321,  0.7131,  0.1937,  0.5608,\n",
      "         -0.1492,  0.1610,  0.4025,  0.5777, -0.0881, -0.0208,  0.2220,  0.2025,\n",
      "          1.0144, -0.5999, -0.4072, -0.2220,  0.2965,  0.2124,  0.0451, -0.1629,\n",
      "         -0.8229, -0.5391, -0.1935, -0.0430,  0.1278, -0.4705, -0.1628,  0.4467,\n",
      "         -1.0056, -0.4873,  0.4498, -0.1140, -1.3351,  0.7148,  0.1225,  0.6981,\n",
      "          0.0326,  0.0672,  1.1398,  0.2448,  0.1907, -0.5026,  0.9525, -0.0944,\n",
      "         -0.1605,  0.2868, -0.5593, -0.2961, -0.1688,  0.1450, -0.3987,  0.1834,\n",
      "         -1.5228,  0.3421, -0.0787, -0.0676, -0.7348, -0.1444,  0.9665,  0.1035,\n",
      "         -0.5668, -0.2577,  0.0432,  1.0803, -0.5028, -0.1123,  0.0971, -0.4596,\n",
      "          0.9089, -0.7391,  0.0061,  0.0079,  0.6442,  0.0346,  0.0600, -0.9299,\n",
      "          0.0571, -0.1006, -1.3683,  0.3360,  0.5770,  1.1719,  0.1853, -0.6048,\n",
      "         -1.0283, -1.1294, -0.4927, -0.5543, -0.1175, -0.0975, -0.2986,  0.4468,\n",
      "          0.9120, -0.3179, -0.4958,  0.5643,  0.9505, -0.3813,  0.4316,  0.7278,\n",
      "          0.5536,  0.5167, -1.6155,  0.6728, -0.4461, -0.9522, -0.1925, -0.1013,\n",
      "         -0.0651,  0.3139,  1.0893, -0.3280,  0.6616, -0.3308,  0.2863,  0.7786,\n",
      "          0.4492,  1.3529,  0.1837,  0.2360,  0.2158,  1.1273,  0.2963,  0.3202,\n",
      "          0.3145,  0.3948,  1.0657,  0.3991, -0.1552, -0.1476, -0.0181,  0.4033,\n",
      "         -0.4629, -0.0664, -0.2505, -0.5211, -0.9511, -0.3494,  0.3997, -0.1454,\n",
      "         -0.3159, -0.5387,  0.3008, -0.3075,  0.5870,  0.7408, -0.6119,  0.3014,\n",
      "         -1.2517, -0.2072,  0.0192,  0.3209, -0.1180,  0.2176, -0.4295, -0.0347,\n",
      "         -0.3148, -0.2636, -0.4062, -0.8322, -0.0874,  1.1131, -0.1752,  0.2810,\n",
      "          0.4227, -0.0623,  0.3081, -0.2287, -0.0943,  1.0351, -0.0549,  0.4444,\n",
      "          0.1858, -0.5100,  0.4750, -0.0461,  0.8220, -0.2201,  0.9487,  0.6155,\n",
      "         -0.4703,  0.8285,  0.8167,  1.7653,  0.3791, -0.5017,  0.6474,  0.3877,\n",
      "         -0.2494, -0.1349, -0.7251,  1.1345, -0.6076, -0.3554,  0.7929, -0.9697,\n",
      "          0.0158, -0.8743, -0.4811,  0.1737, -0.0819,  0.0146,  0.3765,  0.0467,\n",
      "         -0.4312,  0.3372,  0.9657,  0.1978,  0.5319,  0.2775, -0.8100, -0.3388,\n",
      "         -0.7515, -0.3347, -0.7703, -0.2292, -0.3277, -0.3581,  0.5968,  0.1065,\n",
      "          0.4008,  0.7975, -0.5420, -0.7252,  0.7743,  0.5241, -1.0135,  1.1045,\n",
      "         -0.9202, -0.5903,  0.3161,  0.1186, -0.7008,  0.0684, -0.9047,  0.4646,\n",
      "          0.9820,  0.5076,  0.5421, -0.1286,  0.2927,  0.4102, -0.3204, -0.2568,\n",
      "         -1.0136,  0.5026,  0.3347,  0.1073,  0.3331, -0.3958,  0.5541, -0.7446,\n",
      "          0.7653, -0.5548, -0.4121, -0.5661, -0.1005, -0.4274,  1.5738, -0.0161,\n",
      "         -0.4870, -0.3474,  0.0301,  0.1000, -0.2672,  1.0769,  0.2298, -1.3681,\n",
      "          0.9118, -0.2162, -0.2045, -0.1228,  0.6591,  0.2663, -0.3929,  0.3022,\n",
      "          0.4462, -0.8000, -0.2286,  0.0954,  0.8200,  0.3994,  0.4426,  0.5865,\n",
      "         -0.5515,  0.2911,  0.9481, -0.9315,  0.8987, -0.7060,  0.3200, -0.0746,\n",
      "         -0.5113,  0.5292,  0.7781, -0.0754, -0.2274, -0.1190,  0.5055, -0.2200,\n",
      "          0.2127,  0.2989, -0.2898, -0.3203, -0.1393,  0.0229,  1.0932, -0.0060,\n",
      "          1.1902,  0.9079, -0.2163, -0.2635, -0.5229, -0.1986,  0.5354,  0.0902,\n",
      "          0.2822,  0.1657, -0.1331, -0.6243, -0.0049, -0.1202,  0.1877,  0.0299,\n",
      "         -0.6945, -0.4600,  0.0310, -1.3258,  1.3257,  0.5207, -0.1317,  0.6132,\n",
      "          0.3022, -0.8877, -0.2446, -0.5844, -0.1491,  0.4196, -0.6816, -0.4597,\n",
      "         -0.6502,  0.2576, -0.9086, -0.6689,  0.2079, -0.1279,  0.0402, -0.1550,\n",
      "         -0.1157,  0.2989, -0.3218, -0.0852, -0.7741, -0.6988, -0.0130,  0.0557,\n",
      "         -0.4864,  0.4067, -0.7675, -0.4103, -0.4424,  0.0131,  0.0687, -0.4770,\n",
      "         -0.2445, -0.3666,  0.3070, -0.2327,  0.8463,  0.6454, -0.2769, -0.8571,\n",
      "         -0.4176, -0.1025,  0.0840, -0.7087, -0.4640,  0.1725, -0.3735,  0.4310,\n",
      "         -0.0061,  0.2966, -0.9098, -1.2188, -0.0527,  0.2663,  0.5133,  0.2102,\n",
      "          0.0962,  0.8244, -0.2785, -0.6037, -0.8786, -0.2369, -0.2245,  0.6961,\n",
      "         -0.7898, -0.2309, -0.1648, -1.0660, -0.3010,  0.3121, -0.0441, -0.5681,\n",
      "         -0.8097, -1.0598,  0.0956,  0.5994,  1.4430,  0.4186, -0.5779, -2.4211,\n",
      "         -0.8602, -0.7368,  0.7118, -0.3513, -0.6845,  0.2346, -1.7452,  0.0356,\n",
      "         -0.6980, -0.4957, -0.5780, -0.1397,  0.0678,  0.5362,  1.1401, -1.0111,\n",
      "         -0.0887, -0.2666,  0.0484, -0.5300, -0.1520,  0.1459,  0.4667,  1.0140,\n",
      "         -0.7042,  0.1530,  0.6347, -0.8801, -0.3418,  0.9105, -0.4141,  0.4911,\n",
      "          0.4165, -0.9863, -0.0696,  0.5579, -1.1979, -0.2644,  0.2923,  0.1638]],\n",
      "       grad_fn=<AddmmBackward0>) torch.Size([1, 768])\n"
     ]
    }
   ],
   "source": [
    "import torch.nn as nn\n",
    "\n",
    "m = model.lm_head\n",
    "input = torch.randn(2048).unsqueeze(0)\n",
    "print(input)\n",
    "output = m(input)\n",
    "print(output, output.shape)"
   ]
  },
  {
   "cell_type": "code",
   "execution_count": 13,
   "metadata": {},
   "outputs": [
    {
     "data": {
      "text/plain": [
       "Parameter containing:\n",
       "tensor([[ 0.0214, -0.0098,  0.0198,  ...,  0.0061,  0.0228,  0.0089],\n",
       "        [-0.0070, -0.0275, -0.0021,  ...,  0.0172,  0.0036, -0.0223],\n",
       "        [ 0.0096, -0.0292, -0.0087,  ...,  0.0038, -0.0144,  0.0084],\n",
       "        ...,\n",
       "        [ 0.0282, -0.0086, -0.0042,  ...,  0.0147,  0.0013, -0.0266],\n",
       "        [ 0.0056, -0.0129,  0.0097,  ..., -0.0282, -0.0310,  0.0033],\n",
       "        [-0.0124, -0.0124,  0.0010,  ...,  0.0042, -0.0208,  0.0097]],\n",
       "       requires_grad=True)"
      ]
     },
     "execution_count": 13,
     "metadata": {},
     "output_type": "execute_result"
    }
   ],
   "source": [
    "model.lm_head.multihead_attn.out_proj.weight"
   ]
  },
  {
   "cell_type": "code",
   "execution_count": 9,
   "metadata": {},
   "outputs": [],
   "source": [
    "# define customized loss function\n",
    "import torch\n",
    "import torch.nn.functional as F\n",
    "\n",
    "# 1. embedding distance loss with L2 regularization\n",
    "def embedding_distance_loss_with_l2(predicted_emb, ground_truth_emb, model, l2_lambda=0.01):\n",
    "    # cosine similarity loss\n",
    "    cosine_sim = F.cosine_similarity(predicted_emb, ground_truth_emb, dim=-1)\n",
    "    # converting similarity to a loss (minimizing negative similarity)\n",
    "    cosine_sim_loss = 1 - cosine_sim.mean()\n",
    "    # L2 regularization\n",
    "    l2_reg = sum(param.pow(2.0).sum() for param in model.parameters())\n",
    "    # total loss\n",
    "    loss = cosine_sim_loss + l2_lambda * l2_reg\n",
    "    \n",
    "    return loss\n",
    "\n",
    "# 2. triplet loss\n",
    "def triplet_loss(anchor, positive, negative, margin=1.0):\n",
    "    # compute distances\n",
    "    pos_dist = F.cosine_embedding_loss(anchor, positive, torch.tensor(1.0))\n",
    "    neg_dist = F.cosine_embedding_loss(anchor, negative, torch.tensor(-1.0))\n",
    "    # compute triplet loss\n",
    "    loss = F.relu(pos_dist - neg_dist + margin)\n",
    "    \n",
    "    return loss.mean()"
   ]
  },
  {
   "cell_type": "code",
   "execution_count": 7,
   "metadata": {},
   "outputs": [
    {
     "data": {
      "text/plain": [
       "(tensor([[1., 1., 1., 1., 1., 1., 1., 1., 1., 1., 1., 1., 1., 1., 1., 1., 1., 1.,\n",
       "          1., 1., 1., 1., 1., 1., 1.],\n",
       "         [1., 1., 1., 1., 1., 1., 1., 1., 1., 1., 1., 1., 1., 1., 1., 1., 1., 1.,\n",
       "          1., 1., 1., 1., 0., 0., 0.],\n",
       "         [1., 1., 1., 1., 1., 1., 1., 1., 1., 1., 1., 1., 1., 1., 1., 0., 0., 0.,\n",
       "          0., 0., 0., 0., 0., 0., 0.]]),\n",
       " torch.Size([3, 25]))"
      ]
     },
     "execution_count": 7,
     "metadata": {},
     "output_type": "execute_result"
    }
   ],
   "source": [
    "import torch\n",
    "\n",
    "a = torch.ones(25) # a = torch.ones(1, 25)\n",
    "b = torch.ones(22) # b = torch.ones(1, 22)\n",
    "c = torch.ones(15) # c = torch.ones(1, 15)\n",
    "batch = torch.nn.utils.rnn.pad_sequence(tuple([a, b, c]), batch_first=True, padding_value=0)\n",
    "batch, batch.size()"
   ]
  },
  {
   "cell_type": "code",
   "execution_count": 10,
   "metadata": {},
   "outputs": [],
   "source": [
    "from torch.nn.utils.rnn import pad_sequence\n",
    "\n",
    "def collate_fn(batch):\n",
    "    inputs = [item['input'][0] for item in batch]\n",
    "    ground_truth_embs = [item['output'] for item in batch]\n",
    "\n",
    "    # Pad sequences to the same length\n",
    "    padded_inputs = pad_sequence(inputs, batch_first=True, padding_value=0)\n",
    "    padded_ground_truth_embs = pad_sequence(ground_truth_embs, batch_first=True, padding_value=0)\n",
    "    # len_to_be_padded = hyper_params[\"max_seq_length\"] - len(inputs[0])\n",
    "    # padded_inputs = torch.nn.functional.pad(tensor, (0, len_to_be_padded), \"constant\", 0)\n",
    "\n",
    "    return padded_inputs, padded_ground_truth_embs"
   ]
  },
  {
   "cell_type": "code",
   "execution_count": null,
   "metadata": {},
   "outputs": [],
   "source": [
    "import torch\n",
    "from torch import nn, optim, zeros\n",
    "from torch.utils.data import DataLoader\n",
    "from transformers import get_cosine_schedule_with_warmup\n",
    "\n",
    "train_loader = DataLoader(tokenized_train_dataset.with_format(\"torch\"), batch_size=4, shuffle=True, collate_fn=collate_fn)\n",
    "val_loader = DataLoader(tokenized_eval_dataset.with_format(\"torch\"), batch_size=4, shuffle=False, collate_fn=collate_fn)\n",
    "device = torch.device('cuda' if torch.cuda.is_available() else 'cpu')\n",
    "\n",
    "optimizer = optim.AdamW(model.parameters(), lr=0.001, weight_decay=0.01)\n",
    "\n",
    "# Scheduler with warmup\n",
    "num_train_steps_per_epoch = len(train_loader)\n",
    "num_epochs = 1\n",
    "total_train_steps = num_train_steps_per_epoch * num_epochs\n",
    "scheduler = get_cosine_schedule_with_warmup(optimizer, num_warmup_steps=25, num_training_steps=total_train_steps, num_cycles=2)\n",
    "\n",
    "l2_lambda = 0.01  # L2 regularization weight\n",
    "\n",
    "# Evaluation function\n",
    "def evaluate(model, val_loader, device, l2_lambda):\n",
    "    model.eval()\n",
    "    total_loss = 0.0\n",
    "    with torch.no_grad():\n",
    "        for inputs, ground_truth_embs in val_loader:\n",
    "            input_tensors = inputs.to(device)\n",
    "            ground_truth_embs = ground_truth_embs.to(device)\n",
    "            \n",
    "            predicted_embs = model(input_tensors)\n",
    "            loss = embedding_distance_loss_with_l2(predicted_embs, ground_truth_embs, model, l2_lambda)\n",
    "            \n",
    "            total_loss += loss.item()\n",
    "    \n",
    "    avg_loss = total_loss / len(val_loader)\n",
    "    return avg_loss\n",
    "\n",
    "# Training loop\n",
    "for epoch in range(num_epochs):\n",
    "    model.train()\n",
    "    total_loss = 0.0\n",
    "    for inputs, ground_truth_embs in train_loader:  # each batch contains a tuple (inputs, ground_truth_emb)\n",
    "        input_tensors = inputs.to(device)\n",
    "        ground_truth_emb = ground_truth_embs.to(device)\n",
    "        \n",
    "        optimizer.zero_grad()\n",
    "        \n",
    "        # Forward pass\n",
    "        predicted_emb = model(input_tensors)\n",
    "        \n",
    "        # Compute loss\n",
    "        loss = embedding_distance_loss_with_l2(predicted_emb.logits, ground_truth_emb, model, l2_lambda)\n",
    "        \n",
    "        # Backward pass and optimization\n",
    "        loss.backward()\n",
    "        optimizer.step()\n",
    "        \n",
    "        total_loss += loss.item()\n",
    "    \n",
    "    # Step the scheduler\n",
    "    scheduler.step()\n",
    "    \n",
    "    avg_train_loss = total_loss / len(train_loader)\n",
    "    avg_val_loss = evaluate(model, val_loader, device, l2_lambda)\n",
    "    \n",
    "    print(f'Epoch [{epoch+1}/{num_epochs}], Train Loss: {avg_train_loss:.4f}, Val Loss: {avg_val_loss:.4f}')\n",
    "\n",
    "print(\"Training completed.\")"
   ]
  },
  {
   "cell_type": "code",
   "execution_count": 4,
   "metadata": {},
   "outputs": [
    {
     "name": "stdout",
     "output_type": "stream",
     "text": [
      "Model and log history loaded successfully.\n"
     ]
    }
   ],
   "source": [
    "# load results\n",
    "# -------------------------------------------------\n",
    "# model loading example:\n",
    "import torch\n",
    "\n",
    "# Path to the saved checkpoint\n",
    "model_save_path = \"outputs/distance_based_loss_checkpoint_20240517_074628/final_model_checkpoint.pth\"\n",
    "\n",
    "# Load the checkpoint\n",
    "checkpoint = torch.load(model_save_path)\n",
    "\n",
    "# Retrieve the saved log history\n",
    "log_history = checkpoint['log_history']\n",
    "\n",
    "# Restore the model state\n",
    "# model.load_state_dict(checkpoint['model_state_dict'])\n",
    "\n",
    "print(\"Model and log history loaded successfully.\")\n",
    "\n",
    "# Now you can access the log history\n",
    "train_losses = log_history['train_loss']\n",
    "eval_losses = log_history['eval_loss']\n",
    "\n",
    "# print(\"Train loss history:\", train_loss_history)\n",
    "# print(\"Eval loss history:\", eval_loss_history)"
   ]
  },
  {
   "cell_type": "code",
   "execution_count": 6,
   "metadata": {},
   "outputs": [
    {
     "data": {
      "image/png": "[encoded data removed]",
      "text/plain": [
       "<Figure size 1000x600 with 1 Axes>"
      ]
     },
     "metadata": {},
     "output_type": "display_data"
    }
   ],
   "source": [
    "import matplotlib.pyplot as plt\n",
    "\n",
    "# plot log_history\n",
    "# Sorting values by steps to align the data points correctly\n",
    "train_losses.sort(key=lambda x: x[0])\n",
    "eval_losses.sort(key=lambda x: x[0])\n",
    "\n",
    "# Plotting\n",
    "plt.figure(figsize=(10, 6))\n",
    "# Unzipping for plotting\n",
    "if eval_losses != []:\n",
    "    train_steps, train_loss_values = zip(*train_losses)\n",
    "    eval_steps, eval_loss_values = zip(*eval_losses)\n",
    "    plt.plot(train_steps, train_loss_values, label='Training Loss', marker='o')\n",
    "    plt.plot(eval_steps, eval_loss_values, label='Evaluation Loss', marker='x')\n",
    "else:\n",
    "    train_steps, train_loss_values = zip(*train_losses)\n",
    "    plt.plot(train_steps, train_loss_values, label='Training Loss', marker='o')\n",
    "\n",
    "plt.xlabel('Steps')\n",
    "plt.ylabel('Loss')\n",
    "plt.title('Loss Over Steps')\n",
    "plt.legend()\n",
    "plt.grid(True)\n",
    "plt.show()"
   ]
  },
  {
   "cell_type": "code",
   "execution_count": 23,
   "metadata": {},
   "outputs": [
    {
     "data": {
      "text/plain": [
       "torch.Size([1, 768])"
      ]
     },
     "execution_count": 23,
     "metadata": {},
     "output_type": "execute_result"
    }
   ],
   "source": [
    "prompt_template = \"<start_of_turn>user\\n{}<end_of_turn>\\n<start_of_turn>model\\n{}\"\n",
    "\n",
    "# input = \"Hello, I am looking for a movie that will make me feel happy and excited. I love action movies with a lot of suspense and thrill. I also enjoy movies with a lot of drama and romance. Can you recommend a movie that will make me feel happy and excited? And please explain why you recommend this movie.\"\n",
    "input = \"Below is the previous historical purchases and reviews of the user:\\n```\\nItem title: The Gathering \\n Item description: Product Description Gathering, The (1976 TVM) (DVD) Edward Asner and Maureen Stapleton star in this poignant and heartwarming story of the reconciliation between a successful businessman and the family he long ago abandoned to pursue a career. When Adam Thornton (Asner) learns that he is terminally ill, his estranged wife (Stapleton) insists that he spend one last Christmas with his now-adult children. Adam agrees--but insists that they not know of his illness. Now, in an idyllic, snow-covered New England town, the Thornton family tries to find reunion before it is too late. ]]> Amazon.com A fondly remembered holiday item from the latter phase of a great age of TV movies, The Gathering has an irresistible idea and a splendid central performance from Edward Asner, the actor for whom the term gruff but lovable was surely coined. We learn in the opening seconds of the film that Asner's character, a well-to-do businessman named Adam Thornton, has been diagnosed with a terminal illness; he's got three months left, at best. Time to make amends, and Adam reaches out to his ex-wife (Maureen Stapleton) and his mostly estranged kids for a final Christmas gathering. You won't find many surprises along the way, but the script by veteran screenwriter James Poe takes time for the small things, and gives Asner a believably conflicted character to play. It's directed by Randal Kleiser, who was just a year away from jumping to a big-screen career and scoring a smash with Grease . There's also some interest in watching a batch of young actors in the early stages of their careers: Bruce Davison, Gregory Harrison, Veronica Hamel, and Stephanie Zimbalist are in the Thornton extended family. If The Gathering has the basic look and feel of a TV movie (with wintry location work in Ohio), it nevertheless creates an honest, earned glow as it sorts through one man's final accounting of what has mattered in his life. --Robert Horton \\n rating: 5.0 \\n review: This version is an OFFICIAL release by MGM studios with closed captioning.<br /><br />Yes the movie looks a little dated, the clothes, the cars, etc...but that's just the external stuff.<br /><br />The story itself is timeless.<br /><br />It's nice to finally have on dvd with captions.  Thanks MGM and Amazon.-------\\nItem title: 84 Charing Cross Road \\n Item description: An American writer forms an enduring relationship with a London bookseller which is carried on over 20 years and across two continents. Genre: Feature Film-Drama Rating: PG Release Date: 23-SEP-2003 Media Type: DVD \\n rating: 5.0 \\n review: I bought the book because of  this movie.  Even when I read it I hear the voices of the these two wonderful actors.-------\\nPlease infer the user's preference based on historical purchases and reviews, and then recommend an item for this user. Please just give the title of the recommended item.\"\n",
    "# input = \"hello, can you recommend me a random movie? Maybe a romantic one? And please describe the reason why you recommend this movie.\"\n",
    "\n",
    "inputs = tokenizer(\n",
    "[\n",
    "    # \"### Input:\\n{inputs}\\n\\n### Response:{outputs}\".format(inputs= input, outputs= \"\"),\n",
    "    # \"{inputs}\".format(inputs= input),\n",
    "    prompt_template.format(input, \"\"),    \n",
    "], return_tensors = \"pt\").to(\"cuda\")\n",
    "\n",
    "model(**inputs).loss['logits'][-1].shape"
   ]
  }
 ],
 "metadata": {
  "kernelspec": {
   "display_name": "unsloth_env",
   "language": "python",
   "name": "python3"
  },
  "language_info": {
   "codemirror_mode": {
    "name": "ipython",
    "version": 3
   },
   "file_extension": ".py",
   "mimetype": "text/x-python",
   "name": "python",
   "nbconvert_exporter": "python",
   "pygments_lexer": "ipython3",
   "version": "3.10.14"
  }
 },
 "nbformat": 4,
 "nbformat_minor": 2
}
